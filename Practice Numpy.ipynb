{
 "cells": [
  {
   "cell_type": "markdown",
   "id": "33489d89-d37b-4d2d-81d9-1e8bd2bcc275",
   "metadata": {},
   "source": [
    "# Numpy:"
   ]
  },
  {
   "cell_type": "markdown",
   "id": "9c00add6-3155-4809-89b0-24d22bcb5eaa",
   "metadata": {},
   "source": [
    "Numpy is a low level library written in C & Fortrand for high level mathematical functions.\n",
    "Numpy is use to overcomes the problem of running slower algorithms on running python by\n",
    "using multidimensional arrays and functions that operate on arrays.Algorithm can\n",
    "expressed as a function on arrays, allowing the algorithms to be run quickly.\n"
   ]
  },
  {
   "cell_type": "markdown",
   "id": "e8726dcc-10ee-460d-a2b0-910855ef8601",
   "metadata": {},
   "source": [
    "# Why NumPy is Faster than Python Lists:"
   ]
  },
  {
   "cell_type": "markdown",
   "id": "a5d57567-bdf1-4543-9588-e331a44e91d4",
   "metadata": {},
   "source": [
    "# 1. Continuous Memory (Compact Storage)"
   ]
  },
  {
   "cell_type": "markdown",
   "id": "9692d074-264f-400a-97b0-302e410cd54c",
   "metadata": {},
   "source": [
    "* Python List → Stores elements in different places in memory and only keeps references.\n",
    "* NumPy Array → Stores elements next to each other in memory (like a C array). This makes\n",
    "access much faster."
   ]
  },
  {
   "cell_type": "code",
   "execution_count": 1,
   "id": "e59d4d8a-6201-45c2-a7fe-97718a6f7de4",
   "metadata": {},
   "outputs": [],
   "source": [
    "import numpy as np"
   ]
  },
  {
   "cell_type": "code",
   "execution_count": 3,
   "id": "48bea688-897c-423d-ba5c-420f0298730d",
   "metadata": {},
   "outputs": [
    {
     "name": "stdout",
     "output_type": "stream",
     "text": [
      "Python list element addresses:\n",
      "140724303934376\n",
      "140724303934408\n",
      "140724303934440\n",
      "140724303934472\n",
      "140724303934504\n",
      "\n",
      "NumPy array element addresses:\n",
      "(1701424780960, False)\n"
     ]
    }
   ],
   "source": [
    "py_list=[1,2,3,4,5]\n",
    "np_array=np.array([1,2,3,4,5])\n",
    "print(\"Python list element addresses:\")\n",
    "for x in py_list:\n",
    "    print(id(x))\n",
    "    \n",
    "print(\"\\nNumPy array element addresses:\")\n",
    "print(np_array.__array_interface__[\"data\"])\n",
    "\n"
   ]
  },
  {
   "cell_type": "markdown",
   "id": "117ffdcd-7600-45a9-8e5b-56875e2505ae",
   "metadata": {},
   "source": [
    "# 2. Vectorization (No Loops in Python) spark\n"
   ]
  },
  {
   "cell_type": "markdown",
   "id": "263f5e01-959a-4b55-a923-7aeb6b77996a",
   "metadata": {},
   "source": [
    "* Python List → You must use loops.\n",
    "* NumPy Array → Can apply operations to the whole array at once. Internally, NumPy uses\n",
    "fast C code, not slow Python loops"
   ]
  },
  {
   "cell_type": "code",
   "execution_count": 4,
   "id": "69166e96-a7ed-445f-9cf0-94012316335e",
   "metadata": {},
   "outputs": [
    {
     "name": "stdout",
     "output_type": "stream",
     "text": [
      "Python List: [2, 4, 6, 8, 10]\n",
      "Numpy Array [ 2  4  6  8 10]\n"
     ]
    }
   ],
   "source": [
    "# Python list with normal for loop\n",
    "list_data=[1,2,3,4,5]\n",
    "list_result=[]\n",
    "for x in list_data:\n",
    "    list_result.append(x*2)\n",
    "print(\"Python List:\",list_result)\n",
    "\n",
    "# NumPy array (vectorized)\n",
    "np_array=np.array([1,2,3,4,5])\n",
    "np_data=np_array*2\n",
    "print(\"Numpy Array\",np_data)"
   ]
  },
  {
   "cell_type": "markdown",
   "id": "60031b6f-35a5-417b-966f-8a604cfd6f43",
   "metadata": {},
   "source": [
    "# 3. Same Data Type (Homogeneous Data):\n"
   ]
  },
  {
   "cell_type": "markdown",
   "id": "36bc42bd-f0d2-4fba-8c8d-5ce58cdca711",
   "metadata": {},
   "source": [
    "* Python List → Can store mixed types, e.g. [1, \"hello\", 3.5]. That means Python must check\n",
    "the type of each element again and again.\n",
    "\n",
    "* NumPy Array → Stores only one compact data\n",
    "type (common type of all elements). This makes operations much faster."
   ]
  },
  {
   "cell_type": "code",
   "execution_count": 8,
   "id": "44bd3c08-fd05-48f6-accf-6b7c1be09df1",
   "metadata": {},
   "outputs": [
    {
     "name": "stdout",
     "output_type": "stream",
     "text": [
      "Python list types: [<class 'int'>, <class 'str'>, <class 'bool'>, <class 'int'>, <class 'float'>, <class 'int'>, <class 'str'>]\n",
      "Numpy Array types: int64\n"
     ]
    }
   ],
   "source": [
    "py_list=[1,\"Hello\",True,22,56.66,900,\"p\"]\n",
    "np_array=np.array([1,2,3,4,5,6])\n",
    "Type_list=[]\n",
    "for x in py_list:\n",
    "    Type_list.append(type(x))\n",
    "print(\"Python list types:\",Type_list)\n",
    "print(\"Numpy Array types:\",np_array.dtype)\n",
    "\n",
    "\n",
    "\n"
   ]
  },
  {
   "cell_type": "markdown",
   "id": "5447a0f3-0b91-456d-9862-92e41ceda170",
   "metadata": {},
   "source": [
    "# What happens if we put mixed data types in a NumPy array?"
   ]
  },
  {
   "cell_type": "markdown",
   "id": "4dd3c4e3-4e07-4430-b91b-ba42bc12f736",
   "metadata": {},
   "source": [
    "Unlike Python lists (which can hold elements of different types without any issue), NumPy\n",
    "arrays always enforce a single data type for all elements.If you mix different types, NumPy\n",
    "will automatically convert all elements to one common type that can fit everything."
   ]
  },
  {
   "cell_type": "code",
   "execution_count": 11,
   "id": "3d88958f-b960-4e10-ab55-61dd94def2a3",
   "metadata": {},
   "outputs": [
    {
     "name": "stdout",
     "output_type": "stream",
     "text": [
      "['1' '2' 'hello' '3']\n",
      "Array dtype:  <U21\n"
     ]
    }
   ],
   "source": [
    "#Example 1 ---> int + str\n",
    "np_array=np.array([1,2,\"hello\",3])\n",
    "\n",
    "print(np_array)\n",
    "print(\"Array dtype: \",np_array.dtype)\n",
    "\n",
    "\n",
    "# The integers (1, 2, 3) were converted into strings ('1', '2', '3').\n",
    "# NumPy decided the final type should be string, because a string can represent both integer & float\n",
    "# <U11 means “Unicode string of maximum length 21”."
   ]
  },
  {
   "cell_type": "code",
   "execution_count": 15,
   "id": "dd1faa15-5c38-45b6-852a-49a3f59cbf0f",
   "metadata": {},
   "outputs": [
    {
     "name": "stdout",
     "output_type": "stream",
     "text": [
      "Array: [1.22 1.   3.   7.   5.5 ]\n",
      "Array dtype:  float64\n"
     ]
    }
   ],
   "source": [
    "# Example 2 ----> float + int\n",
    "np_array1=np.array([1.22,1,3,7,5.5])\n",
    "\n",
    "print(\"Array:\",np_array1)\n",
    "print(\"Array dtype: \",np_array1.dtype)\n",
    "\n",
    "\n",
    "# The integers (1, 2, 4) were converted into floats (1.0, 2.0, 4.0).\n",
    "# NumPy chose float64 because floats can hold decimal values, and they can also hold interger\n"
   ]
  },
  {
   "cell_type": "code",
   "execution_count": 17,
   "id": "4e0adfe8-4e5a-40af-908e-2d5864f3e64b",
   "metadata": {},
   "outputs": [
    {
     "name": "stdout",
     "output_type": "stream",
     "text": [
      "Array: [1 1 3 7 0]\n",
      "Array dtype:  int64\n"
     ]
    }
   ],
   "source": [
    "# Example 3 -----> int + bool\n",
    "np_array2=np.array([1,True,3,7,False])\n",
    "\n",
    "print(\"Array:\",np_array2)\n",
    "print(\"Array dtype: \",np_array2.dtype)\n",
    "\n",
    "\n",
    "# True was converted to 1, and False was converted to 0.\n",
    "# NumPy chose int64, since integers can represent both numbers and booleans.\n"
   ]
  },
  {
   "cell_type": "markdown",
   "id": "422082e2-d532-487f-b87e-e58d674930b5",
   "metadata": {},
   "source": [
    "# 1. Creating Numpy Array"
   ]
  },
  {
   "cell_type": "code",
   "execution_count": 2,
   "id": "6653308b-253d-4942-bccb-c48e30f46daf",
   "metadata": {},
   "outputs": [],
   "source": [
    "# import numpy library\n",
    "import numpy as np"
   ]
  },
  {
   "cell_type": "code",
   "execution_count": 3,
   "id": "ae4cd6ac-7062-413a-b8a0-b3d7de8d6927",
   "metadata": {},
   "outputs": [
    {
     "name": "stdout",
     "output_type": "stream",
     "text": [
      "[1 2 3 4 5]\n",
      "<class 'numpy.ndarray'>\n"
     ]
    }
   ],
   "source": [
    "#creating numpy array\n",
    "arr=np.array([1,2,3,4,5]) #convert list to numy array\n",
    "\n",
    "#vector\n",
    "print(arr)\n",
    "print(type(arr))\n"
   ]
  },
  {
   "cell_type": "code",
   "execution_count": 4,
   "id": "85d33103-3b22-440d-a421-2b0dba76446f",
   "metadata": {},
   "outputs": [
    {
     "name": "stdout",
     "output_type": "stream",
     "text": [
      "[[1 2 3]\n",
      " [4 5 6]]\n",
      "<class 'numpy.ndarray'>\n"
     ]
    }
   ],
   "source": [
    "# creating 2D array\n",
    "arr1=np.array([[1,2,3],[4,5,6]])\n",
    "\n",
    "print(arr1)\n",
    "print(type(arr1))"
   ]
  },
  {
   "cell_type": "code",
   "execution_count": 5,
   "id": "ae195eb5-0150-4abb-8aa7-a9b19c0f541d",
   "metadata": {},
   "outputs": [
    {
     "name": "stdout",
     "output_type": "stream",
     "text": [
      "[[0. 0. 0.]\n",
      " [0. 0. 0.]]\n"
     ]
    }
   ],
   "source": [
    "# creating array of zeros\n",
    "arr2=np.zeros((2,3)) #--->2Row & 3column\n",
    "print(arr2)\n"
   ]
  },
  {
   "cell_type": "code",
   "execution_count": 6,
   "id": "ea11af8d-cf84-45d5-81e6-fc28df877198",
   "metadata": {},
   "outputs": [
    {
     "name": "stdout",
     "output_type": "stream",
     "text": [
      "[[0. 0. 0. 0.]\n",
      " [0. 0. 0. 0.]\n",
      " [0. 0. 0. 0.]]\n"
     ]
    }
   ],
   "source": [
    "arr3=np.zeros((3,4)) # (3,4) ---> 3 rows, 4 columns\n",
    "print(arr3)\n"
   ]
  },
  {
   "cell_type": "code",
   "execution_count": 7,
   "id": "5fe7b2c1-b033-4e14-becd-551045633cb9",
   "metadata": {},
   "outputs": [
    {
     "name": "stdout",
     "output_type": "stream",
     "text": [
      "[[1. 1. 1. 1.]\n",
      " [1. 1. 1. 1.]\n",
      " [1. 1. 1. 1.]]\n"
     ]
    }
   ],
   "source": [
    "# creating array of ones\n",
    "arr4=np.ones((3,4)) #---> 3 rows, 4 columns\n",
    "print(arr4)"
   ]
  },
  {
   "cell_type": "code",
   "execution_count": 8,
   "id": "7fd3f387-01bc-40c4-b369-a15361893805",
   "metadata": {},
   "outputs": [
    {
     "name": "stdout",
     "output_type": "stream",
     "text": [
      "[[1. 0. 0. 0. 0.]\n",
      " [0. 1. 0. 0. 0.]\n",
      " [0. 0. 1. 0. 0.]\n",
      " [0. 0. 0. 1. 0.]\n",
      " [0. 0. 0. 0. 1.]]\n"
     ]
    }
   ],
   "source": [
    "# creating identity matrics\n",
    "arr5=np.identity((5))\n",
    "print(arr5)"
   ]
  },
  {
   "cell_type": "code",
   "execution_count": 9,
   "id": "97c976fe-1b2b-4357-9eb4-36cb007ec8de",
   "metadata": {},
   "outputs": [
    {
     "name": "stdout",
     "output_type": "stream",
     "text": [
      "[0 1 2 3 4 5 6 7 8 9]\n",
      "<class 'numpy.ndarray'>\n"
     ]
    }
   ],
   "source": [
    "# creating array using arange\n",
    "# arange ----> counter of range function of python\n",
    "arr6=np.arange(10)\n",
    "\n",
    "print(arr6)\n",
    "print(type(arr6))"
   ]
  },
  {
   "cell_type": "code",
   "execution_count": 10,
   "id": "02cd1afd-ddb9-4eb5-a201-8033a7bd6434",
   "metadata": {},
   "outputs": [
    {
     "name": "stdout",
     "output_type": "stream",
     "text": [
      "[10 11 12 13 14 15 16 17 18 19 20 21 22 23 24]\n"
     ]
    }
   ],
   "source": [
    "# creating array using arange\n",
    "arr6=np.arange(10,25)\n",
    "\n",
    "print(arr6)"
   ]
  },
  {
   "cell_type": "code",
   "execution_count": 11,
   "id": "c2e024df-16a1-4976-8729-561b4d6c922f",
   "metadata": {},
   "outputs": [
    {
     "name": "stdout",
     "output_type": "stream",
     "text": [
      "[10 12 14 16 18 20 22 24]\n"
     ]
    }
   ],
   "source": [
    "# creating array using arange\n",
    "arr6=np.arange(10,25,2)\n",
    "\n",
    "print(arr6)"
   ]
  },
  {
   "cell_type": "code",
   "execution_count": 12,
   "id": "a219559b-a391-4521-816e-75481b62953f",
   "metadata": {},
   "outputs": [
    {
     "name": "stdout",
     "output_type": "stream",
     "text": [
      "[ 0.          2.22222222  4.44444444  6.66666667  8.88888889 11.11111111\n",
      " 13.33333333 15.55555556 17.77777778 20.        ]\n"
     ]
    }
   ],
   "source": [
    "# creating array using linspace ----> useto make equi-distance between the element\n",
    "arr7=np.linspace(0,20,10)\n",
    "\n",
    "print(arr7)"
   ]
  },
  {
   "cell_type": "code",
   "execution_count": 13,
   "id": "6211c283-453f-4dde-93b4-d5fb7505a822",
   "metadata": {},
   "outputs": [
    {
     "name": "stdout",
     "output_type": "stream",
     "text": [
      "[ 4.  8. 12. 16. 20.]\n"
     ]
    }
   ],
   "source": [
    "# creating array using linspace ----> useto make equi-distance between the element\n",
    "arr7=np.linspace(4,20,5)\n",
    "\n",
    "print(arr7)"
   ]
  },
  {
   "cell_type": "markdown",
   "id": "0be37406-f16c-441a-b01b-85e3c2b7d08f",
   "metadata": {},
   "source": [
    "# 2. Numpy Array Properties & Attributes\n"
   ]
  },
  {
   "cell_type": "markdown",
   "id": "494bd49c-eb43-4513-84cb-cad4d9e7b52c",
   "metadata": {},
   "source": [
    "# shape"
   ]
  },
  {
   "cell_type": "code",
   "execution_count": 14,
   "id": "3f9a2aa2-cb01-4d52-868f-ffb603690932",
   "metadata": {},
   "outputs": [
    {
     "name": "stdout",
     "output_type": "stream",
     "text": [
      "[1 2 3 4 5]\n",
      "(5,)\n"
     ]
    }
   ],
   "source": [
    "# find shape of array ----> return the dimension of array (rows, columns)\n",
    "\n",
    "print(arr) #array has 5 elements in one dimension.\n",
    "print(arr.shape)"
   ]
  },
  {
   "cell_type": "code",
   "execution_count": 15,
   "id": "c569b83a-ff10-4611-bfd2-2fd7b370d3f3",
   "metadata": {},
   "outputs": [
    {
     "name": "stdout",
     "output_type": "stream",
     "text": [
      "[[1. 1. 1. 1.]\n",
      " [1. 1. 1. 1.]\n",
      " [1. 1. 1. 1.]]\n",
      "\n",
      "(3, 4)\n"
     ]
    }
   ],
   "source": [
    "print(arr4) # (3 rows,4 columns)\n",
    "\n",
    "print()\n",
    "\n",
    "print(arr4.shape)"
   ]
  },
  {
   "cell_type": "code",
   "execution_count": 16,
   "id": "2b0e5de0-1512-4b13-bb5a-6af74d5b8619",
   "metadata": {},
   "outputs": [
    {
     "name": "stdout",
     "output_type": "stream",
     "text": [
      "[[[1 2]\n",
      "  [3 4]]\n",
      "\n",
      " [[5 6]\n",
      "  [7 8]]]\n",
      "(2, 2, 2)\n"
     ]
    }
   ],
   "source": [
    "# creating multidimensional array space\n",
    "arr8=np.array([[[1,2],[3,4]],[[5,6],[7,8]]])\n",
    "\n",
    "print(arr8)\n",
    "print(arr8.shape) #(2 rows, 2 columns, 2 matrices)\n",
    "\n",
    "\n"
   ]
  },
  {
   "cell_type": "markdown",
   "id": "9761ce1f-b32d-47ee-97e4-423d218de95b",
   "metadata": {},
   "source": [
    "# ndim\n"
   ]
  },
  {
   "cell_type": "code",
   "execution_count": 17,
   "id": "cb40b64c-f8d6-4c24-82a6-5ddb05cd5520",
   "metadata": {},
   "outputs": [
    {
     "name": "stdout",
     "output_type": "stream",
     "text": [
      "[[[1 2]\n",
      "  [3 4]]\n",
      "\n",
      " [[5 6]\n",
      "  [7 8]]]\n",
      "3\n"
     ]
    }
   ],
   "source": [
    "#ndim -----> return the dimension of numpy array\n",
    "print(arr8)\n",
    "print(arr8.ndim)\n"
   ]
  },
  {
   "cell_type": "code",
   "execution_count": 45,
   "id": "9f4b802e-d268-4f38-b81b-33489ecb97ed",
   "metadata": {},
   "outputs": [
    {
     "name": "stdout",
     "output_type": "stream",
     "text": [
      "[[1. 0. 0. 0. 0.]\n",
      " [0. 1. 0. 0. 0.]\n",
      " [0. 0. 1. 0. 0.]\n",
      " [0. 0. 0. 1. 0.]\n",
      " [0. 0. 0. 0. 1.]]\n",
      "2\n"
     ]
    }
   ],
   "source": [
    "#ndim -----> return the dimension of numpy array\n",
    "\n",
    "print(arr5)\n",
    "print(arr5.ndim)\n"
   ]
  },
  {
   "cell_type": "markdown",
   "id": "bf197dfe-b9c5-4ec0-8d14-a725cc333a30",
   "metadata": {},
   "source": [
    "#  size"
   ]
  },
  {
   "cell_type": "code",
   "execution_count": 46,
   "id": "71806cfc-d969-4a96-aece-69a0b8945fce",
   "metadata": {},
   "outputs": [
    {
     "name": "stdout",
     "output_type": "stream",
     "text": [
      "[[[1 2]\n",
      "  [3 4]]\n",
      "\n",
      " [[5 6]\n",
      "  [7 8]]]\n",
      "8\n"
     ]
    }
   ],
   "source": [
    "#size ---->return number of items\n",
    "print(arr8)\n",
    "print(arr8.size)"
   ]
  },
  {
   "cell_type": "markdown",
   "id": "76986e72-0a95-4f8d-8dd0-0b9642af0d6d",
   "metadata": {},
   "source": [
    "# itemsize\n"
   ]
  },
  {
   "cell_type": "code",
   "execution_count": 48,
   "id": "bbffbc63-5f5c-409b-9474-bb61833dc063",
   "metadata": {},
   "outputs": [
    {
     "name": "stdout",
     "output_type": "stream",
     "text": [
      "[[[1 2]\n",
      "  [3 4]]\n",
      "\n",
      " [[5 6]\n",
      "  [7 8]]]\n",
      "8\n"
     ]
    }
   ],
   "source": [
    "#itemsize ----> return how much memory each array element uses in bytes.\n",
    "\n",
    "print(arr8)\n",
    "print(arr8.itemsize)"
   ]
  },
  {
   "cell_type": "markdown",
   "id": "029d6ef7-c87d-44f6-b925-8b1cc755238f",
   "metadata": {},
   "source": [
    "# dtype"
   ]
  },
  {
   "cell_type": "code",
   "execution_count": 50,
   "id": "472d32fa-7f05-4a22-81a9-f7328f295337",
   "metadata": {},
   "outputs": [
    {
     "name": "stdout",
     "output_type": "stream",
     "text": [
      "[[[1 2]\n",
      "  [3 4]]\n",
      "\n",
      " [[5 6]\n",
      "  [7 8]]]\n",
      "int64\n"
     ]
    }
   ],
   "source": [
    "#dtype ----> return data-type of array\n",
    "\n",
    "print(arr8)\n",
    "print(arr8.dtype)\n",
    "\n"
   ]
  },
  {
   "cell_type": "markdown",
   "id": "13a01053-dd1d-4868-b116-6fde39b18df2",
   "metadata": {},
   "source": [
    "# astype"
   ]
  },
  {
   "cell_type": "code",
   "execution_count": 52,
   "id": "98ff817d-917d-4709-955b-318a3c6e4149",
   "metadata": {},
   "outputs": [
    {
     "name": "stdout",
     "output_type": "stream",
     "text": [
      "[[[1 2]\n",
      "  [3 4]]\n",
      "\n",
      " [[5 6]\n",
      "  [7 8]]]\n",
      "int64\n",
      "[[[1. 2.]\n",
      "  [3. 4.]]\n",
      "\n",
      " [[5. 6.]\n",
      "  [7. 8.]]]\n",
      "[[[1 2]\n",
      "  [3 4]]\n",
      "\n",
      " [[5 6]\n",
      "  [7 8]]]\n"
     ]
    }
   ],
   "source": [
    "#astype ----> use to convert the data type of array\n",
    "\n",
    "print(arr8)\n",
    "print(arr8.dtype)\n",
    "\n",
    "print(arr8.astype(\"float\"))\n",
    "print(arr8)\n"
   ]
  },
  {
   "cell_type": "markdown",
   "id": "6523bf1d-b8a0-4e12-9f23-ce43410f9c67",
   "metadata": {},
   "source": [
    "# List Vs Numpy-Array:\n"
   ]
  },
  {
   "cell_type": "markdown",
   "id": "c4ceeb80-c543-475b-bd55-5ee9287cb848",
   "metadata": {},
   "source": [
    "* Less Memory"
   ]
  },
  {
   "cell_type": "code",
   "execution_count": 53,
   "id": "56040750-8969-4b78-9d87-6768d99ec049",
   "metadata": {},
   "outputs": [],
   "source": [
    "import sys"
   ]
  },
  {
   "cell_type": "code",
   "execution_count": 55,
   "id": "e61561da-5398-4ef6-a33e-e4c4d72cbeca",
   "metadata": {},
   "outputs": [
    {
     "name": "stdout",
     "output_type": "stream",
     "text": [
      "Python list size: 8056 bytes\n",
      "Numpy Array size: 8000 bytes\n"
     ]
    }
   ],
   "source": [
    "py_list_range=list(range(1000))\n",
    "np_array_range=np.arange(1000)\n",
    "\n",
    "print(\"Python list size:\",sys.getsizeof(py_list_range),\"bytes\")\n",
    "print(\"Numpy Array size:\",np_array_range.nbytes,\"bytes\")\n"
   ]
  },
  {
   "cell_type": "markdown",
   "id": "00ffc6bb-4d98-4950-9c2e-55c3c93a19df",
   "metadata": {},
   "source": [
    "* Faster"
   ]
  },
  {
   "cell_type": "code",
   "execution_count": 18,
   "id": "fb27969a-c675-41f0-97be-a79a2bed4043",
   "metadata": {},
   "outputs": [],
   "source": [
    "import time"
   ]
  },
  {
   "cell_type": "code",
   "execution_count": 20,
   "id": "4590e136-9e2d-437a-87a7-544e05abd41f",
   "metadata": {},
   "outputs": [
    {
     "name": "stdout",
     "output_type": "stream",
     "text": [
      "Python list time: 0.20302128791809082 seconds\n",
      "Numpy Array Time time: 0.0034072399139404297 seconds\n"
     ]
    }
   ],
   "source": [
    "#Faster -----> Numpy array operational speed much faster than list oerations\n",
    "#python list\n",
    "py_list=list(range(1000000))\n",
    "start=time.time()\n",
    "py_result=[]\n",
    "for x in py_list:\n",
    "    py_result.append(x*2)\n",
    "\n",
    "end=time.time()\n",
    "print(\"Python list time:\", end - start, \"seconds\")\n",
    "\n",
    "#Numpy Array\n",
    "np_list=np.arange(1000000)\n",
    "start=time.time()\n",
    "np_data=np_list*2 # Vectorized operation\n",
    "end=time.time()\n",
    "print(\"Numpy Array Time time:\", end - start, \"seconds\")\n",
    "\n",
    "\n"
   ]
  },
  {
   "cell_type": "markdown",
   "id": "0cc757b8-c132-44f0-89c7-0815a64f97c9",
   "metadata": {},
   "source": [
    "* Convenient\n"
   ]
  },
  {
   "cell_type": "code",
   "execution_count": 25,
   "id": "a8cf3b8f-7e39-4565-8073-1da26b8965fa",
   "metadata": {},
   "outputs": [
    {
     "name": "stdout",
     "output_type": "stream",
     "text": [
      "Python list of two Number: [11, 22, 93, 104, 35, 46]\n",
      "Numpy Array of two Number: [ 11  22  93 104  35  46]\n"
     ]
    }
   ],
   "source": [
    "#Convenient -----> NumPy is simpler and cleaner, this makes numpy more convenient.\n",
    "\n",
    "# Adding two lists element by element using pyhon operation\n",
    "import numpy as np\n",
    "p1=[1,2,3,4,5,6]\n",
    "p2=[10,20,90,100,30,40]\n",
    "Py_result=[]\n",
    "for x in range(len(p1)):\n",
    "    Py_result.append(p1[x]+p2[x])\n",
    "print(\"Python list of two Number:\",Py_result)\n",
    "\n",
    "# Adding two lists element by element using numpy operation\n",
    "n1=np.array([1,2,3,4,5,6])\n",
    "n2=np.array([10,20,90,100,30,40])\n",
    "var= n1 + n2\n",
    "\n",
    "print(\"Numpy Array of two Number:\",var)"
   ]
  },
  {
   "cell_type": "markdown",
   "id": "bb663904-8437-42eb-a006-a64ea7b25b43",
   "metadata": {},
   "source": [
    "# Indexing & Slicing In Numpy\n"
   ]
  },
  {
   "cell_type": "code",
   "execution_count": 32,
   "id": "369d32d2-15cf-46f4-8627-b60f0d6c646e",
   "metadata": {},
   "outputs": [
    {
     "name": "stdout",
     "output_type": "stream",
     "text": [
      "[ 0  1  2  3  4  5  6  7  8  9 10 11 12 13 14 15 16 17 18 19 20 21 22 23]\n",
      "7\n",
      "23\n",
      "[7 8 9]\n",
      "[18 19 20 21 22]\n"
     ]
    }
   ],
   "source": [
    "#simple array\n",
    "arr9=np.arange(24)\n",
    "\n",
    "print(arr9)\n",
    "\n",
    "#indexing\n",
    "print(arr9[7])\n",
    "print(arr9[-1])\n",
    "\n",
    "#slicing\n",
    "print(arr9[7:10])\n",
    "print(arr9[-6:-1])\n"
   ]
  },
  {
   "cell_type": "code",
   "execution_count": 42,
   "id": "de6fa75f-1a1e-4e71-8e90-368a63088f02",
   "metadata": {},
   "outputs": [
    {
     "name": "stdout",
     "output_type": "stream",
     "text": [
      "[[ 0  1  2  3]\n",
      " [ 4  5  6  7]\n",
      " [ 8  9 10 11]\n",
      " [12 13 14 15]\n",
      " [16 17 18 19]\n",
      " [20 21 22 23]]\n",
      "\n",
      "[ 8  9 10 11]\n",
      "\n",
      "[[ 8  9 10 11]\n",
      " [12 13 14 15]\n",
      " [16 17 18 19]]\n",
      "\n",
      "[ 2  6 10 14 18 22]\n",
      "\n",
      "[[ 1  2  3]\n",
      " [ 5  6  7]\n",
      " [ 9 10 11]\n",
      " [13 14 15]\n",
      " [17 18 19]\n",
      " [21 22 23]]\n",
      "\n",
      "[[18 19]\n",
      " [22 23]]\n",
      "\n"
     ]
    }
   ],
   "source": [
    "# Multidimensional matrics\n",
    "# reshape---> convert the array into given matrics size\n",
    "arr10=np.arange(24).reshape((6,4)) # reshape : converts the array into given matrics(Row,column)\n",
    "\n",
    "print(arr10)\n",
    "\n",
    "print()\n",
    "#indexing\n",
    "print(arr10[2]) # retrun row\n",
    "\n",
    "print()\n",
    "\n",
    "#sciling\n",
    "print(arr10[2:5])\n",
    "print()\n",
    "\n",
    "#slcing rows & columns ------> arr(slice rows , slice column)\n",
    "\n",
    "print(arr10[:,2]) #return rows & column\n",
    "print()\n",
    "\n",
    "print(arr10[:,1:4]) #return rows & column\n",
    "print()\n",
    "\n",
    "print(arr10[4:6,2:4]) #return rows & column\n",
    "print()\n",
    "\n"
   ]
  },
  {
   "cell_type": "code",
   "execution_count": 64,
   "id": "27532670-bdf3-4796-b4d3-a6957eb26d36",
   "metadata": {},
   "outputs": [
    {
     "name": "stdout",
     "output_type": "stream",
     "text": [
      "[[[ 0  1  2  3]\n",
      "  [ 4  5  6  7]\n",
      "  [ 8  9 10 11]\n",
      "  [12 13 14 15]]\n",
      "\n",
      " [[16 17 18 19]\n",
      "  [20 21 22 23]\n",
      "  [24 25 26 27]\n",
      "  [28 29 30 31]]]\n",
      "[[ 0  1  2  3]\n",
      " [ 4  5  6  7]\n",
      " [ 8  9 10 11]\n",
      " [12 13 14 15]]\n",
      "[[16 17 18 19]\n",
      " [20 21 22 23]\n",
      " [24 25 26 27]\n",
      " [28 29 30 31]]\n",
      "[0 1 2 3]\n",
      "[16 17 18 19]\n",
      "1\n",
      "17\n",
      "[0 1 2 3]\n",
      "[20 21 22 23]\n",
      "[[ 0  1  2  3]\n",
      " [ 4  5  6  7]\n",
      " [ 8  9 10 11]\n",
      " [12 13 14 15]]\n",
      "[[16 17 18 19]\n",
      " [20 21 22 23]\n",
      " [24 25 26 27]\n",
      " [28 29 30 31]]\n",
      "[[ 0  1  2  3]\n",
      " [ 4  5  6  7]\n",
      " [ 8  9 10 11]\n",
      " [12 13 14 15]]\n",
      "[[16 17 18 19]\n",
      " [20 21 22 23]\n",
      " [24 25 26 27]\n",
      " [28 29 30 31]]\n"
     ]
    }
   ],
   "source": [
    "#multiblock & multidimensional matrics\n",
    "arr11=np.arange(32).reshape((2,4,4)) #(block,row,column)\n",
    "print(arr11)\n",
    "\n",
    "#indexing\n",
    "print(arr11[0])#first block\n",
    "print(arr11[1])#second block\n",
    "\n",
    "print(arr11[0][0])#first block first row\n",
    "\n",
    "print(arr11[1][0])#second block first row\n",
    "\n",
    "print(arr11[0][0][1])  # frist block row 1 col 2\n",
    "print(arr11[1][0][1])  # Second block row 1 col 2\n",
    "\n",
    "#slicing\n",
    "print(arr11[:][0][0]) # All blocks, first row, first col\n",
    "print(arr11[:][1][1]) # All blocks, second row, second col\n",
    "\n",
    "print(arr11[0][:][:]) # Entire first block\n",
    "print(arr11[1][:][:]) # Entire second block\n",
    "\n",
    "print(arr11[:][:][0])# All blocks, all rows\n",
    "\n",
    "\n",
    "print(arr11[:][:][1])# All blocks, all rows\n"
   ]
  },
  {
   "cell_type": "markdown",
   "id": "c6d4f844-f190-4f24-a448-a85a8a5e0717",
   "metadata": {},
   "source": [
    "# Numpy Iteration"
   ]
  },
  {
   "cell_type": "code",
   "execution_count": 62,
   "id": "70bc264a-f3d3-452e-bf34-61a795c11c86",
   "metadata": {},
   "outputs": [
    {
     "name": "stdout",
     "output_type": "stream",
     "text": [
      "[0 1 2 3]\n",
      "[4 5 6 7]\n",
      "[ 8  9 10 11]\n",
      "[12 13 14 15]\n",
      "[16 17 18 19]\n",
      "[20 21 22 23]\n"
     ]
    }
   ],
   "source": [
    "for i in arr10:\n",
    "    print(i)"
   ]
  },
  {
   "cell_type": "code",
   "execution_count": 63,
   "id": "a3845339-4223-4f8f-acdb-00a6b81bd038",
   "metadata": {},
   "outputs": [
    {
     "name": "stdout",
     "output_type": "stream",
     "text": [
      "0\n",
      "1\n",
      "2\n",
      "3\n",
      "4\n",
      "5\n",
      "6\n",
      "7\n",
      "8\n",
      "9\n",
      "10\n",
      "11\n",
      "12\n",
      "13\n",
      "14\n",
      "15\n",
      "16\n",
      "17\n",
      "18\n",
      "19\n",
      "20\n",
      "21\n",
      "22\n",
      "23\n"
     ]
    }
   ],
   "source": [
    "#print item wise\n",
    "for i in np.nditer(arr10):\n",
    "    print(i)"
   ]
  },
  {
   "cell_type": "code",
   "execution_count": 66,
   "id": "cef87ffd-02ae-4508-b32c-d702724fae56",
   "metadata": {},
   "outputs": [
    {
     "name": "stdout",
     "output_type": "stream",
     "text": [
      "[[[ 0  1  2  3]\n",
      "  [ 4  5  6  7]\n",
      "  [ 8  9 10 11]\n",
      "  [12 13 14 15]]\n",
      "\n",
      " [[16 17 18 19]\n",
      "  [20 21 22 23]\n",
      "  [24 25 26 27]\n",
      "  [28 29 30 31]]]\n",
      "0\n",
      "1\n",
      "2\n",
      "3\n",
      "4\n",
      "5\n",
      "6\n",
      "7\n",
      "8\n",
      "9\n",
      "10\n",
      "11\n",
      "12\n",
      "13\n",
      "14\n",
      "15\n"
     ]
    }
   ],
   "source": [
    "print(arr11)\n",
    "#print item wise in one block\n",
    "for i in np.nditer(arr11[0]):\n",
    "    print(i)"
   ]
  },
  {
   "cell_type": "markdown",
   "id": "06dbcc7a-619e-458d-9454-01757e6c692e",
   "metadata": {},
   "source": [
    "# Numpy Operation\n"
   ]
  },
  {
   "cell_type": "code",
   "execution_count": 80,
   "id": "5a4d38ae-885c-4932-8131-04592dd6b3f4",
   "metadata": {},
   "outputs": [
    {
     "name": "stdout",
     "output_type": "stream",
     "text": [
      "[1 2 3 4 5]\n",
      "[ 3  7  8  9 10]\n"
     ]
    }
   ],
   "source": [
    "var1=np.array([1,2,3,4,5])\n",
    "var2=np.array([3,7,8,9,10])\n",
    "\n",
    "print(var1)\n",
    "print(var2)"
   ]
  },
  {
   "cell_type": "code",
   "execution_count": 81,
   "id": "e06d1009-8b9b-4edd-adf0-89cb1d86aa5b",
   "metadata": {},
   "outputs": [
    {
     "name": "stdout",
     "output_type": "stream",
     "text": [
      "[ 4  9 11 13 15]\n",
      "\n",
      "[-2 -5 -5 -5 -5]\n",
      "\n",
      "[ 3 14 24 36 50]\n",
      "\n",
      "[ 2  4  6  8 10]\n",
      "\n",
      "[0.33333333 0.28571429 0.375      0.44444444 0.5       ]\n",
      "\n",
      "[1.5 3.5 4.  4.5 5. ]\n"
     ]
    }
   ],
   "source": [
    "#Addition\n",
    "print(var1+var2)\n",
    "print()\n",
    "#Subraction\n",
    "print(var1-var2)\n",
    "print()\n",
    "\n",
    "#Multiplication\n",
    "print(var1*var2) #vector multiplication\n",
    "print()\n",
    "\n",
    "print(var1*2) #Scalar multiplication\n",
    "print()\n",
    "\n",
    "#Division\n",
    "print(var1/var2)  #vector division\n",
    "print()\n",
    "\n",
    "print(var2/2)  #Scalar division\n"
   ]
  },
  {
   "cell_type": "code",
   "execution_count": 82,
   "id": "b10fb024-601f-4390-9693-dea4916b6545",
   "metadata": {},
   "outputs": [
    {
     "name": "stdout",
     "output_type": "stream",
     "text": [
      "[False False False  True  True]\n",
      "[False False False False False]\n",
      "[False  True  True  True  True]\n"
     ]
    }
   ],
   "source": [
    "print(var1>3)\n",
    "print(var1==var2)\n",
    "print(var2>=5)"
   ]
  },
  {
   "cell_type": "code",
   "execution_count": null,
   "id": "d9312f8f-19fe-448d-b987-78ef2ee02d9b",
   "metadata": {},
   "outputs": [],
   "source": []
  }
 ],
 "metadata": {
  "kernelspec": {
   "display_name": "Python 3 (ipykernel)",
   "language": "python",
   "name": "python3"
  },
  "language_info": {
   "codemirror_mode": {
    "name": "ipython",
    "version": 3
   },
   "file_extension": ".py",
   "mimetype": "text/x-python",
   "name": "python",
   "nbconvert_exporter": "python",
   "pygments_lexer": "ipython3",
   "version": "3.13.5"
  }
 },
 "nbformat": 4,
 "nbformat_minor": 5
}
