{
 "cells": [
  {
   "cell_type": "markdown",
   "id": "33489d89-d37b-4d2d-81d9-1e8bd2bcc275",
   "metadata": {},
   "source": [
    "# Numpy:"
   ]
  },
  {
   "cell_type": "markdown",
   "id": "9c00add6-3155-4809-89b0-24d22bcb5eaa",
   "metadata": {},
   "source": [
    "Numpy is a low level library written in C & Fortrand for high level mathematical functions.\n",
    "Numpy is use to overcomes the problem of running slower algorithms on running python by\n",
    "using multidimensional arrays and functions that operate on arrays.Algorithm can\n",
    "expressed as a function on arrays, allowing the algorithms to be run quickly.\n"
   ]
  },
  {
   "cell_type": "markdown",
   "id": "e8726dcc-10ee-460d-a2b0-910855ef8601",
   "metadata": {},
   "source": [
    "# Why NumPy is Faster than Python Lists:"
   ]
  },
  {
   "cell_type": "markdown",
   "id": "a5d57567-bdf1-4543-9588-e331a44e91d4",
   "metadata": {},
   "source": [
    "# 1. Continuous Memory (Compact Storage)"
   ]
  },
  {
   "cell_type": "markdown",
   "id": "9692d074-264f-400a-97b0-302e410cd54c",
   "metadata": {},
   "source": [
    "* Python List → Stores elements in different places in memory and only keeps references.\n",
    "* NumPy Array → Stores elements next to each other in memory (like a C array). This makes\n",
    "access much faster."
   ]
  },
  {
   "cell_type": "code",
   "execution_count": 1,
   "id": "e59d4d8a-6201-45c2-a7fe-97718a6f7de4",
   "metadata": {},
   "outputs": [],
   "source": [
    "import numpy as np"
   ]
  },
  {
   "cell_type": "code",
   "execution_count": 2,
   "id": "48bea688-897c-423d-ba5c-420f0298730d",
   "metadata": {},
   "outputs": [
    {
     "name": "stdout",
     "output_type": "stream",
     "text": [
      "Python list element addresses:\n",
      "140723702707112\n",
      "140723702707144\n",
      "140723702707176\n",
      "140723702707208\n",
      "140723702707240\n",
      "\n",
      "NumPy array element addresses:\n",
      "(1927655531792, False)\n"
     ]
    }
   ],
   "source": [
    "py_list=[1,2,3,4,5]\n",
    "np_array=np.array([1,2,3,4,5])\n",
    "print(\"Python list element addresses:\")\n",
    "for x in py_list:\n",
    "    print(id(x))\n",
    "    \n",
    "print(\"\\nNumPy array element addresses:\")\n",
    "print(np_array.__array_interface__[\"data\"])\n",
    "\n"
   ]
  },
  {
   "cell_type": "markdown",
   "id": "117ffdcd-7600-45a9-8e5b-56875e2505ae",
   "metadata": {},
   "source": [
    "# 2. Vectorization (No Loops in Python) spark\n"
   ]
  },
  {
   "cell_type": "markdown",
   "id": "263f5e01-959a-4b55-a923-7aeb6b77996a",
   "metadata": {},
   "source": [
    "* Python List → You must use loops.\n",
    "* NumPy Array → Can apply operations to the whole array at once. Internally, NumPy uses\n",
    "fast C code, not slow Python loops"
   ]
  },
  {
   "cell_type": "code",
   "execution_count": 3,
   "id": "69166e96-a7ed-445f-9cf0-94012316335e",
   "metadata": {},
   "outputs": [
    {
     "name": "stdout",
     "output_type": "stream",
     "text": [
      "Python List: [2, 4, 6, 8, 10]\n",
      "Numpy Array [ 2  4  6  8 10]\n"
     ]
    }
   ],
   "source": [
    "# Python list with normal for loop\n",
    "list_data=[1,2,3,4,5]\n",
    "list_result=[]\n",
    "for x in list_data:\n",
    "    list_result.append(x*2)\n",
    "print(\"Python List:\",list_result)\n",
    "\n",
    "# NumPy array (vectorized)\n",
    "np_array=np.array([1,2,3,4,5])\n",
    "np_data=np_array*2\n",
    "print(\"Numpy Array\",np_data)"
   ]
  },
  {
   "cell_type": "markdown",
   "id": "60031b6f-35a5-417b-966f-8a604cfd6f43",
   "metadata": {},
   "source": [
    "# 3. Same Data Type (Homogeneous Data):\n"
   ]
  },
  {
   "cell_type": "markdown",
   "id": "36bc42bd-f0d2-4fba-8c8d-5ce58cdca711",
   "metadata": {},
   "source": [
    "* Python List → Can store mixed types, e.g. [1, \"hello\", 3.5]. That means Python must check\n",
    "the type of each element again and again.\n",
    "\n",
    "* NumPy Array → Stores only one compact data\n",
    "type (common type of all elements). This makes operations much faster."
   ]
  },
  {
   "cell_type": "code",
   "execution_count": 4,
   "id": "44bd3c08-fd05-48f6-accf-6b7c1be09df1",
   "metadata": {},
   "outputs": [
    {
     "name": "stdout",
     "output_type": "stream",
     "text": [
      "Python list types: [<class 'int'>, <class 'str'>, <class 'bool'>, <class 'int'>, <class 'float'>, <class 'int'>, <class 'str'>]\n",
      "Numpy Array types: int64\n"
     ]
    }
   ],
   "source": [
    "py_list=[1,\"Hello\",True,22,56.66,900,\"p\"]\n",
    "np_array=np.array([1,2,3,4,5,6])\n",
    "Type_list=[]\n",
    "for x in py_list:\n",
    "    Type_list.append(type(x))\n",
    "print(\"Python list types:\",Type_list)\n",
    "print(\"Numpy Array types:\",np_array.dtype)\n",
    "\n",
    "\n",
    "\n"
   ]
  },
  {
   "cell_type": "markdown",
   "id": "5447a0f3-0b91-456d-9862-92e41ceda170",
   "metadata": {},
   "source": [
    "# What happens if we put mixed data types in a NumPy array?"
   ]
  },
  {
   "cell_type": "markdown",
   "id": "4dd3c4e3-4e07-4430-b91b-ba42bc12f736",
   "metadata": {},
   "source": [
    "Unlike Python lists (which can hold elements of different types without any issue), NumPy\n",
    "arrays always enforce a single data type for all elements.If you mix different types, NumPy\n",
    "will automatically convert all elements to one common type that can fit everything."
   ]
  },
  {
   "cell_type": "code",
   "execution_count": 5,
   "id": "3d88958f-b960-4e10-ab55-61dd94def2a3",
   "metadata": {},
   "outputs": [
    {
     "name": "stdout",
     "output_type": "stream",
     "text": [
      "['1' '2' 'hello' '3']\n",
      "Array dtype:  <U21\n"
     ]
    }
   ],
   "source": [
    "#Example 1 ---> int + str\n",
    "np_array=np.array([1,2,\"hello\",3])\n",
    "\n",
    "print(np_array)\n",
    "print(\"Array dtype: \",np_array.dtype)\n",
    "\n",
    "\n",
    "# The integers (1, 2, 3) were converted into strings ('1', '2', '3').\n",
    "# NumPy decided the final type should be string, because a string can represent both integer & float\n",
    "# <U11 means “Unicode string of maximum length 21”."
   ]
  },
  {
   "cell_type": "code",
   "execution_count": 6,
   "id": "dd1faa15-5c38-45b6-852a-49a3f59cbf0f",
   "metadata": {},
   "outputs": [
    {
     "name": "stdout",
     "output_type": "stream",
     "text": [
      "Array: [1.22 1.   3.   7.   5.5 ]\n",
      "Array dtype:  float64\n"
     ]
    }
   ],
   "source": [
    "# Example 2 ----> float + int\n",
    "np_array1=np.array([1.22,1,3,7,5.5])\n",
    "\n",
    "print(\"Array:\",np_array1)\n",
    "print(\"Array dtype: \",np_array1.dtype)\n",
    "\n",
    "\n",
    "# The integers (1, 2, 4) were converted into floats (1.0, 2.0, 4.0).\n",
    "# NumPy chose float64 because floats can hold decimal values, and they can also hold interger\n"
   ]
  },
  {
   "cell_type": "code",
   "execution_count": 7,
   "id": "4e0adfe8-4e5a-40af-908e-2d5864f3e64b",
   "metadata": {},
   "outputs": [
    {
     "name": "stdout",
     "output_type": "stream",
     "text": [
      "Array: [1 1 3 7 0]\n",
      "Array dtype:  int64\n"
     ]
    }
   ],
   "source": [
    "# Example 3 -----> int + bool\n",
    "np_array2=np.array([1,True,3,7,False])\n",
    "\n",
    "print(\"Array:\",np_array2)\n",
    "print(\"Array dtype: \",np_array2.dtype)\n",
    "\n",
    "\n",
    "# True was converted to 1, and False was converted to 0.\n",
    "# NumPy chose int64, since integers can represent both numbers and booleans.\n"
   ]
  },
  {
   "cell_type": "markdown",
   "id": "422082e2-d532-487f-b87e-e58d674930b5",
   "metadata": {},
   "source": [
    "# 1. Creating Numpy Array"
   ]
  },
  {
   "cell_type": "code",
   "execution_count": 8,
   "id": "6653308b-253d-4942-bccb-c48e30f46daf",
   "metadata": {},
   "outputs": [],
   "source": [
    "# import numpy library\n",
    "import numpy as np"
   ]
  },
  {
   "cell_type": "code",
   "execution_count": 9,
   "id": "ae4cd6ac-7062-413a-b8a0-b3d7de8d6927",
   "metadata": {},
   "outputs": [
    {
     "name": "stdout",
     "output_type": "stream",
     "text": [
      "[1 2 3 4 5]\n",
      "<class 'numpy.ndarray'>\n"
     ]
    }
   ],
   "source": [
    "#creating numpy array\n",
    "arr=np.array([1,2,3,4,5]) #convert list to numy array\n",
    "\n",
    "#vector\n",
    "print(arr)\n",
    "print(type(arr))\n"
   ]
  },
  {
   "cell_type": "code",
   "execution_count": 10,
   "id": "85d33103-3b22-440d-a421-2b0dba76446f",
   "metadata": {},
   "outputs": [
    {
     "name": "stdout",
     "output_type": "stream",
     "text": [
      "[[1 2 3]\n",
      " [4 5 6]]\n",
      "<class 'numpy.ndarray'>\n"
     ]
    }
   ],
   "source": [
    "# creating 2D array\n",
    "arr1=np.array([[1,2,3],[4,5,6]])\n",
    "\n",
    "print(arr1)\n",
    "print(type(arr1))"
   ]
  },
  {
   "cell_type": "code",
   "execution_count": 11,
   "id": "ae195eb5-0150-4abb-8aa7-a9b19c0f541d",
   "metadata": {},
   "outputs": [
    {
     "name": "stdout",
     "output_type": "stream",
     "text": [
      "[[0. 0. 0.]\n",
      " [0. 0. 0.]]\n"
     ]
    }
   ],
   "source": [
    "# creating array of zeros\n",
    "arr2=np.zeros((2,3)) #--->2Row & 3column\n",
    "print(arr2)\n"
   ]
  },
  {
   "cell_type": "code",
   "execution_count": 12,
   "id": "ea11af8d-cf84-45d5-81e6-fc28df877198",
   "metadata": {},
   "outputs": [
    {
     "name": "stdout",
     "output_type": "stream",
     "text": [
      "[[0. 0. 0. 0.]\n",
      " [0. 0. 0. 0.]\n",
      " [0. 0. 0. 0.]]\n"
     ]
    }
   ],
   "source": [
    "arr3=np.zeros((3,4)) # (3,4) ---> 3 rows, 4 columns\n",
    "print(arr3)\n"
   ]
  },
  {
   "cell_type": "code",
   "execution_count": 13,
   "id": "5fe7b2c1-b033-4e14-becd-551045633cb9",
   "metadata": {},
   "outputs": [
    {
     "name": "stdout",
     "output_type": "stream",
     "text": [
      "[[1. 1. 1. 1.]\n",
      " [1. 1. 1. 1.]\n",
      " [1. 1. 1. 1.]]\n"
     ]
    }
   ],
   "source": [
    "# creating array of ones\n",
    "arr4=np.ones((3,4)) #---> 3 rows, 4 columns\n",
    "print(arr4)"
   ]
  },
  {
   "cell_type": "code",
   "execution_count": 14,
   "id": "7fd3f387-01bc-40c4-b369-a15361893805",
   "metadata": {},
   "outputs": [
    {
     "name": "stdout",
     "output_type": "stream",
     "text": [
      "[[1. 0. 0. 0. 0.]\n",
      " [0. 1. 0. 0. 0.]\n",
      " [0. 0. 1. 0. 0.]\n",
      " [0. 0. 0. 1. 0.]\n",
      " [0. 0. 0. 0. 1.]]\n"
     ]
    }
   ],
   "source": [
    "# creating identity matrics\n",
    "arr5=np.identity((5))\n",
    "print(arr5)"
   ]
  },
  {
   "cell_type": "code",
   "execution_count": 15,
   "id": "97c976fe-1b2b-4357-9eb4-36cb007ec8de",
   "metadata": {},
   "outputs": [
    {
     "name": "stdout",
     "output_type": "stream",
     "text": [
      "[0 1 2 3 4 5 6 7 8 9]\n",
      "<class 'numpy.ndarray'>\n"
     ]
    }
   ],
   "source": [
    "# creating array using arange\n",
    "# arange ----> counter of range function of python\n",
    "arr6=np.arange(10)\n",
    "\n",
    "print(arr6)\n",
    "print(type(arr6))"
   ]
  },
  {
   "cell_type": "code",
   "execution_count": 16,
   "id": "02cd1afd-ddb9-4eb5-a201-8033a7bd6434",
   "metadata": {},
   "outputs": [
    {
     "name": "stdout",
     "output_type": "stream",
     "text": [
      "[10 11 12 13 14 15 16 17 18 19 20 21 22 23 24]\n"
     ]
    }
   ],
   "source": [
    "# creating array using arange\n",
    "arr6=np.arange(10,25)\n",
    "\n",
    "print(arr6)"
   ]
  },
  {
   "cell_type": "code",
   "execution_count": 17,
   "id": "c2e024df-16a1-4976-8729-561b4d6c922f",
   "metadata": {},
   "outputs": [
    {
     "name": "stdout",
     "output_type": "stream",
     "text": [
      "[10 12 14 16 18 20 22 24]\n"
     ]
    }
   ],
   "source": [
    "# creating array using arange\n",
    "arr6=np.arange(10,25,2)\n",
    "\n",
    "print(arr6)"
   ]
  },
  {
   "cell_type": "code",
   "execution_count": 18,
   "id": "a219559b-a391-4521-816e-75481b62953f",
   "metadata": {},
   "outputs": [
    {
     "name": "stdout",
     "output_type": "stream",
     "text": [
      "[ 0.          2.22222222  4.44444444  6.66666667  8.88888889 11.11111111\n",
      " 13.33333333 15.55555556 17.77777778 20.        ]\n"
     ]
    }
   ],
   "source": [
    "# creating array using linspace ----> useto make equi-distance between the element\n",
    "arr7=np.linspace(0,20,10)\n",
    "\n",
    "print(arr7)"
   ]
  },
  {
   "cell_type": "code",
   "execution_count": 19,
   "id": "6211c283-453f-4dde-93b4-d5fb7505a822",
   "metadata": {},
   "outputs": [
    {
     "name": "stdout",
     "output_type": "stream",
     "text": [
      "[ 4.  8. 12. 16. 20.]\n"
     ]
    }
   ],
   "source": [
    "# creating array using linspace ----> useto make equi-distance between the element\n",
    "arr7=np.linspace(4,20,5)\n",
    "\n",
    "print(arr7)"
   ]
  },
  {
   "cell_type": "markdown",
   "id": "0be37406-f16c-441a-b01b-85e3c2b7d08f",
   "metadata": {},
   "source": [
    "# 2. Numpy Array Properties & Attributes\n"
   ]
  },
  {
   "cell_type": "markdown",
   "id": "494bd49c-eb43-4513-84cb-cad4d9e7b52c",
   "metadata": {},
   "source": [
    "# shape"
   ]
  },
  {
   "cell_type": "code",
   "execution_count": 20,
   "id": "3f9a2aa2-cb01-4d52-868f-ffb603690932",
   "metadata": {},
   "outputs": [
    {
     "name": "stdout",
     "output_type": "stream",
     "text": [
      "[1 2 3 4 5]\n",
      "(5,)\n"
     ]
    }
   ],
   "source": [
    "# find shape of array ----> return the dimension of array (rows, columns)\n",
    "\n",
    "print(arr) #array has 5 elements in one dimension.\n",
    "print(arr.shape)"
   ]
  },
  {
   "cell_type": "code",
   "execution_count": 21,
   "id": "c569b83a-ff10-4611-bfd2-2fd7b370d3f3",
   "metadata": {},
   "outputs": [
    {
     "name": "stdout",
     "output_type": "stream",
     "text": [
      "[[1. 1. 1. 1.]\n",
      " [1. 1. 1. 1.]\n",
      " [1. 1. 1. 1.]]\n",
      "\n",
      "(3, 4)\n"
     ]
    }
   ],
   "source": [
    "print(arr4) # (3 rows,4 columns)\n",
    "\n",
    "print()\n",
    "\n",
    "print(arr4.shape)"
   ]
  },
  {
   "cell_type": "code",
   "execution_count": 22,
   "id": "2b0e5de0-1512-4b13-bb5a-6af74d5b8619",
   "metadata": {},
   "outputs": [
    {
     "name": "stdout",
     "output_type": "stream",
     "text": [
      "[[[1 2]\n",
      "  [3 4]]\n",
      "\n",
      " [[5 6]\n",
      "  [7 8]]]\n",
      "(2, 2, 2)\n"
     ]
    }
   ],
   "source": [
    "# creating multidimensional array space\n",
    "arr8=np.array([[[1,2],[3,4]],[[5,6],[7,8]]])\n",
    "\n",
    "print(arr8)\n",
    "print(arr8.shape) #(2 rows, 2 columns, 2 matrices)\n",
    "\n",
    "\n"
   ]
  },
  {
   "cell_type": "markdown",
   "id": "9761ce1f-b32d-47ee-97e4-423d218de95b",
   "metadata": {},
   "source": [
    "# ndim\n"
   ]
  },
  {
   "cell_type": "code",
   "execution_count": 23,
   "id": "cb40b64c-f8d6-4c24-82a6-5ddb05cd5520",
   "metadata": {},
   "outputs": [
    {
     "name": "stdout",
     "output_type": "stream",
     "text": [
      "[[[1 2]\n",
      "  [3 4]]\n",
      "\n",
      " [[5 6]\n",
      "  [7 8]]]\n",
      "3\n"
     ]
    }
   ],
   "source": [
    "#ndim -----> return the dimension of numpy array\n",
    "print(arr8)\n",
    "print(arr8.ndim)\n"
   ]
  },
  {
   "cell_type": "code",
   "execution_count": 24,
   "id": "9f4b802e-d268-4f38-b81b-33489ecb97ed",
   "metadata": {},
   "outputs": [
    {
     "name": "stdout",
     "output_type": "stream",
     "text": [
      "[[1. 0. 0. 0. 0.]\n",
      " [0. 1. 0. 0. 0.]\n",
      " [0. 0. 1. 0. 0.]\n",
      " [0. 0. 0. 1. 0.]\n",
      " [0. 0. 0. 0. 1.]]\n",
      "2\n"
     ]
    }
   ],
   "source": [
    "#ndim -----> return the dimension of numpy array\n",
    "\n",
    "print(arr5)\n",
    "print(arr5.ndim)\n"
   ]
  },
  {
   "cell_type": "markdown",
   "id": "bf197dfe-b9c5-4ec0-8d14-a725cc333a30",
   "metadata": {},
   "source": [
    "#  size"
   ]
  },
  {
   "cell_type": "code",
   "execution_count": 25,
   "id": "71806cfc-d969-4a96-aece-69a0b8945fce",
   "metadata": {},
   "outputs": [
    {
     "name": "stdout",
     "output_type": "stream",
     "text": [
      "[[[1 2]\n",
      "  [3 4]]\n",
      "\n",
      " [[5 6]\n",
      "  [7 8]]]\n",
      "8\n"
     ]
    }
   ],
   "source": [
    "#size ---->return number of items\n",
    "print(arr8)\n",
    "print(arr8.size)"
   ]
  },
  {
   "cell_type": "markdown",
   "id": "76986e72-0a95-4f8d-8dd0-0b9642af0d6d",
   "metadata": {},
   "source": [
    "# itemsize\n"
   ]
  },
  {
   "cell_type": "code",
   "execution_count": 26,
   "id": "bbffbc63-5f5c-409b-9474-bb61833dc063",
   "metadata": {},
   "outputs": [
    {
     "name": "stdout",
     "output_type": "stream",
     "text": [
      "[[[1 2]\n",
      "  [3 4]]\n",
      "\n",
      " [[5 6]\n",
      "  [7 8]]]\n",
      "8\n"
     ]
    }
   ],
   "source": [
    "#itemsize ----> return how much memory each array element uses in bytes.\n",
    "\n",
    "print(arr8)\n",
    "print(arr8.itemsize)"
   ]
  },
  {
   "cell_type": "markdown",
   "id": "029d6ef7-c87d-44f6-b925-8b1cc755238f",
   "metadata": {},
   "source": [
    "# dtype"
   ]
  },
  {
   "cell_type": "code",
   "execution_count": 27,
   "id": "472d32fa-7f05-4a22-81a9-f7328f295337",
   "metadata": {},
   "outputs": [
    {
     "name": "stdout",
     "output_type": "stream",
     "text": [
      "[[[1 2]\n",
      "  [3 4]]\n",
      "\n",
      " [[5 6]\n",
      "  [7 8]]]\n",
      "int64\n"
     ]
    }
   ],
   "source": [
    "#dtype ----> return data-type of array\n",
    "\n",
    "print(arr8)\n",
    "print(arr8.dtype)\n",
    "\n"
   ]
  },
  {
   "cell_type": "markdown",
   "id": "13a01053-dd1d-4868-b116-6fde39b18df2",
   "metadata": {},
   "source": [
    "# astype"
   ]
  },
  {
   "cell_type": "code",
   "execution_count": 28,
   "id": "98ff817d-917d-4709-955b-318a3c6e4149",
   "metadata": {},
   "outputs": [
    {
     "name": "stdout",
     "output_type": "stream",
     "text": [
      "[[[1 2]\n",
      "  [3 4]]\n",
      "\n",
      " [[5 6]\n",
      "  [7 8]]]\n",
      "int64\n",
      "[[[1. 2.]\n",
      "  [3. 4.]]\n",
      "\n",
      " [[5. 6.]\n",
      "  [7. 8.]]]\n",
      "[[[1 2]\n",
      "  [3 4]]\n",
      "\n",
      " [[5 6]\n",
      "  [7 8]]]\n"
     ]
    }
   ],
   "source": [
    "#astype ----> use to convert the data type of array\n",
    "\n",
    "print(arr8)\n",
    "print(arr8.dtype)\n",
    "\n",
    "print(arr8.astype(\"float\"))\n",
    "print(arr8)\n"
   ]
  },
  {
   "cell_type": "markdown",
   "id": "6523bf1d-b8a0-4e12-9f23-ce43410f9c67",
   "metadata": {},
   "source": [
    "# List Vs Numpy-Array:\n"
   ]
  },
  {
   "cell_type": "markdown",
   "id": "c4ceeb80-c543-475b-bd55-5ee9287cb848",
   "metadata": {},
   "source": [
    "* Less Memory"
   ]
  },
  {
   "cell_type": "code",
   "execution_count": 29,
   "id": "56040750-8969-4b78-9d87-6768d99ec049",
   "metadata": {},
   "outputs": [],
   "source": [
    "import sys"
   ]
  },
  {
   "cell_type": "code",
   "execution_count": 30,
   "id": "e61561da-5398-4ef6-a33e-e4c4d72cbeca",
   "metadata": {},
   "outputs": [
    {
     "name": "stdout",
     "output_type": "stream",
     "text": [
      "Python list size: 8056 bytes\n",
      "Numpy Array size: 8000 bytes\n"
     ]
    }
   ],
   "source": [
    "py_list_range=list(range(1000))\n",
    "np_array_range=np.arange(1000)\n",
    "\n",
    "print(\"Python list size:\",sys.getsizeof(py_list_range),\"bytes\")\n",
    "print(\"Numpy Array size:\",np_array_range.nbytes,\"bytes\")\n"
   ]
  },
  {
   "cell_type": "markdown",
   "id": "00ffc6bb-4d98-4950-9c2e-55c3c93a19df",
   "metadata": {},
   "source": [
    "* Faster"
   ]
  },
  {
   "cell_type": "code",
   "execution_count": 31,
   "id": "fb27969a-c675-41f0-97be-a79a2bed4043",
   "metadata": {},
   "outputs": [],
   "source": [
    "import time"
   ]
  },
  {
   "cell_type": "code",
   "execution_count": 32,
   "id": "4590e136-9e2d-437a-87a7-544e05abd41f",
   "metadata": {},
   "outputs": [
    {
     "name": "stdout",
     "output_type": "stream",
     "text": [
      "Python list time: 0.20502567291259766 seconds\n",
      "Numpy Array Time time: 0.005606651306152344 seconds\n"
     ]
    }
   ],
   "source": [
    "#Faster -----> Numpy array operational speed much faster than list oerations\n",
    "#python list\n",
    "py_list=list(range(1000000))\n",
    "start=time.time()\n",
    "py_result=[]\n",
    "for x in py_list:\n",
    "    py_result.append(x*2)\n",
    "\n",
    "end=time.time()\n",
    "print(\"Python list time:\", end - start, \"seconds\")\n",
    "\n",
    "#Numpy Array\n",
    "np_list=np.arange(1000000)\n",
    "start=time.time()\n",
    "np_data=np_list*2 # Vectorized operation\n",
    "end=time.time()\n",
    "print(\"Numpy Array Time time:\", end - start, \"seconds\")\n",
    "\n",
    "\n"
   ]
  },
  {
   "cell_type": "markdown",
   "id": "0cc757b8-c132-44f0-89c7-0815a64f97c9",
   "metadata": {},
   "source": [
    "* Convenient\n"
   ]
  },
  {
   "cell_type": "code",
   "execution_count": 33,
   "id": "a8cf3b8f-7e39-4565-8073-1da26b8965fa",
   "metadata": {},
   "outputs": [
    {
     "name": "stdout",
     "output_type": "stream",
     "text": [
      "Python list of two Number: [11, 22, 93, 104, 35, 46]\n",
      "Numpy Array of two Number: [ 11  22  93 104  35  46]\n"
     ]
    }
   ],
   "source": [
    "#Convenient -----> NumPy is simpler and cleaner, this makes numpy more convenient.\n",
    "\n",
    "# Adding two lists element by element using pyhon operation\n",
    "import numpy as np\n",
    "p1=[1,2,3,4,5,6]\n",
    "p2=[10,20,90,100,30,40]\n",
    "Py_result=[]\n",
    "for x in range(len(p1)):\n",
    "    Py_result.append(p1[x]+p2[x])\n",
    "print(\"Python list of two Number:\",Py_result)\n",
    "\n",
    "# Adding two lists element by element using numpy operation\n",
    "n1=np.array([1,2,3,4,5,6])\n",
    "n2=np.array([10,20,90,100,30,40])\n",
    "var= n1 + n2\n",
    "\n",
    "print(\"Numpy Array of two Number:\",var)"
   ]
  },
  {
   "cell_type": "markdown",
   "id": "bb663904-8437-42eb-a006-a64ea7b25b43",
   "metadata": {},
   "source": [
    "# Indexing & Slicing In Numpy\n"
   ]
  },
  {
   "cell_type": "code",
   "execution_count": 34,
   "id": "369d32d2-15cf-46f4-8627-b60f0d6c646e",
   "metadata": {},
   "outputs": [
    {
     "name": "stdout",
     "output_type": "stream",
     "text": [
      "[ 0  1  2  3  4  5  6  7  8  9 10 11 12 13 14 15 16 17 18 19 20 21 22 23]\n",
      "7\n",
      "23\n",
      "[7 8 9]\n",
      "[18 19 20 21 22]\n"
     ]
    }
   ],
   "source": [
    "#simple array\n",
    "arr9=np.arange(24)\n",
    "\n",
    "print(arr9)\n",
    "\n",
    "#indexing\n",
    "print(arr9[7])\n",
    "print(arr9[-1])\n",
    "\n",
    "#slicing\n",
    "print(arr9[7:10])\n",
    "print(arr9[-6:-1])\n"
   ]
  },
  {
   "cell_type": "code",
   "execution_count": 35,
   "id": "de6fa75f-1a1e-4e71-8e90-368a63088f02",
   "metadata": {},
   "outputs": [
    {
     "name": "stdout",
     "output_type": "stream",
     "text": [
      "[[ 0  1  2  3]\n",
      " [ 4  5  6  7]\n",
      " [ 8  9 10 11]\n",
      " [12 13 14 15]\n",
      " [16 17 18 19]\n",
      " [20 21 22 23]]\n",
      "\n",
      "[ 8  9 10 11]\n",
      "\n",
      "[[ 8  9 10 11]\n",
      " [12 13 14 15]\n",
      " [16 17 18 19]]\n",
      "\n",
      "[ 2  6 10 14 18 22]\n",
      "\n",
      "[[ 1  2  3]\n",
      " [ 5  6  7]\n",
      " [ 9 10 11]\n",
      " [13 14 15]\n",
      " [17 18 19]\n",
      " [21 22 23]]\n",
      "\n",
      "[[18 19]\n",
      " [22 23]]\n",
      "\n"
     ]
    }
   ],
   "source": [
    "# Multidimensional matrics\n",
    "# reshape---> convert the array into given matrics size\n",
    "arr10=np.arange(24).reshape((6,4)) # reshape : converts the array into given matrics(Row,column)\n",
    "\n",
    "print(arr10)\n",
    "\n",
    "print()\n",
    "#indexing\n",
    "print(arr10[2]) # retrun row\n",
    "\n",
    "print()\n",
    "\n",
    "#sciling\n",
    "print(arr10[2:5])\n",
    "print()\n",
    "\n",
    "#slcing rows & columns ------> arr(slice rows , slice column)\n",
    "\n",
    "print(arr10[:,2]) #return rows & column\n",
    "print()\n",
    "\n",
    "print(arr10[:,1:4]) #return rows & column\n",
    "print()\n",
    "\n",
    "print(arr10[4:6,2:4]) #return rows & column\n",
    "print()\n",
    "\n"
   ]
  },
  {
   "cell_type": "code",
   "execution_count": 36,
   "id": "27532670-bdf3-4796-b4d3-a6957eb26d36",
   "metadata": {},
   "outputs": [
    {
     "name": "stdout",
     "output_type": "stream",
     "text": [
      "[[[ 0  1  2  3]\n",
      "  [ 4  5  6  7]\n",
      "  [ 8  9 10 11]\n",
      "  [12 13 14 15]]\n",
      "\n",
      " [[16 17 18 19]\n",
      "  [20 21 22 23]\n",
      "  [24 25 26 27]\n",
      "  [28 29 30 31]]]\n",
      "[[ 0  1  2  3]\n",
      " [ 4  5  6  7]\n",
      " [ 8  9 10 11]\n",
      " [12 13 14 15]]\n",
      "[[16 17 18 19]\n",
      " [20 21 22 23]\n",
      " [24 25 26 27]\n",
      " [28 29 30 31]]\n",
      "[0 1 2 3]\n",
      "[16 17 18 19]\n",
      "1\n",
      "17\n",
      "[0 1 2 3]\n",
      "[20 21 22 23]\n",
      "[[ 0  1  2  3]\n",
      " [ 4  5  6  7]\n",
      " [ 8  9 10 11]\n",
      " [12 13 14 15]]\n",
      "[[16 17 18 19]\n",
      " [20 21 22 23]\n",
      " [24 25 26 27]\n",
      " [28 29 30 31]]\n",
      "[[ 0  1  2  3]\n",
      " [ 4  5  6  7]\n",
      " [ 8  9 10 11]\n",
      " [12 13 14 15]]\n",
      "[[16 17 18 19]\n",
      " [20 21 22 23]\n",
      " [24 25 26 27]\n",
      " [28 29 30 31]]\n"
     ]
    }
   ],
   "source": [
    "#multiblock & multidimensional matrics\n",
    "arr11=np.arange(32).reshape((2,4,4)) #(block,row,column)\n",
    "print(arr11)\n",
    "\n",
    "#indexing\n",
    "print(arr11[0])#first block\n",
    "print(arr11[1])#second block\n",
    "\n",
    "print(arr11[0][0])#first block first row\n",
    "\n",
    "print(arr11[1][0])#second block first row\n",
    "\n",
    "print(arr11[0][0][1])  # frist block row 1 col 2\n",
    "print(arr11[1][0][1])  # Second block row 1 col 2\n",
    "\n",
    "#slicing\n",
    "print(arr11[:][0][0]) # All blocks, first row, first col\n",
    "print(arr11[:][1][1]) # All blocks, second row, second col\n",
    "\n",
    "print(arr11[0][:][:]) # Entire first block\n",
    "print(arr11[1][:][:]) # Entire second block\n",
    "\n",
    "print(arr11[:][:][0])# All blocks, all rows\n",
    "\n",
    "\n",
    "print(arr11[:][:][1])# All blocks, all rows\n"
   ]
  },
  {
   "cell_type": "markdown",
   "id": "c6d4f844-f190-4f24-a448-a85a8a5e0717",
   "metadata": {},
   "source": [
    "# Numpy Iteration"
   ]
  },
  {
   "cell_type": "code",
   "execution_count": 37,
   "id": "70bc264a-f3d3-452e-bf34-61a795c11c86",
   "metadata": {},
   "outputs": [
    {
     "name": "stdout",
     "output_type": "stream",
     "text": [
      "[0 1 2 3]\n",
      "[4 5 6 7]\n",
      "[ 8  9 10 11]\n",
      "[12 13 14 15]\n",
      "[16 17 18 19]\n",
      "[20 21 22 23]\n"
     ]
    }
   ],
   "source": [
    "for i in arr10:\n",
    "    print(i)"
   ]
  },
  {
   "cell_type": "code",
   "execution_count": 38,
   "id": "a3845339-4223-4f8f-acdb-00a6b81bd038",
   "metadata": {},
   "outputs": [
    {
     "name": "stdout",
     "output_type": "stream",
     "text": [
      "0\n",
      "1\n",
      "2\n",
      "3\n",
      "4\n",
      "5\n",
      "6\n",
      "7\n",
      "8\n",
      "9\n",
      "10\n",
      "11\n",
      "12\n",
      "13\n",
      "14\n",
      "15\n",
      "16\n",
      "17\n",
      "18\n",
      "19\n",
      "20\n",
      "21\n",
      "22\n",
      "23\n"
     ]
    }
   ],
   "source": [
    "#print item wise\n",
    "for i in np.nditer(arr10):\n",
    "    print(i)"
   ]
  },
  {
   "cell_type": "code",
   "execution_count": 39,
   "id": "cef87ffd-02ae-4508-b32c-d702724fae56",
   "metadata": {},
   "outputs": [
    {
     "name": "stdout",
     "output_type": "stream",
     "text": [
      "[[[ 0  1  2  3]\n",
      "  [ 4  5  6  7]\n",
      "  [ 8  9 10 11]\n",
      "  [12 13 14 15]]\n",
      "\n",
      " [[16 17 18 19]\n",
      "  [20 21 22 23]\n",
      "  [24 25 26 27]\n",
      "  [28 29 30 31]]]\n",
      "0\n",
      "1\n",
      "2\n",
      "3\n",
      "4\n",
      "5\n",
      "6\n",
      "7\n",
      "8\n",
      "9\n",
      "10\n",
      "11\n",
      "12\n",
      "13\n",
      "14\n",
      "15\n"
     ]
    }
   ],
   "source": [
    "print(arr11)\n",
    "#print item wise in one block\n",
    "for i in np.nditer(arr11[0]):\n",
    "    print(i)"
   ]
  },
  {
   "cell_type": "markdown",
   "id": "06dbcc7a-619e-458d-9454-01757e6c692e",
   "metadata": {},
   "source": [
    "# Numpy Operation\n"
   ]
  },
  {
   "cell_type": "code",
   "execution_count": 40,
   "id": "5a4d38ae-885c-4932-8131-04592dd6b3f4",
   "metadata": {},
   "outputs": [
    {
     "name": "stdout",
     "output_type": "stream",
     "text": [
      "[1 2 3 4 5]\n",
      "[ 3  7  8  9 10]\n"
     ]
    }
   ],
   "source": [
    "var1=np.array([1,2,3,4,5])\n",
    "var2=np.array([3,7,8,9,10])\n",
    "\n",
    "print(var1)\n",
    "print(var2)"
   ]
  },
  {
   "cell_type": "code",
   "execution_count": 41,
   "id": "e06d1009-8b9b-4edd-adf0-89cb1d86aa5b",
   "metadata": {},
   "outputs": [
    {
     "name": "stdout",
     "output_type": "stream",
     "text": [
      "[ 4  9 11 13 15]\n",
      "\n",
      "[-2 -5 -5 -5 -5]\n",
      "\n",
      "[ 3 14 24 36 50]\n",
      "\n",
      "[ 2  4  6  8 10]\n",
      "\n",
      "[0.33333333 0.28571429 0.375      0.44444444 0.5       ]\n",
      "\n",
      "[1.5 3.5 4.  4.5 5. ]\n"
     ]
    }
   ],
   "source": [
    "#Addition\n",
    "print(var1+var2)\n",
    "print()\n",
    "#Subraction\n",
    "print(var1-var2)\n",
    "print()\n",
    "\n",
    "#Multiplication\n",
    "print(var1*var2) #vector multiplication\n",
    "print()\n",
    "\n",
    "print(var1*2) #Scalar multiplication\n",
    "print()\n",
    "\n",
    "#Division\n",
    "print(var1/var2)  #vector division\n",
    "print()\n",
    "\n",
    "print(var2/2)  #Scalar division\n"
   ]
  },
  {
   "cell_type": "code",
   "execution_count": 42,
   "id": "b10fb024-601f-4390-9693-dea4916b6545",
   "metadata": {},
   "outputs": [
    {
     "name": "stdout",
     "output_type": "stream",
     "text": [
      "[False False False  True  True]\n",
      "[False False False False False]\n",
      "[False  True  True  True  True]\n"
     ]
    }
   ],
   "source": [
    "print(var1>3)\n",
    "print(var1==var2)\n",
    "print(var2>=5)"
   ]
  },
  {
   "cell_type": "code",
   "execution_count": 43,
   "id": "d9312f8f-19fe-448d-b987-78ef2ee02d9b",
   "metadata": {},
   "outputs": [
    {
     "name": "stdout",
     "output_type": "stream",
     "text": [
      "[[0 1 2]\n",
      " [3 4 5]]\n",
      "[[ 6  7]\n",
      " [ 8  9]\n",
      " [10 11]]\n"
     ]
    }
   ],
   "source": [
    "var3=np.arange(6).reshape(2,3)\n",
    "var4=np.arange(6,12).reshape(3,2)\n",
    "\n",
    "print(var3)\n",
    "print(var4)"
   ]
  },
  {
   "cell_type": "code",
   "execution_count": 44,
   "id": "060c289a-0c13-41d4-8d89-58271b2d75d2",
   "metadata": {},
   "outputs": [
    {
     "data": {
      "text/plain": [
       "array([[ 28,  31],\n",
       "       [100, 112]])"
      ]
     },
     "execution_count": 44,
     "metadata": {},
     "output_type": "execute_result"
    }
   ],
   "source": [
    "# dot function\n",
    "var3.dot(var4)"
   ]
  },
  {
   "cell_type": "code",
   "execution_count": 45,
   "id": "06027ab2-4923-4f1a-aadb-eb650e4fee86",
   "metadata": {},
   "outputs": [
    {
     "ename": "ValueError",
     "evalue": "shapes (5,) and (2,3) not aligned: 5 (dim 0) != 2 (dim 0)",
     "output_type": "error",
     "traceback": [
      "\u001b[1;31m---------------------------------------------------------------------------\u001b[0m",
      "\u001b[1;31mValueError\u001b[0m                                Traceback (most recent call last)",
      "Cell \u001b[1;32mIn[45], line 2\u001b[0m\n\u001b[0;32m      1\u001b[0m \u001b[38;5;66;03m# Error -----> matrics order mismatch\u001b[39;00m\n\u001b[1;32m----> 2\u001b[0m var1\u001b[38;5;241m.\u001b[39mdot(var3)\n",
      "\u001b[1;31mValueError\u001b[0m: shapes (5,) and (2,3) not aligned: 5 (dim 0) != 2 (dim 0)"
     ]
    }
   ],
   "source": [
    "# Error -----> matrics order mismatch\n",
    "var1.dot(var3)"
   ]
  },
  {
   "cell_type": "code",
   "execution_count": null,
   "id": "2b945124-f5a8-44e0-906e-e47f41dc8f1a",
   "metadata": {},
   "outputs": [],
   "source": [
    "#max\n",
    "print(var3.max())\n",
    "\n",
    "# rowise max\n",
    "print(var3.max(axis=0))\n",
    "\n",
    "# columnwise max\n",
    "print(var3.max(axis=1))\n",
    "\n",
    "\n",
    "#min\n",
    "print(var3.min())\n",
    "\n",
    "# rowise max\n",
    "print(var3.min(axis=0))\n",
    "\n",
    "# columnwise max\n",
    "print(var3.min(axis=1))"
   ]
  },
  {
   "cell_type": "code",
   "execution_count": null,
   "id": "216031e5-db49-4257-8ed6-ab4984aefcb9",
   "metadata": {},
   "outputs": [],
   "source": [
    "# sum\n",
    "print(var4.sum())\n",
    "#rowise sum\n",
    "print(var4.sum(axis=0))\n",
    "#column wise sum\n",
    "print(var4.sum(axis=1))\n",
    "\n",
    "# mean\n",
    "print(var4.mean())\n",
    "#row wise mean\n",
    "print(var4.mean(axis=0))\n",
    "#column wise mean\n",
    "print(var4.mean(axis=1))\n",
    "\n",
    "#median\n",
    "print(np.median(var4))\n",
    "#row wise median\n",
    "print(np.median(var4,axis=0))\n",
    "#column wise median\n",
    "print(np.median(var4,axis=1))"
   ]
  },
  {
   "cell_type": "code",
   "execution_count": null,
   "id": "b6b5abf4-61a1-4d05-a0c8-1dff0c69dd0b",
   "metadata": {},
   "outputs": [],
   "source": [
    "#square root\n",
    "print(np.sqrt(var4))\n",
    "#exponent\n",
    "print(np.exp(var4))\n",
    "#sin\n",
    "print(np.sin(var4))\n",
    "#cos\n",
    "print(np.cos(var4))"
   ]
  },
  {
   "cell_type": "markdown",
   "id": "9a51e2ff-ba83-408e-840d-0f20f0b75788",
   "metadata": {},
   "source": [
    "#  Reshaping Numpy\n"
   ]
  },
  {
   "cell_type": "markdown",
   "id": "3bbbc782-8e6a-4463-9e0e-bebbd6f5c83f",
   "metadata": {},
   "source": [
    "# ravel"
   ]
  },
  {
   "cell_type": "code",
   "execution_count": null,
   "id": "5b60aa2a-a546-4100-8f32-54d6956c268b",
   "metadata": {},
   "outputs": [],
   "source": [
    "# Ravel ----> convert the higher diensional array to one dimensional array\n",
    "print(arr10)\n",
    "print(arr10.ravel())"
   ]
  },
  {
   "cell_type": "markdown",
   "id": "3ed9bc27-e70f-4a0f-ada7-3bc72372065b",
   "metadata": {},
   "source": [
    "# Reshape\n"
   ]
  },
  {
   "cell_type": "code",
   "execution_count": 46,
   "id": "3394bbd7-a7bc-4d5b-a508-d7ef6c23c5ff",
   "metadata": {},
   "outputs": [
    {
     "name": "stdout",
     "output_type": "stream",
     "text": [
      "[[ 0  1  2  3  4  5  6  7  8  9 10 11]\n",
      " [12 13 14 15 16 17 18 19 20 21 22 23]]\n"
     ]
    }
   ],
   "source": [
    "# Reshape -----> Reshape the array ,but in context of vector\n",
    "# if 24 items -----> reshape = (1,24)(24,1)(6,4)(4,6)(12,2)(2,12)\n",
    "var5=np.arange(24)\n",
    "var6=var5.reshape(2,12)\n",
    "print(var6)"
   ]
  },
  {
   "cell_type": "markdown",
   "id": "cdbed4e7-91a0-4ffd-a160-47dd37bcceb8",
   "metadata": {},
   "source": [
    "# Transpose"
   ]
  },
  {
   "cell_type": "code",
   "execution_count": 47,
   "id": "1851f97b-a4ba-415b-8db2-c967031ef0dc",
   "metadata": {},
   "outputs": [
    {
     "name": "stdout",
     "output_type": "stream",
     "text": [
      "[[ 0 12]\n",
      " [ 1 13]\n",
      " [ 2 14]\n",
      " [ 3 15]\n",
      " [ 4 16]\n",
      " [ 5 17]\n",
      " [ 6 18]\n",
      " [ 7 19]\n",
      " [ 8 20]\n",
      " [ 9 21]\n",
      " [10 22]\n",
      " [11 23]]\n"
     ]
    }
   ],
   "source": [
    "#transpose -----> rows to columns & columns to rows\n",
    "print(var6.transpose())\n"
   ]
  },
  {
   "cell_type": "markdown",
   "id": "ec49d27d-deb4-4647-bbf9-7fb31667ad4c",
   "metadata": {},
   "source": [
    "# Stack"
   ]
  },
  {
   "cell_type": "code",
   "execution_count": 48,
   "id": "8e53593e-ab83-46be-a75d-4dcb0a41a477",
   "metadata": {},
   "outputs": [
    {
     "name": "stdout",
     "output_type": "stream",
     "text": [
      "[[0 1 2]\n",
      " [3 4 5]]\n",
      "[[12 13 14]\n",
      " [15 16 17]]\n",
      "[[19 20 21]\n",
      " [22 23 24]]\n",
      "[[ 0  1  2 12 13 14 19 20 21]\n",
      " [ 3  4  5 15 16 17 22 23 24]]\n",
      "[[ 0  1  2]\n",
      " [ 3  4  5]\n",
      " [12 13 14]\n",
      " [15 16 17]\n",
      " [19 20 21]\n",
      " [22 23 24]]\n"
     ]
    }
   ],
   "source": [
    "#stack ----> combine the two or more arrays(the arrays must be same shape)\n",
    "print(var3)\n",
    "var6=np.arange(12,18).reshape(2,3)\n",
    "print(var6)\n",
    "var7=np.arange(19,25).reshape(2,3)\n",
    "print(var7)\n",
    "\n",
    "#horizontal stack (x-axis)\n",
    "print(np.hstack((var3,var6,var7)))\n",
    "\n",
    "#vertical stack (y-axis)\n",
    "print(np.vstack((var3,var6,var7)))\n"
   ]
  },
  {
   "cell_type": "markdown",
   "id": "15f2f5a1-044a-4172-b872-f2a0224913b0",
   "metadata": {},
   "source": [
    "# split\n"
   ]
  },
  {
   "cell_type": "code",
   "execution_count": 52,
   "id": "d3147586-a74c-4eb9-890b-d0af2448bb30",
   "metadata": {},
   "outputs": [
    {
     "name": "stdout",
     "output_type": "stream",
     "text": [
      "[[0 1 2]\n",
      " [3 4 5]]\n",
      "[array([[0],\n",
      "       [3]]), array([[1],\n",
      "       [4]]), array([[2],\n",
      "       [5]])]\n",
      "[array([[0, 1, 2]]), array([[3, 4, 5]])]\n"
     ]
    }
   ],
   "source": [
    "#split ----->split the array into equal parts\n",
    "print(var3)\n",
    "#horizontal split -----> split the array in form of column\n",
    "\n",
    "print(np.hsplit(var3,3))\n",
    "\n",
    "#vertical split -----> split the array in form of rows\n",
    "print(np.vsplit(var3,2))\n"
   ]
  },
  {
   "cell_type": "markdown",
   "id": "f6fbf875-24a2-409b-80f9-b002d6829379",
   "metadata": {},
   "source": [
    "# Indexing using Boolean Arrays"
   ]
  },
  {
   "cell_type": "code",
   "execution_count": 117,
   "id": "14efe252-0ce2-4af7-a095-dc492512d39c",
   "metadata": {},
   "outputs": [
    {
     "name": "stdout",
     "output_type": "stream",
     "text": [
      "[[45 69 15  7]\n",
      " [ 1 69 14 21]\n",
      " [84 91  6 93]\n",
      " [ 4 84 39 12]\n",
      " [75 27 46 94]\n",
      " [80 96 70  3]]\n"
     ]
    },
    {
     "data": {
      "text/plain": [
       "array([69, 69, 91, 93, 75], dtype=int32)"
      ]
     },
     "execution_count": 117,
     "metadata": {},
     "output_type": "execute_result"
    }
   ],
   "source": [
    "var=np.random.randint(1,100,24).reshape(6,4) #random array \n",
    "print(var)\n",
    "var[(var > 50) & (var % 2 != 0)]"
   ]
  },
  {
   "cell_type": "code",
   "execution_count": 111,
   "id": "b19eb2db-76b9-415c-9f72-b9ddc351bf45",
   "metadata": {},
   "outputs": [
    {
     "data": {
      "text/plain": [
       "array([[False, False,  True,  True],\n",
       "       [ True, False,  True, False],\n",
       "       [ True,  True,  True, False],\n",
       "       [False,  True, False,  True],\n",
       "       [ True, False,  True, False],\n",
       "       [False,  True, False, False]])"
      ]
     },
     "execution_count": 111,
     "metadata": {},
     "output_type": "execute_result"
    }
   ],
   "source": [
    "var>50\n"
   ]
  },
  {
   "cell_type": "code",
   "execution_count": 112,
   "id": "91567559-c763-4fa5-b7f8-6912b455bbfe",
   "metadata": {},
   "outputs": [
    {
     "data": {
      "text/plain": [
       "array([54, 89, 65, 65, 91, 98, 98, 71, 56, 82, 71, 65], dtype=int32)"
      ]
     },
     "execution_count": 112,
     "metadata": {},
     "output_type": "execute_result"
    }
   ],
   "source": [
    "#overlaping boolean array on real array\n",
    "var[var>50]"
   ]
  },
  {
   "cell_type": "code",
   "execution_count": 115,
   "id": "42b4dbb4-d7ea-4d0f-a2d8-c0ea2b22406b",
   "metadata": {},
   "outputs": [],
   "source": [
    "#set 0 on all these given condition numbers\n",
    "var[(var>50) & (var%2!=0)]=0"
   ]
  },
  {
   "cell_type": "code",
   "execution_count": 116,
   "id": "3fbefb2e-ffd8-4234-bdbd-f0dea2982bdb",
   "metadata": {},
   "outputs": [
    {
     "data": {
      "text/plain": [
       "array([[ 7, 29, 54,  0],\n",
       "       [ 0, 34,  0, 37],\n",
       "       [ 0, 98, 98, 40],\n",
       "       [ 1,  0, 50, 56],\n",
       "       [82, 20,  0, 15],\n",
       "       [40,  0, 40, 18]], dtype=int32)"
      ]
     },
     "execution_count": 116,
     "metadata": {},
     "output_type": "execute_result"
    }
   ],
   "source": [
    "var"
   ]
  },
  {
   "cell_type": "markdown",
   "id": "7d5a62f1-21d3-43d1-8bde-87f3ec571137",
   "metadata": {},
   "source": [
    "# Broadcasting"
   ]
  },
  {
   "cell_type": "markdown",
   "id": "75859cd3-c3d7-429b-9e2d-ec31468f1605",
   "metadata": {},
   "source": [
    "Broadcasting refers to the ability of numpy to treat arraysof different shapes during\n",
    "arthematic operations. Arthematic operations on arrays are usually done on corresponding\n",
    "elements, when two arrays are of exactly the same shape,then these operations are\n",
    "smoothly performed.\n",
    "If the dimensions of two arrays are dissimilar, element-to-element operations are not\n",
    "possible. However, operations on arrays of on-similar shapes is still possible in Numpy,because of the broadcasting capability. The smaller array broadcast to the size of the larger\n",
    "array so that they have compatible shapes."
   ]
  },
  {
   "cell_type": "code",
   "execution_count": 140,
   "id": "0d4bee5a-0981-46b8-a66d-f6fed4bc1e87",
   "metadata": {},
   "outputs": [],
   "source": [
    "from IPython.display import Image\n",
    "\n",
    "\n"
   ]
  },
  {
   "cell_type": "code",
   "execution_count": 141,
   "id": "29586631-cc8f-47ac-aa41-4fca31fe14b7",
   "metadata": {},
   "outputs": [
    {
     "data": {
      "image/jpeg": "[encoded data removed]",
      "text/plain": [
       "<IPython.core.display.Image object>"
      ]
     },
     "execution_count": 141,
     "metadata": {},
     "output_type": "execute_result"
    }
   ],
   "source": [
    "Image(\"pp.jpg\")"
   ]
  },
  {
   "cell_type": "code",
   "execution_count": 118,
   "id": "99e105a0-32cf-48f9-a82a-03d7c34aa4b4",
   "metadata": {},
   "outputs": [
    {
     "name": "stdout",
     "output_type": "stream",
     "text": [
      "Array1:\n",
      " [[0 1 2]\n",
      " [3 4 5]\n",
      " [6 7 8]]\n",
      "Array2:\n",
      " [[0 1 2]]\n",
      "Broadcasting:\n",
      " [[ 0  2  4]\n",
      " [ 3  5  7]\n",
      " [ 6  8 10]]\n"
     ]
    }
   ],
   "source": [
    "var8=np.arange(9).reshape(3,3)\n",
    "var9=np.arange(3).reshape(1,3)\n",
    "\n",
    "print(\"Array1:\\n\",var8)\n",
    "print(\"Array2:\\n\",var9)\n",
    "\n",
    "print(\"Broadcasting:\\n\",var8+var9)\n"
   ]
  },
  {
   "cell_type": "markdown",
   "id": "9b759f54-6ea6-47bb-9bec-6b9e3652075b",
   "metadata": {},
   "source": [
    "# Rules For Broadcasting"
   ]
  },
  {
   "cell_type": "code",
   "execution_count": 119,
   "id": "3ad4d7b3-946a-4f58-9bc3-31612d7cb34b",
   "metadata": {},
   "outputs": [
    {
     "name": "stdout",
     "output_type": "stream",
     "text": [
      "Aarry1:\n",
      " [[ 0  1  2  3  4  5  6  7]\n",
      " [ 8  9 10 11 12 13 14 15]]\n",
      "Aarry2:\n",
      " [[ 8  9 10 11 12 13 14 15]\n",
      " [16 17 18 19 20 21 22 23]]\n",
      "Brodcasting:\n",
      " [[ 8 10 12 14 16 18 20 22]\n",
      " [24 26 28 30 32 34 36 38]]\n"
     ]
    }
   ],
   "source": [
    "# 1. if x=m & y=n, operation will execute\n",
    "a1=np.arange(16).reshape(2,8)\n",
    "a2=np.arange(8,24).reshape(2,8)\n",
    "\n",
    "print(\"Aarry1:\\n\",a1)\n",
    "print(\"Aarry2:\\n\",a2)\n",
    "\n",
    "print(\"Brodcasting:\\n\",a1+a2)\n"
   ]
  },
  {
   "cell_type": "code",
   "execution_count": 122,
   "id": "40bab3d9-6e81-488e-a9bb-63b1dc477e1c",
   "metadata": {},
   "outputs": [
    {
     "name": "stdout",
     "output_type": "stream",
     "text": [
      "Aarry3:\n",
      " [[0 1 2 3]]\n",
      "Aarry4:\n",
      " [[ 0  1  2  3]\n",
      " [ 4  5  6  7]\n",
      " [ 8  9 10 11]]\n",
      "Brodcasting:\n",
      " [[ 0  2  4  6]\n",
      " [ 4  6  8 10]\n",
      " [ 8 10 12 14]]\n",
      "Aarry5:\n",
      " [[0]\n",
      " [1]\n",
      " [2]\n",
      " [3]]\n",
      "Aarry6:\n",
      " [[ 0  1  2]\n",
      " [ 3  4  5]\n",
      " [ 6  7  8]\n",
      " [ 9 10 11]]\n",
      "Brodcasting:\n",
      " [[ 0  1  2]\n",
      " [ 4  5  6]\n",
      " [ 8  9 10]\n",
      " [12 13 14]]\n"
     ]
    }
   ],
   "source": [
    "# 2. if x=1 & y=n then also operation will execute (same correspondance)\n",
    "a3=np.arange(4).reshape(1,4)\n",
    "a4=np.arange(12).reshape(3,4)\n",
    "\n",
    "print(\"Aarry3:\\n\",a3)\n",
    "print(\"Aarry4:\\n\",a4)\n",
    "\n",
    "print(\"Brodcasting:\\n\",a3+a4)\n",
    "\n",
    "a5=np.arange(4).reshape(4,1)\n",
    "a6=np.arange(12).reshape(4,3)\n",
    "\n",
    "print(\"Aarry5:\\n\",a5)\n",
    "print(\"Aarry6:\\n\",a6)\n",
    "\n",
    "print(\"Brodcasting:\\n\",a5+a6)"
   ]
  },
  {
   "cell_type": "code",
   "execution_count": 129,
   "id": "1f7302e3-78e5-4d82-af3a-5ea0a9aad331",
   "metadata": {},
   "outputs": [
    {
     "name": "stdout",
     "output_type": "stream",
     "text": [
      "Aarry7:\n",
      " [[0 1]\n",
      " [2 3]\n",
      " [4 5]]\n",
      "Aarry8:\n",
      " [[ 0  1  2  3]\n",
      " [ 4  5  6  7]\n",
      " [ 8  9 10 11]\n",
      " [12 13 14 15]]\n"
     ]
    },
    {
     "ename": "ValueError",
     "evalue": "operands could not be broadcast together with shapes (3,2) (4,4) ",
     "output_type": "error",
     "traceback": [
      "\u001b[1;31m---------------------------------------------------------------------------\u001b[0m",
      "\u001b[1;31mValueError\u001b[0m                                Traceback (most recent call last)",
      "Cell \u001b[1;32mIn[129], line 7\u001b[0m\n\u001b[0;32m      4\u001b[0m \u001b[38;5;28mprint\u001b[39m(\u001b[38;5;124m\"\u001b[39m\u001b[38;5;124mAarry7:\u001b[39m\u001b[38;5;130;01m\\n\u001b[39;00m\u001b[38;5;124m\"\u001b[39m,a7)\n\u001b[0;32m      5\u001b[0m \u001b[38;5;28mprint\u001b[39m(\u001b[38;5;124m\"\u001b[39m\u001b[38;5;124mAarry8:\u001b[39m\u001b[38;5;130;01m\\n\u001b[39;00m\u001b[38;5;124m\"\u001b[39m,a8)\n\u001b[1;32m----> 7\u001b[0m \u001b[38;5;28mprint\u001b[39m(\u001b[38;5;124m\"\u001b[39m\u001b[38;5;124mBrodcasting:\u001b[39m\u001b[38;5;130;01m\\n\u001b[39;00m\u001b[38;5;124m\"\u001b[39m,a7\u001b[38;5;241m+\u001b[39ma8)\n",
      "\u001b[1;31mValueError\u001b[0m: operands could not be broadcast together with shapes (3,2) (4,4) "
     ]
    }
   ],
   "source": [
    "# 3. if x=1 & y!=n then operation will not execute\n",
    "a7=np.arange(6).reshape(3,2)\n",
    "a8=np.arange(16).reshape(4,4)\n",
    "print(\"Aarry7:\\n\",a7)\n",
    "print(\"Aarry8:\\n\",a8)\n",
    "\n",
    "print(\"Brodcasting:\\n\",a7+a8)\n"
   ]
  },
  {
   "cell_type": "code",
   "execution_count": 130,
   "id": "e08991d2-02fc-484c-bf34-59e8e25b7c6e",
   "metadata": {},
   "outputs": [
    {
     "name": "stdout",
     "output_type": "stream",
     "text": [
      "Aarry9:\n",
      " [[0]\n",
      " [1]\n",
      " [2]\n",
      " [3]]\n",
      "Aarry10:\n",
      " [[0 1 2 3]]\n",
      "Brodcasting:\n",
      " [[0 1 2 3]\n",
      " [1 2 3 4]\n",
      " [2 3 4 5]\n",
      " [3 4 5 6]]\n"
     ]
    }
   ],
   "source": [
    "# 4. if (1, n) & (m, 1) then if will become (m,n), operation will execute\n",
    "a9=np.arange(4).reshape(4,1)\n",
    "a10=np.arange(4).reshape(1,4)\n",
    "\n",
    "print(\"Aarry9:\\n\",a9)\n",
    "print(\"Aarry10:\\n\",a10)\n",
    "\n",
    "print(\"Brodcasting:\\n\",a9+a10)"
   ]
  },
  {
   "cell_type": "code",
   "execution_count": 134,
   "id": "1f89c6be-64a6-4f08-9d1b-4c01a197fdc7",
   "metadata": {},
   "outputs": [
    {
     "name": "stdout",
     "output_type": "stream",
     "text": [
      "Aarry11:\n",
      " [[1]]\n",
      "Aarry12:\n",
      " [[ 0  1  2  3]\n",
      " [ 4  5  6  7]\n",
      " [ 8  9 10 11]\n",
      " [12 13 14 15]]\n",
      "Brodcasting:\n",
      " [[ 1  2  3  4]\n",
      " [ 5  6  7  8]\n",
      " [ 9 10 11 12]\n",
      " [13 14 15 16]]\n"
     ]
    }
   ],
   "source": [
    "# 5. if x=1 & y=1, then operation will also execute\n",
    "a11=np.arange(1,2).reshape(1,1)\n",
    "a12=np.arange(16).reshape(4,4)\n",
    "\n",
    "print(\"Aarry11:\\n\",a11)\n",
    "print(\"Aarry12:\\n\",a12)\n",
    "\n",
    "print(\"Brodcasting:\\n\",a11+a12)"
   ]
  },
  {
   "cell_type": "code",
   "execution_count": 135,
   "id": "69465ec6-3496-4d71-beb4-167d90c5bd76",
   "metadata": {},
   "outputs": [
    {
     "name": "stdout",
     "output_type": "stream",
     "text": [
      "Aarry13:\n",
      " [0 1 2 3]\n",
      "Aarry14:\n",
      " [[ 0  1  2  3]\n",
      " [ 4  5  6  7]\n",
      " [ 8  9 10 11]\n",
      " [12 13 14 15]\n",
      " [16 17 18 19]\n",
      " [20 21 22 23]]\n",
      "Brodcasting:\n",
      " [[ 0  2  4  6]\n",
      " [ 4  6  8 10]\n",
      " [ 8 10 12 14]\n",
      " [12 14 16 18]\n",
      " [16 18 20 22]\n",
      " [20 22 24 26]]\n"
     ]
    }
   ],
   "source": [
    "# 6. if they are of different dimensions\n",
    "a13=np.arange(4)\n",
    "a14=np.arange(24).reshape(6,4)\n",
    "\n",
    "\n",
    "print(\"Aarry13:\\n\",a13)\n",
    "print(\"Aarry14:\\n\",a14)\n",
    "\n",
    "print(\"Brodcasting:\\n\",a13+a14)\n"
   ]
  },
  {
   "cell_type": "markdown",
   "id": "84716c37-e708-41ec-b5f9-27173c57a964",
   "metadata": {},
   "source": [
    "# handling Missing Values\n"
   ]
  },
  {
   "cell_type": "code",
   "execution_count": 136,
   "id": "861dfebe-dccf-40e5-aacf-9540ea3681f6",
   "metadata": {},
   "outputs": [
    {
     "name": "stdout",
     "output_type": "stream",
     "text": [
      "[ 1.  2.  3.  4. nan  6.  7. nan  8. nan]\n"
     ]
    }
   ],
   "source": [
    "# issing values ----> nan\n",
    "a=np.array([1,2,3,4,np.nan,6,7,np.nan,8,np.nan])\n",
    "print(a)"
   ]
  },
  {
   "cell_type": "code",
   "execution_count": 137,
   "id": "8058c4fd-6eba-4001-b053-1696d94b205b",
   "metadata": {},
   "outputs": [
    {
     "name": "stdout",
     "output_type": "stream",
     "text": [
      "[False False False False  True False False  True False  True]\n"
     ]
    }
   ],
   "source": [
    "# isnan---> True for nan value\n",
    "print(np.isnan(a))"
   ]
  },
  {
   "cell_type": "code",
   "execution_count": 138,
   "id": "a811673a-c60d-45ef-a675-15146145d6da",
   "metadata": {},
   "outputs": [
    {
     "data": {
      "text/plain": [
       "array([nan, nan, nan])"
      ]
     },
     "execution_count": 138,
     "metadata": {},
     "output_type": "execute_result"
    }
   ],
   "source": [
    "# isnan overlaping\n",
    "a[np.isnan(a)]"
   ]
  },
  {
   "cell_type": "code",
   "execution_count": 139,
   "id": "09f406bc-b91b-4b30-a1c8-0f2daaac56c5",
   "metadata": {},
   "outputs": [
    {
     "data": {
      "text/plain": [
       "array([1., 2., 3., 4., 6., 7., 8.])"
      ]
     },
     "execution_count": 139,
     "metadata": {},
     "output_type": "execute_result"
    }
   ],
   "source": [
    "#  isnan negation---> give without nan value\n",
    "a[~np.isnan(a)]"
   ]
  },
  {
   "cell_type": "code",
   "execution_count": null,
   "id": "2f2dab27-d4e2-40b8-8817-b807c487a7d9",
   "metadata": {},
   "outputs": [],
   "source": []
  }
 ],
 "metadata": {
  "kernelspec": {
   "display_name": "Python 3 (ipykernel)",
   "language": "python",
   "name": "python3"
  },
  "language_info": {
   "codemirror_mode": {
    "name": "ipython",
    "version": 3
   },
   "file_extension": ".py",
   "mimetype": "text/x-python",
   "name": "python",
   "nbconvert_exporter": "python",
   "pygments_lexer": "ipython3",
   "version": "3.13.5"
  }
 },
 "nbformat": 4,
 "nbformat_minor": 5
}
