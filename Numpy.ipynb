{
 "cells": [
  {
   "cell_type": "markdown",
   "id": "5ce907ac-2053-4690-9db9-ef30dfa4ded4",
   "metadata": {},
   "source": [
    "# Numpy"
   ]
  },
  {
   "cell_type": "code",
   "execution_count": 2,
   "id": "57d3df8b-36f5-4c87-83b8-9da4fce8fdde",
   "metadata": {},
   "outputs": [],
   "source": [
    "import numpy as np"
   ]
  },
  {
   "cell_type": "code",
   "execution_count": 2,
   "id": "a231ffcb-9f61-46f0-8b4b-ab325fe5c5bc",
   "metadata": {},
   "outputs": [
    {
     "name": "stdout",
     "output_type": "stream",
     "text": [
      "[1 2 3 4 5]\n",
      "<class 'numpy.ndarray'>\n"
     ]
    }
   ],
   "source": [
    "arr= np.array([1,2,3,4,5])\n",
    "print(arr)\n",
    "print(type(arr))"
   ]
  },
  {
   "cell_type": "code",
   "execution_count": 3,
   "id": "ff280378-a5b4-4b9c-88c8-d0c53feeff42",
   "metadata": {},
   "outputs": [
    {
     "name": "stdout",
     "output_type": "stream",
     "text": [
      "[1 2 3 4]\n",
      "<class 'numpy.ndarray'>\n"
     ]
    }
   ],
   "source": [
    "arr= np.array((1,2,3,4))\n",
    "print(arr)\n",
    "print(type(arr))"
   ]
  },
  {
   "cell_type": "code",
   "execution_count": null,
   "id": "0e178112-22c2-4f8f-9bd8-11e547aebb3e",
   "metadata": {},
   "outputs": [],
   "source": []
  },
  {
   "cell_type": "code",
   "execution_count": null,
   "id": "22fb6adf-614c-4803-9023-089dbe5722e4",
   "metadata": {},
   "outputs": [],
   "source": []
  },
  {
   "cell_type": "markdown",
   "id": "07d86c74-df83-45c0-b828-1bf2b306ffb4",
   "metadata": {},
   "source": [
    "# Diamention in array"
   ]
  },
  {
   "cell_type": "code",
   "execution_count": 4,
   "id": "7cf6e682-a39d-4f33-a481-1df327d3182f",
   "metadata": {},
   "outputs": [
    {
     "name": "stdout",
     "output_type": "stream",
     "text": [
      "20\n",
      "<class 'numpy.ndarray'>\n",
      "0\n"
     ]
    }
   ],
   "source": [
    "arr= np.array(20)\n",
    "print(arr)\n",
    "print(type(arr))\n",
    "print(arr.ndim) #check the diamention of array"
   ]
  },
  {
   "cell_type": "markdown",
   "id": "1d976167-e3d9-43a5-a019-6e898461ae52",
   "metadata": {},
   "source": [
    "# 1-d array"
   ]
  },
  {
   "cell_type": "code",
   "execution_count": 5,
   "id": "db9c1141-5d43-41df-a1dc-4ac960dafe61",
   "metadata": {},
   "outputs": [
    {
     "name": "stdout",
     "output_type": "stream",
     "text": [
      "[1 2 3 4 5]\n",
      "1\n"
     ]
    }
   ],
   "source": [
    "arr= np.array([1,2,3,4,5])\n",
    "print(arr)\n",
    "print(arr.ndim)"
   ]
  },
  {
   "cell_type": "markdown",
   "id": "6ed347bf-4151-4032-921f-35cf70a2bc82",
   "metadata": {},
   "source": [
    "# 2-d array"
   ]
  },
  {
   "cell_type": "code",
   "execution_count": 6,
   "id": "d5bee8ca-81ea-42ac-bf63-549bdcbfbeb6",
   "metadata": {},
   "outputs": [
    {
     "name": "stdout",
     "output_type": "stream",
     "text": [
      "[[1 2 3]\n",
      " [4 5 6]]\n",
      "2\n"
     ]
    }
   ],
   "source": [
    "arr= np.array([[1,2,3],[4,5,6]])\n",
    "print(arr)\n",
    "print(arr.ndim)"
   ]
  },
  {
   "cell_type": "code",
   "execution_count": 13,
   "id": "7ca358f2-b466-4b51-ac1d-736dc39a03b3",
   "metadata": {},
   "outputs": [
    {
     "name": "stdout",
     "output_type": "stream",
     "text": [
      "[[1.1  2.2  3.33]\n",
      " [4.44 5.67 6.98]]\n",
      "2\n"
     ]
    }
   ],
   "source": [
    "arr= np.array([[1.1,2.2,3.33],[4.44,5.67,6.98]])\n",
    "print(arr)\n",
    "print(arr.ndim)"
   ]
  },
  {
   "cell_type": "markdown",
   "id": "1368cb9f-7708-40d4-9b95-7157e64abe8a",
   "metadata": {},
   "source": [
    "# 3-d array"
   ]
  },
  {
   "cell_type": "code",
   "execution_count": 14,
   "id": "432113a4-8434-459b-ba39-7fcff0e515cd",
   "metadata": {},
   "outputs": [
    {
     "name": "stdout",
     "output_type": "stream",
     "text": [
      "[[[ 1  2  3]\n",
      "  [ 4  5  6]]\n",
      "\n",
      " [[ 7  8  9]\n",
      "  [10 11 12]]]\n",
      "3\n"
     ]
    }
   ],
   "source": [
    "arr= np.array([[[1,2,3],[4,5,6]],[[7,8,9],[10,11,12]]])\n",
    "print(arr)\n",
    "print(arr.ndim)"
   ]
  },
  {
   "cell_type": "markdown",
   "id": "d4c9621a-9cd1-4e75-8416-a0db7762ad5e",
   "metadata": {},
   "source": [
    "# check number of diamention Array"
   ]
  },
  {
   "cell_type": "code",
   "execution_count": 15,
   "id": "4867e29b-ec2a-4900-bf90-5b4e4df9abcd",
   "metadata": {},
   "outputs": [
    {
     "name": "stdout",
     "output_type": "stream",
     "text": [
      "0\n",
      "1\n",
      "2\n",
      "3\n"
     ]
    }
   ],
   "source": [
    "a= np.array(42) # 0 diamention\n",
    "b= np.array([1,2,3,4]) #1 diamention\n",
    "c= np.array([[1,2,3],[4,5,6]])# 2 diamention\n",
    "d= np.array([[[1,2,3],[4,5,6]],[[1,2,3],[6,7,8]]])# 3 diamention\n",
    "#d= np.array([[[1,2,3],[4,5,6]],[[7,8,9],[10,11,12]]])\n",
    "\n",
    "print(a.ndim)\n",
    "print(b.ndim)\n",
    "print(c.ndim)\n",
    "print(d.ndim)\n",
    "\n",
    "\n"
   ]
  },
  {
   "cell_type": "markdown",
   "id": "c7493372-2960-4c7a-a08e-87729800ce43",
   "metadata": {},
   "source": [
    "# Create an Array"
   ]
  },
  {
   "cell_type": "code",
   "execution_count": 16,
   "id": "83808c78-676f-4e66-aab6-2230c3c035fa",
   "metadata": {},
   "outputs": [
    {
     "name": "stdout",
     "output_type": "stream",
     "text": [
      "[[[[[1 2 3 4 5]]]]]\n",
      "Number of Diamenision: 5\n"
     ]
    }
   ],
   "source": [
    "arr= np.array([1,2,3,4,5], ndmin=5) #create an Array\n",
    "print(arr)\n",
    "print(\"Number of Diamenision:\",arr.ndim)"
   ]
  },
  {
   "cell_type": "code",
   "execution_count": 17,
   "id": "09d2b015-0e3a-47e9-94c5-f7b8eaba7f1d",
   "metadata": {},
   "outputs": [
    {
     "name": "stdout",
     "output_type": "stream",
     "text": [
      "[[[[[1 2 3 4 5]]]]]\n",
      "Number of Diamenision: 5\n"
     ]
    }
   ],
   "source": [
    "a=np.array([[[[[1, 2, 3, 4, 5]]]]])\n",
    "print(a)\n",
    "print(\"Number of Diamenision:\",a.ndim)"
   ]
  },
  {
   "cell_type": "markdown",
   "id": "976e6785-b440-4263-acc1-36b605b6ce5c",
   "metadata": {},
   "source": [
    "# Numpy Array indexing"
   ]
  },
  {
   "cell_type": "code",
   "execution_count": 18,
   "id": "b22dd689-b122-40cf-919f-0e9346502140",
   "metadata": {},
   "outputs": [
    {
     "name": "stdout",
     "output_type": "stream",
     "text": [
      "1\n",
      "4\n",
      "5\n"
     ]
    }
   ],
   "source": [
    "arr= np.array([1,2,3,4,5])\n",
    "print(arr[0])\n",
    "print(arr[3])\n",
    "print(arr[-1])\n"
   ]
  },
  {
   "cell_type": "markdown",
   "id": "f7b52fcd-7ca2-4c86-862e-52ee66e48623",
   "metadata": {},
   "source": [
    "# Get 3, 6, 8 element and ADD them"
   ]
  },
  {
   "cell_type": "code",
   "execution_count": 19,
   "id": "d439c9ad-dd5f-4069-a2eb-5280ecd11aa3",
   "metadata": {},
   "outputs": [
    {
     "name": "stdout",
     "output_type": "stream",
     "text": [
      "3 Element is 45\n",
      "6 Element is 87\n",
      "8 Element is 100\n",
      "Sum is 232\n"
     ]
    }
   ],
   "source": [
    "arr=[2,34,45,6,7,87,9,100,55,98,28,77,900]\n",
    "print(\"3 Element is\",arr[2])\n",
    "print(\"6 Element is\",arr[5])\n",
    "print(\"8 Element is\",arr[7])\n",
    "print(\"Sum is\",arr[2]+arr[5]+arr[7])"
   ]
  },
  {
   "cell_type": "markdown",
   "id": "d72cef06-cb04-46cd-b374-c98dc3af42c8",
   "metadata": {},
   "source": [
    "# Access 2-D"
   ]
  },
  {
   "cell_type": "code",
   "execution_count": 20,
   "id": "2b455c04-ec7c-4174-a45f-b61bff481ed0",
   "metadata": {},
   "outputs": [
    {
     "name": "stdout",
     "output_type": "stream",
     "text": [
      "2nd element and row 1: 2\n",
      "2\n"
     ]
    }
   ],
   "source": [
    "arr= np.array([[1,2,3,4],[7,8,9,10]])\n",
    "print(\"2nd element and row 1:\",arr[0,1])\n",
    "print(arr.ndim)"
   ]
  },
  {
   "cell_type": "code",
   "execution_count": 21,
   "id": "ec6fbc7c-c5be-4cf4-8fee-a88d984266a4",
   "metadata": {},
   "outputs": [
    {
     "name": "stdout",
     "output_type": "stream",
     "text": [
      "3nd element and row 2: 9\n"
     ]
    }
   ],
   "source": [
    "arr= np.array([[1,2,3,4],[7,8,9,10]])\n",
    "print(\"3nd element and row 2:\",arr[1,2])"
   ]
  },
  {
   "cell_type": "code",
   "execution_count": 22,
   "id": "fc2527a3-f3d3-453b-ac4f-afa934949e18",
   "metadata": {},
   "outputs": [
    {
     "name": "stdout",
     "output_type": "stream",
     "text": [
      "1nd element and row 2: 8\n"
     ]
    }
   ],
   "source": [
    "arr= np.array([[1,2,3,4],[7,8,9,10]])\n",
    "print(\"1nd element and row 2:\",arr[1,1])"
   ]
  },
  {
   "cell_type": "code",
   "execution_count": 23,
   "id": "740609bc-8638-4cd0-897a-b42489705935",
   "metadata": {},
   "outputs": [
    {
     "name": "stdout",
     "output_type": "stream",
     "text": [
      "last element and row 1: 4\n"
     ]
    }
   ],
   "source": [
    "arr= np.array([[1,2,3,4],[7,8,9,10]])\n",
    "print(\"last element and row 1:\",arr[0,3])"
   ]
  },
  {
   "cell_type": "code",
   "execution_count": 24,
   "id": "60d10ccb-ddfe-45cb-a7cf-58846042267f",
   "metadata": {},
   "outputs": [
    {
     "name": "stdout",
     "output_type": "stream",
     "text": [
      "First Element  10\n",
      "Last Element  100\n",
      "Sum is  110\n"
     ]
    }
   ],
   "source": [
    "#1 and last element and ADD them in 2-D\n",
    "arr=np.array([[10,20,30,40,50],[60,70,80,90,100]])\n",
    "print(\"First Element \",arr[0,0])\n",
    "print(\"Last Element \",arr[1,4])\n",
    "print(\"Sum is \",arr[0,0]+arr[1,4])\n",
    "\n"
   ]
  },
  {
   "cell_type": "markdown",
   "id": "c85c18f8-d8d9-4cb5-a646-06f8143870a0",
   "metadata": {},
   "source": [
    "# Access 3-D Array"
   ]
  },
  {
   "cell_type": "code",
   "execution_count": 25,
   "id": "60eb38ec-7379-4206-9ebc-e6b6a72f9dcf",
   "metadata": {},
   "outputs": [
    {
     "name": "stdout",
     "output_type": "stream",
     "text": [
      "3\n"
     ]
    }
   ],
   "source": [
    "arr=np.array([[[1,2,3],[4,5,6]],[[7,8,9],[10,11,12]]])\n",
    "print(arr[0,0,2])"
   ]
  },
  {
   "cell_type": "code",
   "execution_count": 26,
   "id": "3e1eff3b-955d-4fdf-8235-9c69afc840a3",
   "metadata": {},
   "outputs": [
    {
     "name": "stdout",
     "output_type": "stream",
     "text": [
      "9\n"
     ]
    }
   ],
   "source": [
    "arr=np.array([[[1,2,3],[4,5,6]],[[7,8,9],[10,11,12]]])\n",
    "print(arr[1,0,2])"
   ]
  },
  {
   "cell_type": "code",
   "execution_count": 27,
   "id": "25316ea9-14c1-4f34-98b4-4a60a2e4911d",
   "metadata": {},
   "outputs": [
    {
     "name": "stdout",
     "output_type": "stream",
     "text": [
      "12\n"
     ]
    }
   ],
   "source": [
    "arr=np.array([[[1,2,3],[4,5,6]],[[7,8,9],[10,11,12]]])\n",
    "print(arr[1,1,2])"
   ]
  },
  {
   "cell_type": "code",
   "execution_count": 28,
   "id": "78330031-a844-4693-87dc-5bcd9e68ebb0",
   "metadata": {},
   "outputs": [
    {
     "name": "stdout",
     "output_type": "stream",
     "text": [
      "5\n"
     ]
    }
   ],
   "source": [
    "arr=np.array([[[1,2,3],[4,5,6]],[[7,8,9],[10,11,12]]])\n",
    "print(arr[0,1,1])\n"
   ]
  },
  {
   "cell_type": "code",
   "execution_count": 29,
   "id": "d35cc00b-b348-422a-89fd-9c4eb6b5c451",
   "metadata": {},
   "outputs": [
    {
     "name": "stdout",
     "output_type": "stream",
     "text": [
      "11\n"
     ]
    }
   ],
   "source": [
    "arr=np.array([[[1,2,3],[4,5,6]],[[7,8,9],[10,11,12]]])\n",
    "print(arr[1,1,1])"
   ]
  },
  {
   "cell_type": "markdown",
   "id": "a73bfe35-9765-4c1a-bf31-e1e82dba76b9",
   "metadata": {},
   "source": [
    "# Sciling Of Numpy Array"
   ]
  },
  {
   "cell_type": "code",
   "execution_count": 30,
   "id": "1dead603-4ea1-40ae-bf62-a0994ecbab5f",
   "metadata": {},
   "outputs": [
    {
     "name": "stdout",
     "output_type": "stream",
     "text": [
      "[3 4 5]\n"
     ]
    }
   ],
   "source": [
    "arr=np.array([1,2,3,4,5,6,7])\n",
    "print(arr[2:5])"
   ]
  },
  {
   "cell_type": "code",
   "execution_count": 31,
   "id": "abefd3df-3edf-4e71-a985-fbecb9dcb4e9",
   "metadata": {},
   "outputs": [
    {
     "name": "stdout",
     "output_type": "stream",
     "text": [
      "[2 3 4 5]\n"
     ]
    }
   ],
   "source": [
    "arr=np.array([1,2,3,4,5,6,7])\n",
    "print(arr[1:5])"
   ]
  },
  {
   "cell_type": "code",
   "execution_count": 32,
   "id": "b7d23bdd-13fc-44bd-95d6-e28d8553f46f",
   "metadata": {},
   "outputs": [
    {
     "name": "stdout",
     "output_type": "stream",
     "text": [
      "[1 2 3 4 5 6 7]\n"
     ]
    }
   ],
   "source": [
    "arr=np.array([1,2,3,4,5,6,7])\n",
    "print(arr[::])"
   ]
  },
  {
   "cell_type": "code",
   "execution_count": 33,
   "id": "e2e158b1-3b9f-49d8-9188-023943045f36",
   "metadata": {},
   "outputs": [
    {
     "name": "stdout",
     "output_type": "stream",
     "text": [
      "[1 3 5 7]\n"
     ]
    }
   ],
   "source": [
    "arr=np.array([1,2,3,4,5,6,7])\n",
    "print(arr[::2])"
   ]
  },
  {
   "cell_type": "markdown",
   "id": "4a9c6976-3818-4fbe-b75a-4ea7549b9810",
   "metadata": {},
   "source": [
    "# Sciling in 2-D Array"
   ]
  },
  {
   "cell_type": "code",
   "execution_count": 34,
   "id": "024c8c12-46a4-4e68-8887-fc7dce601e5d",
   "metadata": {},
   "outputs": [
    {
     "name": "stdout",
     "output_type": "stream",
     "text": [
      "[2 3 4]\n"
     ]
    }
   ],
   "source": [
    "arr=np.array([[1,2,3,4,5],[6,7,8,9,10]])\n",
    "print(arr[0,1:4])"
   ]
  },
  {
   "cell_type": "code",
   "execution_count": 35,
   "id": "f3dd749c-5f2b-4677-8f64-aa1721f6260f",
   "metadata": {},
   "outputs": [
    {
     "name": "stdout",
     "output_type": "stream",
     "text": [
      "[1 2 3 4 5]\n"
     ]
    }
   ],
   "source": [
    "arr=np.array([[1,2,3,4,5],[6,7,8,9,10]])\n",
    "print(arr[0,0:5])"
   ]
  },
  {
   "cell_type": "code",
   "execution_count": 36,
   "id": "109cb042-7c4c-44e3-be30-09f1271fa249",
   "metadata": {},
   "outputs": [
    {
     "name": "stdout",
     "output_type": "stream",
     "text": [
      "[7 8 9]\n"
     ]
    }
   ],
   "source": [
    "arr=np.array([[1,2,3,4,5],[6,7,8,9,10]])\n",
    "print(arr[1,1:4])"
   ]
  },
  {
   "cell_type": "code",
   "execution_count": 37,
   "id": "657c90e7-f3ae-4d5d-a4e1-e3a3d439f93b",
   "metadata": {},
   "outputs": [
    {
     "name": "stdout",
     "output_type": "stream",
     "text": [
      "[ 6  8 10]\n"
     ]
    }
   ],
   "source": [
    "arr=np.array([[1,2,3,4,5],[6,7,8,9,10]])\n",
    "print(arr[1,::2])"
   ]
  },
  {
   "cell_type": "code",
   "execution_count": 38,
   "id": "3507f402-96ec-41c1-9b5c-aa4837179c9f",
   "metadata": {},
   "outputs": [
    {
     "name": "stdout",
     "output_type": "stream",
     "text": [
      "[5 4 3 2 1]\n"
     ]
    }
   ],
   "source": [
    "arr=np.array([[1,2,3,4,5],[6,7,8,9,10]])\n",
    "print(arr[0,::-1])"
   ]
  },
  {
   "cell_type": "code",
   "execution_count": 39,
   "id": "1708bd7e-3227-4998-a539-879ccb85484c",
   "metadata": {},
   "outputs": [
    {
     "name": "stdout",
     "output_type": "stream",
     "text": [
      "[10  9  8  7  6]\n"
     ]
    }
   ],
   "source": [
    "arr=np.array([[1,2,3,4,5],[6,7,8,9,10]])\n",
    "print(arr[1,::-1])"
   ]
  },
  {
   "cell_type": "markdown",
   "id": "6b54d85c-edb8-49ee-b143-a41692a22351",
   "metadata": {},
   "source": [
    "# Special Types of Arrays ( filled with specific value)"
   ]
  },
  {
   "cell_type": "markdown",
   "id": "4d5a6883-3f17-40b3-87a9-69c99ee4b0b6",
   "metadata": {},
   "source": [
    "![](pic4.jpg)"
   ]
  },
  {
   "cell_type": "markdown",
   "id": "bf1e40ee-f9c4-4749-b268-e288e324f784",
   "metadata": {},
   "source": [
    "# zeros"
   ]
  },
  {
   "cell_type": "code",
   "execution_count": 53,
   "id": "7a07c938-91d5-4394-b684-cc8cb29f17b9",
   "metadata": {},
   "outputs": [
    {
     "name": "stdout",
     "output_type": "stream",
     "text": [
      "[0. 0. 0. 0.]\n",
      "\n",
      "[[0. 0. 0. 0.]\n",
      " [0. 0. 0. 0.]\n",
      " [0. 0. 0. 0.]]\n"
     ]
    }
   ],
   "source": [
    "v=np.zeros(4)\n",
    "print(v)\n",
    "print()\n",
    "v1=np.zeros((3,4))\n",
    "print(v1)"
   ]
  },
  {
   "cell_type": "markdown",
   "id": "d8848e98-772f-43fa-949e-041705727774",
   "metadata": {},
   "source": [
    "# ones"
   ]
  },
  {
   "cell_type": "code",
   "execution_count": 54,
   "id": "d3db7ad1-9e31-4d90-9a1f-28d88303c5e2",
   "metadata": {},
   "outputs": [
    {
     "name": "stdout",
     "output_type": "stream",
     "text": [
      "[1. 1. 1. 1.]\n",
      "\n",
      "[[1. 1. 1. 1.]\n",
      " [1. 1. 1. 1.]\n",
      " [1. 1. 1. 1.]]\n"
     ]
    }
   ],
   "source": [
    "v=np.ones(4)\n",
    "print(v)\n",
    "print()\n",
    "v1=np.ones((3,4))\n",
    "print(v1)"
   ]
  },
  {
   "cell_type": "markdown",
   "id": "91506283-10eb-4141-9069-6f3200c66ec1",
   "metadata": {},
   "source": [
    "# Empty"
   ]
  },
  {
   "cell_type": "code",
   "execution_count": 55,
   "id": "39790162-3688-41d6-bbcd-e37e9d60c0fc",
   "metadata": {},
   "outputs": [
    {
     "name": "stdout",
     "output_type": "stream",
     "text": [
      "[1. 1. 1. 1.]\n"
     ]
    }
   ],
   "source": [
    "x=np.empty(4)\n",
    "print(x) #print only previous(last) value in memory\n"
   ]
  },
  {
   "cell_type": "markdown",
   "id": "a929be67-e906-448d-9c0f-0a6ac0bad785",
   "metadata": {},
   "source": [
    "# Range"
   ]
  },
  {
   "cell_type": "code",
   "execution_count": 62,
   "id": "cff45f91-1c62-4432-af00-d6baab0ccd97",
   "metadata": {},
   "outputs": [
    {
     "name": "stdout",
     "output_type": "stream",
     "text": [
      "[0 1 2 3]\n",
      "[1 2 3 4 5]\n"
     ]
    }
   ],
   "source": [
    "y=np.arange(4)\n",
    "print(y)\n",
    "print()\n",
    "z=np.arange(1,6)\n",
    "print(z)"
   ]
  },
  {
   "cell_type": "markdown",
   "id": "3517319e-b7fc-444e-82d2-13637542f39e",
   "metadata": {},
   "source": [
    "# Diagonal"
   ]
  },
  {
   "cell_type": "code",
   "execution_count": 65,
   "id": "907067de-319c-41e0-b217-cedc73979275",
   "metadata": {},
   "outputs": [
    {
     "name": "stdout",
     "output_type": "stream",
     "text": [
      "[[1. 0. 0. 0.]\n",
      " [0. 1. 0. 0.]\n",
      " [0. 0. 1. 0.]\n",
      " [0. 0. 0. 1.]]\n",
      "\n",
      "[[1. 0. 0.]\n",
      " [0. 1. 0.]\n",
      " [0. 0. 1.]]\n"
     ]
    }
   ],
   "source": [
    "q=np.eye(4)\n",
    "print(q)\n",
    "print()\n",
    "q1=np.eye(3,3)\n",
    "print(q1)"
   ]
  },
  {
   "cell_type": "markdown",
   "id": "38d3d67d-cb24-4faf-9d5b-48ed2b7eb845",
   "metadata": {},
   "source": [
    "# LineSpace"
   ]
  },
  {
   "cell_type": "code",
   "execution_count": 69,
   "id": "5867cff2-f698-449c-8127-f60f2462b088",
   "metadata": {},
   "outputs": [
    {
     "name": "stdout",
     "output_type": "stream",
     "text": [
      "[ 1.    3.25  5.5   7.75 10.  ]\n",
      "\n",
      "[ 0.          3.33333333  6.66666667 10.        ]\n"
     ]
    }
   ],
   "source": [
    "d=np.linspace(1,10,num=5)\n",
    "print(d)\n",
    "print()\n",
    "d=np.linspace(0,10,num=4)\n",
    "print(d)"
   ]
  },
  {
   "cell_type": "code",
   "execution_count": 70,
   "id": "7dfc1de2-6998-41fc-8606-151f2e7daa57",
   "metadata": {},
   "outputs": [
    {
     "name": "stdout",
     "output_type": "stream",
     "text": [
      "[ 0.  5. 10. 15. 20.]\n"
     ]
    }
   ],
   "source": [
    "d=np.linspace(0,20,num=5)\n",
    "print(d)"
   ]
  },
  {
   "cell_type": "markdown",
   "id": "793fc894-ebeb-44cf-bcaa-e544b2aa21bd",
   "metadata": {},
   "source": [
    "# Creating Random Valued Arrays"
   ]
  },
  {
   "cell_type": "markdown",
   "id": "9a6a04f4-6132-45f9-b068-7991666ffcb4",
   "metadata": {},
   "source": [
    "# Random"
   ]
  },
  {
   "cell_type": "markdown",
   "id": "d8931a3d-c094-4310-8655-3bc79c9b8e46",
   "metadata": {},
   "source": [
    "![](pic5.jpg)"
   ]
  },
  {
   "cell_type": "markdown",
   "id": "e37dd3c7-0285-4a6b-919e-4752c0a553e9",
   "metadata": {},
   "source": [
    "# rand()"
   ]
  },
  {
   "cell_type": "code",
   "execution_count": 73,
   "id": "7708cfbd-f10d-4169-ba42-123c6a9df9d5",
   "metadata": {},
   "outputs": [
    {
     "name": "stdout",
     "output_type": "stream",
     "text": [
      "[0.13700983 0.68907892 0.40322884 0.78373308]\n"
     ]
    }
   ],
   "source": [
    "var=np.random.rand(4)\n",
    "print(var) #every print is random value between (0-1)\n",
    "\n"
   ]
  },
  {
   "cell_type": "code",
   "execution_count": 75,
   "id": "6634bcd8-e326-4eb2-a910-76bfec99763b",
   "metadata": {},
   "outputs": [
    {
     "name": "stdout",
     "output_type": "stream",
     "text": [
      "[[0.01960081 0.60207682 0.41840869 0.26882525 0.27030883]\n",
      " [0.10313484 0.0714567  0.10254814 0.02184169 0.68597841]]\n"
     ]
    }
   ],
   "source": [
    "var1=np.random.rand(2,5)\n",
    "print(var1) #every print is random value between (0-1)\n",
    "\n"
   ]
  },
  {
   "cell_type": "markdown",
   "id": "3095234a-447e-4ee1-b467-d16ea7411011",
   "metadata": {},
   "source": [
    "# randn()"
   ]
  },
  {
   "cell_type": "code",
   "execution_count": 78,
   "id": "c17e2973-001a-4eaa-9a80-f055683385ac",
   "metadata": {},
   "outputs": [
    {
     "name": "stdout",
     "output_type": "stream",
     "text": [
      "[-1.3552652  -0.12031355 -0.21305276  0.45528788 -0.53408443]\n"
     ]
    }
   ],
   "source": [
    "var1=np.random.randn(5)# every print is random value is close to (0)\n",
    "\n",
    "print(var1)"
   ]
  },
  {
   "cell_type": "markdown",
   "id": "25ed814a-5a57-4f74-bc8e-9b194993137c",
   "metadata": {},
   "source": [
    "# randf()"
   ]
  },
  {
   "cell_type": "code",
   "execution_count": 81,
   "id": "86d5e51f-325b-43a4-bf51-3e5539164bf6",
   "metadata": {},
   "outputs": [
    {
     "name": "stdout",
     "output_type": "stream",
     "text": [
      "[0.62555955 0.44259856 0.73310174 0.97623313 0.97195521]\n"
     ]
    }
   ],
   "source": [
    "var2=np.random.ranf(5)# every print is random value between [0-1)(zero is included and 1 is not included)\n",
    "\n",
    "print(var2)"
   ]
  },
  {
   "cell_type": "markdown",
   "id": "354eb4ae-29ce-4c53-b2e3-650a94ef7532",
   "metadata": {},
   "source": [
    "# randint()"
   ]
  },
  {
   "cell_type": "code",
   "execution_count": 88,
   "id": "f01ed8b5-3ec9-4455-9100-00f9fbb413da",
   "metadata": {},
   "outputs": [
    {
     "name": "stdout",
     "output_type": "stream",
     "text": [
      "[17 13 14 13  5]\n"
     ]
    }
   ],
   "source": [
    "# var3=np.random.randint(min,max,total_number) every print is random value given range\n",
    "var3=np.random.randint(5,20,5)\n",
    "print(var3)"
   ]
  },
  {
   "cell_type": "markdown",
   "id": "8e0436ad-f39f-4856-a9dc-707e22dd5836",
   "metadata": {},
   "source": [
    "![](pic6.jpg)"
   ]
  },
  {
   "cell_type": "markdown",
   "id": "582836a2-7a05-496e-87d3-9a0036758b92",
   "metadata": {},
   "source": [
    "![](pic7.jpg)"
   ]
  },
  {
   "cell_type": "markdown",
   "id": "d93aad7d-960f-4ea8-a6ec-19e4e245ee2b",
   "metadata": {},
   "source": [
    "![](pic8.jpg)"
   ]
  },
  {
   "attachments": {},
   "cell_type": "markdown",
   "id": "7df6231e-782e-48f7-9747-703f647171e4",
   "metadata": {},
   "source": [
    "![](pic9.jpg)"
   ]
  },
  {
   "cell_type": "markdown",
   "id": "afa17fb1-fb44-4d25-aa78-ef2e9b1b3a95",
   "metadata": {},
   "source": [
    "# Checking the data types of an Array"
   ]
  },
  {
   "cell_type": "code",
   "execution_count": 40,
   "id": "f647a716-65aa-4c5c-9a4c-e56ec289666a",
   "metadata": {},
   "outputs": [
    {
     "name": "stdout",
     "output_type": "stream",
     "text": [
      "int64\n"
     ]
    }
   ],
   "source": [
    "arr=np.array([1,2,3,4])\n",
    "print(arr.dtype)"
   ]
  },
  {
   "cell_type": "code",
   "execution_count": 41,
   "id": "445ddce3-c15c-45ea-8f1b-bb84a480bac0",
   "metadata": {},
   "outputs": [
    {
     "name": "stdout",
     "output_type": "stream",
     "text": [
      "<U6\n"
     ]
    }
   ],
   "source": [
    "arr=np.array([\"Animal\",\"CAT\",\"Dog\"])\n",
    "print(arr.dtype)"
   ]
  },
  {
   "cell_type": "markdown",
   "id": "929e43cb-6300-4f0b-a712-50e18dc8dd3a",
   "metadata": {},
   "source": [
    "# Creating Arrays with Defined data types"
   ]
  },
  {
   "cell_type": "code",
   "execution_count": 42,
   "id": "9e97a632-a5b1-4554-b140-bff578dfee57",
   "metadata": {},
   "outputs": [
    {
     "name": "stdout",
     "output_type": "stream",
     "text": [
      "[b'1' b'2' b'3' b'4' b'5']\n",
      "|S1\n"
     ]
    }
   ],
   "source": [
    "arr=np.array([1,2,3,4,5], dtype=\"S\")\n",
    "print(arr)\n",
    "print(arr.dtype)"
   ]
  },
  {
   "cell_type": "code",
   "execution_count": 43,
   "id": "0a1a8360-4c19-4833-a37d-363178e6cbff",
   "metadata": {},
   "outputs": [
    {
     "name": "stdout",
     "output_type": "stream",
     "text": [
      "[1 2 3 4 5]\n",
      "int32\n"
     ]
    }
   ],
   "source": [
    "# Creating 4-Bytes Integers\n",
    "arr=np.array([1,2,3,4,5], dtype=\"i4\")\n",
    "print(arr)\n",
    "print(arr.dtype)"
   ]
  },
  {
   "cell_type": "markdown",
   "id": "feb31415-eca2-494a-866e-a63ecd7dacd2",
   "metadata": {},
   "source": [
    "# Numpy Array Shapes"
   ]
  },
  {
   "cell_type": "markdown",
   "id": "a4664164-907e-4c84-a6b4-fc16388e937b",
   "metadata": {},
   "source": [
    "the shape of an array is the number of element in each diamention"
   ]
  },
  {
   "cell_type": "markdown",
   "id": "fd4a7554-ebc2-4fe1-977a-2f4e605416fc",
   "metadata": {},
   "source": [
    "# Print the shape od 2-D array "
   ]
  },
  {
   "cell_type": "code",
   "execution_count": 44,
   "id": "1c6804d5-5973-408c-9429-a6acea803a4e",
   "metadata": {},
   "outputs": [
    {
     "name": "stdout",
     "output_type": "stream",
     "text": [
      "(2, 4)\n"
     ]
    }
   ],
   "source": [
    "arr= np.array([[1,2,3,4],[5,6,7,8]]) # 2--> 1-d & 4--->Element\n",
    "print(arr.shape)"
   ]
  },
  {
   "cell_type": "code",
   "execution_count": 21,
   "id": "be4117aa-a04e-4166-90d5-e8c901621b7a",
   "metadata": {},
   "outputs": [
    {
     "name": "stdout",
     "output_type": "stream",
     "text": [
      "[[[[1 2 3 4]]]]\n",
      "4\n",
      "\n",
      "(1, 1, 1, 4)\n"
     ]
    }
   ],
   "source": [
    "arr= np.array([1,2,3,4],ndmin=4)\n",
    "print(arr)\n",
    "print(arr.ndim)\n",
    "print()\n",
    "print(arr.shape)\n"
   ]
  },
  {
   "cell_type": "markdown",
   "id": "12f4613d-8f83-4603-83fa-92076691232b",
   "metadata": {},
   "source": [
    "# Reshape"
   ]
  },
  {
   "cell_type": "code",
   "execution_count": 30,
   "id": "6a4933b8-4c65-4c25-8a11-7d94fa5928f0",
   "metadata": {},
   "outputs": [
    {
     "name": "stdout",
     "output_type": "stream",
     "text": [
      "[1 2 3 4 5 6 7 8]\n",
      "1\n",
      "\n",
      "[[1 2]\n",
      " [3 4]\n",
      " [5 6]\n",
      " [7 8]]\n",
      "2\n"
     ]
    }
   ],
   "source": [
    "var= np.array([1,2,3,4,5,6,7,8])\n",
    "print(var)\n",
    "print(var.ndim)\n",
    "print()\n",
    "\n",
    "e=var.reshape(4,2)\n",
    "print(e)\n",
    "print(e.ndim)\n",
    "\n"
   ]
  },
  {
   "cell_type": "code",
   "execution_count": 31,
   "id": "5c71b883-fc34-4d5c-9d0f-0da7c46e844d",
   "metadata": {},
   "outputs": [
    {
     "name": "stdout",
     "output_type": "stream",
     "text": [
      "[ 1  2  3  4  5  6  7  8  9 10 11 12]\n",
      "1\n",
      "\n",
      "[[[ 1  2]\n",
      "  [ 3  4]\n",
      "  [ 5  6]]\n",
      "\n",
      " [[ 7  8]\n",
      "  [ 9 10]\n",
      "  [11 12]]]\n",
      "3\n"
     ]
    }
   ],
   "source": [
    "var1= np.array([1,2,3,4,5,6,7,8,9,10,11,12])\n",
    "print(var1)\n",
    "print(var1.ndim)\n",
    "print()\n",
    "\n",
    "e=var1.reshape(2,3,2)\n",
    "print(e)\n",
    "print(e.ndim)"
   ]
  },
  {
   "cell_type": "code",
   "execution_count": 33,
   "id": "49ca27b7-ec5c-433b-82be-13247eb11fdd",
   "metadata": {},
   "outputs": [
    {
     "name": "stdout",
     "output_type": "stream",
     "text": [
      "[ 1  2  3  4  5  6  7  8  9 10 11 12]\n",
      "1\n",
      "\n",
      "[[[ 1  2]\n",
      "  [ 3  4]\n",
      "  [ 5  6]]\n",
      "\n",
      " [[ 7  8]\n",
      "  [ 9 10]\n",
      "  [11 12]]]\n",
      "3\n",
      "\n",
      "[ 1  2  3  4  5  6  7  8  9 10 11 12]\n",
      "1\n"
     ]
    }
   ],
   "source": [
    "var3= np.array([1,2,3,4,5,6,7,8,9,10,11,12])\n",
    "print(var3)\n",
    "print(var3.ndim)\n",
    "print()\n",
    "\n",
    "x=var3.reshape(2,3,2)\n",
    "print(x)\n",
    "print(x.ndim)\n",
    "print()\n",
    "\n",
    "one=var3.reshape(-1)\n",
    "print(one)\n",
    "print(one.ndim)"
   ]
  },
  {
   "cell_type": "code",
   "execution_count": 45,
   "id": "528ac0bb-727d-4390-a066-c2139494ff5f",
   "metadata": {},
   "outputs": [
    {
     "name": "stdout",
     "output_type": "stream",
     "text": [
      "(1, 3, 4)\n"
     ]
    }
   ],
   "source": [
    "arr= np.array([[[1,2,3,4],[5,6,7,8],[9,10,11,12]]]) # 1--> 1-d , 3--->2-d, & 4--->Element\n",
    "print(arr.shape)"
   ]
  },
  {
   "cell_type": "markdown",
   "id": "5edf5e1a-e051-4064-879e-9feb57bcddcd",
   "metadata": {},
   "source": [
    "# Joining Numpy Array"
   ]
  },
  {
   "cell_type": "code",
   "execution_count": 46,
   "id": "4888c570-1f02-46b7-bdb1-835845970bd7",
   "metadata": {},
   "outputs": [
    {
     "name": "stdout",
     "output_type": "stream",
     "text": [
      "[1 2 3 4 5 6 7 8]\n"
     ]
    }
   ],
   "source": [
    "arr1 = np.array([1,2,3,4])\n",
    "arr2 = np.array([5,6,7,8])\n",
    "arr = np.concatenate((arr1, arr2))\n",
    "print(arr)"
   ]
  },
  {
   "cell_type": "code",
   "execution_count": 47,
   "id": "14be0351-2d9a-4c47-bd7f-d728555341f4",
   "metadata": {},
   "outputs": [
    {
     "name": "stdout",
     "output_type": "stream",
     "text": [
      "[[1 2 5 6]\n",
      " [3 4 7 8]]\n"
     ]
    }
   ],
   "source": [
    "arr1 = np.array([[1,2],[3,4]])\n",
    "arr2 = np.array([[5,6],[7,8]])\n",
    "arr = np.concatenate((arr1, arr2), axis=1)\n",
    "print(arr)"
   ]
  },
  {
   "cell_type": "code",
   "execution_count": 48,
   "id": "e7eff231-59d6-4c9f-99be-b71b0e261aee",
   "metadata": {},
   "outputs": [
    {
     "name": "stdout",
     "output_type": "stream",
     "text": [
      "[[1 2]\n",
      " [3 4]\n",
      " [5 6]\n",
      " [7 8]]\n"
     ]
    }
   ],
   "source": [
    "arr1 = np.array([[1,2],[3,4]])\n",
    "arr2 = np.array([[5,6],[7,8]])\n",
    "arr = np.concatenate((arr1, arr2), axis=0)\n",
    "print(arr)"
   ]
  },
  {
   "cell_type": "markdown",
   "id": "91f89eba-f867-467d-ba56-2538f34305ee",
   "metadata": {},
   "source": [
    "# Splitting Numpy Arrays"
   ]
  },
  {
   "cell_type": "markdown",
   "id": "3f4b7fe7-8981-4113-be01-f48d66ebf1e2",
   "metadata": {},
   "source": [
    " Splitting Array In 3 parts"
   ]
  },
  {
   "cell_type": "code",
   "execution_count": 49,
   "id": "1855105b-fae8-4e92-8d3d-2154fd4319e8",
   "metadata": {},
   "outputs": [
    {
     "name": "stdout",
     "output_type": "stream",
     "text": [
      "[array([1, 2]), array([3, 4]), array([5, 6])]\n"
     ]
    }
   ],
   "source": [
    "arr=np.array([1,2,3,4,5,6])\n",
    "newarr=np.array_split(arr,3)\n",
    "print(newarr)\n"
   ]
  },
  {
   "cell_type": "markdown",
   "id": "200056f7-8992-47aa-906d-b44efa3a3e58",
   "metadata": {},
   "source": [
    " Splitting Array In 4 parts"
   ]
  },
  {
   "cell_type": "code",
   "execution_count": 50,
   "id": "329a3819-23b0-4da7-95cf-01b1bd7f7db8",
   "metadata": {},
   "outputs": [
    {
     "name": "stdout",
     "output_type": "stream",
     "text": [
      "[array([1, 2]), array([3, 4]), array([5]), array([6])]\n"
     ]
    }
   ],
   "source": [
    "arr=np.array([1,2,3,4,5,6])\n",
    "newarr=np.array_split(arr,4)\n",
    "print(newarr)"
   ]
  },
  {
   "cell_type": "markdown",
   "id": "9bda04b5-622d-4e8c-bd5b-bb57ef739e5e",
   "metadata": {},
   "source": [
    "# ravel & Flatten"
   ]
  },
  {
   "cell_type": "code",
   "execution_count": null,
   "id": "7b446bed-9d56-43cb-9d02-af5979fdfeb6",
   "metadata": {},
   "outputs": [],
   "source": []
  },
  {
   "cell_type": "markdown",
   "id": "52505f21-1a8b-4148-92f2-3ee834a79d73",
   "metadata": {},
   "source": [
    "![](ss.JPG)"
   ]
  },
  {
   "cell_type": "code",
   "execution_count": 26,
   "id": "a864d028-83f8-478f-a763-77c020175664",
   "metadata": {},
   "outputs": [
    {
     "name": "stdout",
     "output_type": "stream",
     "text": [
      "[1 2 3 4 5 6]\n"
     ]
    }
   ],
   "source": [
    "v2= np.array([1,2,3,4,5,6,7,8])\n",
    "y=np.resize(v2,(3,2))\n",
    "\n",
    "print(y.flatten())"
   ]
  },
  {
   "cell_type": "code",
   "execution_count": 29,
   "id": "8521b37f-af52-4ee0-ad86-776be7d65fbf",
   "metadata": {},
   "outputs": [
    {
     "name": "stdout",
     "output_type": "stream",
     "text": [
      "[[1 2]\n",
      " [3 4]\n",
      " [5 6]]\n",
      "[1 3 5 2 4 6]\n"
     ]
    }
   ],
   "source": [
    "v= np.array([1,2,3,4,5,6,7,8])\n",
    "y=np.resize(v,(3,2))\n",
    "print(y)\n",
    "\n",
    "print(y.flatten(order=\"F\"))"
   ]
  },
  {
   "cell_type": "code",
   "execution_count": 30,
   "id": "27f48ab1-e177-4ab8-82f2-b8ab1bae743f",
   "metadata": {},
   "outputs": [
    {
     "name": "stdout",
     "output_type": "stream",
     "text": [
      "[[1 2]\n",
      " [3 4]\n",
      " [5 6]]\n",
      "[1 2 3 4 5 6]\n"
     ]
    }
   ],
   "source": [
    "v= np.array([1,2,3,4,5,6,7,8])\n",
    "y=np.resize(v,(3,2))\n",
    "print(y)\n",
    "\n",
    "print(y.flatten(order=\"c\"))"
   ]
  },
  {
   "cell_type": "code",
   "execution_count": 33,
   "id": "cc71906e-f7ae-4218-912a-f77dad1ad139",
   "metadata": {},
   "outputs": [
    {
     "name": "stdout",
     "output_type": "stream",
     "text": [
      "[[1 2]\n",
      " [3 4]\n",
      " [5 6]]\n",
      "Flatten: [1 2 3 4 5 6]\n",
      "ravel: [1 2 3 4 5 6]\n"
     ]
    }
   ],
   "source": [
    "\n",
    "v= np.array([1,2,3,4,5,6,7,8])\n",
    "y=np.resize(v,(3,2))\n",
    "print(y)\n",
    "\n",
    "print(\"Flatten:\",y.flatten(order=\"K\"))\n",
    "print(\"ravel:\",y.ravel(order=\"A\"))"
   ]
  },
  {
   "cell_type": "code",
   "execution_count": null,
   "id": "3c1e8880-39a0-4f3e-b675-b9d6ab65c626",
   "metadata": {},
   "outputs": [],
   "source": [
    "m=np.array([[[1,2,3],[4,5,6],[7,8,9]]])\n",
    "print(m)\n",
    "print(\"Diamention is:\",m.ndim)\n",
    "arr=m.ravel()\n",
    "print(arr)\n",
    "print(\"Diamention is:\",arr.ndim)\n"
   ]
  },
  {
   "cell_type": "code",
   "execution_count": 52,
   "id": "d9099973-2ef3-4ce0-8e8f-a2e129567aa3",
   "metadata": {},
   "outputs": [
    {
     "name": "stdout",
     "output_type": "stream",
     "text": [
      "[[[1 2 3]\n",
      "  [4 5 6]\n",
      "  [7 8 9]]]\n",
      "Diamention is: 3\n",
      "[1 2 3 4 5 6 7 8 9]\n",
      "now the new Diamention is: 1\n"
     ]
    }
   ],
   "source": [
    "m=np.array([[[1,2,3],[4,5,6],[7,8,9]]])\n",
    "print(m)\n",
    "print(\"Diamention is:\",m.ndim)\n",
    "arr=m.flatten()\n",
    "print(arr)\n",
    "print(\"now the new Diamention is:\",arr.ndim)"
   ]
  },
  {
   "cell_type": "code",
   "execution_count": 53,
   "id": "0dbc8882-2229-45d6-ad16-217888b6a7f1",
   "metadata": {},
   "outputs": [
    {
     "name": "stdout",
     "output_type": "stream",
     "text": [
      "[[[[ 1  2  3]\n",
      "   [46 85 96]\n",
      "   [47 78 39]]]]\n",
      "Diamention is: 4\n",
      "[ 1  2  3 46 85 96 47 78 39]\n",
      "Diamention is: 1\n"
     ]
    }
   ],
   "source": [
    "m=np.array([[[[1,2,3],[46,85,96],[47,78,39]]]])\n",
    "print(m)\n",
    "print(\"Diamention is:\",m.ndim)\n",
    "arr=m.ravel()\n",
    "print(arr)\n",
    "print(\"Diamention is:\",arr.ndim)"
   ]
  },
  {
   "cell_type": "code",
   "execution_count": 54,
   "id": "479fd1fa-efb3-469b-bb43-93eb5141a910",
   "metadata": {},
   "outputs": [
    {
     "name": "stdout",
     "output_type": "stream",
     "text": [
      "[[[[ 1  2  3]\n",
      "   [46 85 96]\n",
      "   [47 78 39]]]]\n",
      "Diamention is: 4\n",
      "[ 1  2  3 46 85 96 47 78 39]\n",
      "Diamention is: 1\n"
     ]
    }
   ],
   "source": [
    "m=np.array([[[[1,2,3],[46,85,96],[47,78,39]]]])\n",
    "print(m)\n",
    "print(\"Diamention is:\",m.ndim)\n",
    "arr=m.flatten()\n",
    "print(arr)\n",
    "print(\"Diamention is:\",arr.ndim)"
   ]
  },
  {
   "cell_type": "markdown",
   "id": "9723e843-454d-4422-84ee-6811d74e8c5a",
   "metadata": {},
   "source": [
    "# Unique Function"
   ]
  },
  {
   "cell_type": "code",
   "execution_count": 55,
   "id": "730fe2a5-1308-4172-8f3a-a6d1d7882809",
   "metadata": {},
   "outputs": [
    {
     "name": "stdout",
     "output_type": "stream",
     "text": [
      "[ 12   1   3  44   2   7   5   3   2 100  38  17  19   8   9   1   3]\n",
      "[  1   2   3   5   7   8   9  12  17  19  38  44 100]\n"
     ]
    }
   ],
   "source": [
    "k=np.array([12,1,3,44,2,7,5,3,2,100,38,17,19,8,9,1,3])\n",
    "print(k)\n",
    "x=np.unique(k)\n",
    "print(x)"
   ]
  },
  {
   "cell_type": "code",
   "execution_count": 56,
   "id": "6461982e-0ab0-4db9-9bad-7509ee2020b9",
   "metadata": {},
   "outputs": [
    {
     "name": "stdout",
     "output_type": "stream",
     "text": [
      "[ 12   1   3  44   2   7   5   3   2 100  38  17  19   8   9   1   3]\n",
      "(array([  1,   2,   3,   5,   7,   8,   9,  12,  17,  19,  38,  44, 100]), array([ 1,  4,  2,  6,  5, 13, 14,  0, 11, 12, 10,  3,  9]))\n"
     ]
    }
   ],
   "source": [
    "k=np.array([12,1,3,44,2,7,5,3,2,100,38,17,19,8,9,1,3])\n",
    "print(k)\n",
    "x=np.unique(k,return_index=True)\n",
    "print(x)"
   ]
  },
  {
   "cell_type": "code",
   "execution_count": 57,
   "id": "49cf0dec-554d-4baa-943f-5474eae2e95c",
   "metadata": {},
   "outputs": [
    {
     "name": "stdout",
     "output_type": "stream",
     "text": [
      "[ 12   1   3  44   2   7   5   3   2 100  38  17  19   8   9   1   3]\n",
      "(array([  1,   2,   3,   5,   7,   8,   9,  12,  17,  19,  38,  44, 100]), array([ 1,  4,  2,  6,  5, 13, 14,  0, 11, 12, 10,  3,  9]), array([2, 2, 3, 1, 1, 1, 1, 1, 1, 1, 1, 1, 1]))\n"
     ]
    }
   ],
   "source": [
    "k=np.array([12,1,3,44,2,7,5,3,2,100,38,17,19,8,9,1,3])\n",
    "print(k)\n",
    "x=np.unique(k,return_index=True,return_counts=True)\n",
    "print(x)"
   ]
  },
  {
   "cell_type": "markdown",
   "id": "08bdab62-60d9-4fb8-9f57-3fa1e1b0b11e",
   "metadata": {},
   "source": [
    "# Delete"
   ]
  },
  {
   "cell_type": "code",
   "execution_count": 58,
   "id": "5ba7bb8f-acfd-438d-8e74-e29ebe36df8b",
   "metadata": {},
   "outputs": [
    {
     "name": "stdout",
     "output_type": "stream",
     "text": [
      "(array([  1,   2,   3,   5,   7,   8,   9,  12,  17,  19,  38,  44, 100]), array([ 1,  4,  2,  6,  5, 13, 14,  0, 11, 12, 10,  3,  9]), array([2, 2, 3, 1, 1, 1, 1, 1, 1, 1, 1, 1, 1]))\n",
      "[[  1   2   3   5   7   8   9  12  17  19  38  44 100]\n",
      " [  2   2   3   1   1   1   1   1   1   1   1   1   1]]\n"
     ]
    }
   ],
   "source": [
    "a=np.array([1,2,3,4])\n",
    "print(x)\n",
    "m=np.delete(x,1,axis=0)\n",
    "print(m)"
   ]
  },
  {
   "cell_type": "code",
   "execution_count": 59,
   "id": "5c26f5a1-57e4-4368-b0d3-ac375e55d49e",
   "metadata": {},
   "outputs": [
    {
     "name": "stdout",
     "output_type": "stream",
     "text": [
      "[[ 1  2  3  4]\n",
      " [ 9 10 11 12]]\n"
     ]
    }
   ],
   "source": [
    "x=np.array([[1,2,3,4],[5,6,7,8],[9,10,11,12]])\n",
    "d= np.delete(x,1,axis=0)\n",
    "print(d)"
   ]
  },
  {
   "cell_type": "markdown",
   "id": "64065bb9-d0f0-44ff-af60-2c4f1fffb373",
   "metadata": {},
   "source": [
    "# Insert"
   ]
  },
  {
   "cell_type": "code",
   "execution_count": 37,
   "id": "bcca2207-d6a9-44ca-9836-c93654411679",
   "metadata": {},
   "outputs": [
    {
     "name": "stdout",
     "output_type": "stream",
     "text": [
      "[1 2 3 4 5 6 7]\n",
      "[  1   2 100   3   4   5   6   7]\n"
     ]
    }
   ],
   "source": [
    "var=np.array([1,2,3,4,5,6,7])\n",
    "print(var)\n",
    "z= np.insert(var,2,100)\n",
    "print(z)"
   ]
  },
  {
   "cell_type": "code",
   "execution_count": 39,
   "id": "6e5fcc50-67bd-46df-aa82-cec5a6392f3c",
   "metadata": {},
   "outputs": [
    {
     "name": "stdout",
     "output_type": "stream",
     "text": [
      "[1 2 3 4 5 6 7]\n",
      "[  1   2 100   3   4 100   5   6   7]\n"
     ]
    }
   ],
   "source": [
    "var=np.array([1,2,3,4,5,6,7])\n",
    "print(var)\n",
    "z= np.insert(var,(2,4),100)\n",
    "print(z)"
   ]
  },
  {
   "cell_type": "code",
   "execution_count": 40,
   "id": "5a1d76c4-3d87-4762-822e-7c4d65085497",
   "metadata": {},
   "outputs": [
    {
     "name": "stdout",
     "output_type": "stream",
     "text": [
      "[1 2 3 4 5 6 7]\n",
      "[1 2 6 3 4 6 5 6 7]\n"
     ]
    }
   ],
   "source": [
    "var=np.array([1,2,3,4,5,6,7])\n",
    "print(var)\n",
    "z= np.insert(var,(2,4),6.55) #can give float value\n",
    "print(z)"
   ]
  },
  {
   "cell_type": "code",
   "execution_count": 49,
   "id": "4bfda0f7-54d8-43aa-8276-ec4e4af10baa",
   "metadata": {},
   "outputs": [
    {
     "name": "stdout",
     "output_type": "stream",
     "text": [
      "[[1 2 3]\n",
      " [4 5 6]\n",
      " [9 9 9]]\n"
     ]
    }
   ],
   "source": [
    "var5=np.array([[1,2,3],[4,5,6]])\n",
    "#print(var5)\n",
    "z= np.insert(var5,2,9,axis=0)\n",
    "print(z)"
   ]
  },
  {
   "cell_type": "code",
   "execution_count": 6,
   "id": "ceea893d-eedb-454d-853d-8d71fb003fe9",
   "metadata": {},
   "outputs": [
    {
     "name": "stdout",
     "output_type": "stream",
     "text": [
      "[[ 1  2 22  3]\n",
      " [ 1  2 23  3]]\n"
     ]
    }
   ],
   "source": [
    "var6=np.array([[1,2,3],[1,2,3]])\n",
    "\n",
    "w= np.insert(var6,2,[22,23],axis=1)\n",
    "\n",
    "print(w)"
   ]
  },
  {
   "cell_type": "code",
   "execution_count": 8,
   "id": "dce3e87a-b70b-4f99-9f0a-679f43796f86",
   "metadata": {},
   "outputs": [
    {
     "name": "stdout",
     "output_type": "stream",
     "text": [
      "[[ 1  2  3]\n",
      " [ 1  2  3]\n",
      " [22 23 24]]\n"
     ]
    }
   ],
   "source": [
    "var6=np.array([[1,2,3],[1,2,3]])\n",
    "\n",
    "w= np.insert(var6,2,[22,23,24],axis=0)\n",
    "\n",
    "print(w)"
   ]
  },
  {
   "cell_type": "code",
   "execution_count": 12,
   "id": "944a5e1c-779c-4577-9411-e9dca86fd900",
   "metadata": {},
   "outputs": [
    {
     "name": "stdout",
     "output_type": "stream",
     "text": [
      "[ 1  2  3  4  5  8 66]\n"
     ]
    }
   ],
   "source": [
    "var7=np.array([[1,2,3,4,5,8]])\n",
    "\n",
    "#w= np.insert(var6,2,[22,23,24],axis=0)\n",
    "q=np.append(var7,66)\n",
    "\n",
    "print(q)"
   ]
  },
  {
   "cell_type": "code",
   "execution_count": 13,
   "id": "40aea5d2-1f69-43bf-aff1-2cf571e47f4e",
   "metadata": {},
   "outputs": [
    {
     "name": "stdout",
     "output_type": "stream",
     "text": [
      "[1.  2.  3.  4.  5.  8.  6.9]\n"
     ]
    }
   ],
   "source": [
    "var7=np.array([[1,2,3,4,5,8]])\n",
    "\n",
    "#w= np.insert(var6,2,[22,23,24],axis=0)\n",
    "q=np.append(var7,6.9)\n",
    "\n",
    "print(q)"
   ]
  },
  {
   "cell_type": "code",
   "execution_count": 15,
   "id": "9d39be77-395e-4bec-bbef-e4beba281316",
   "metadata": {},
   "outputs": [
    {
     "name": "stdout",
     "output_type": "stream",
     "text": [
      "[[ 1  2  3 23]\n",
      " [ 4  5  8 24]]\n"
     ]
    }
   ],
   "source": [
    "var7=np.array([[1,2,3],[4,5,8]])\n",
    "\n",
    "#w= np.insert(var6,2,[22,23,24],axis=0)\n",
    "q=np.append(var7,([[23],[24]]),axis=1)\n",
    "\n",
    "print(q)\n"
   ]
  },
  {
   "cell_type": "code",
   "execution_count": 19,
   "id": "b40805d5-1e35-491d-b54e-4877ff39c612",
   "metadata": {},
   "outputs": [
    {
     "name": "stdout",
     "output_type": "stream",
     "text": [
      "[[ 1  2  3]\n",
      " [ 4  5  8]\n",
      " [23 24 27]]\n"
     ]
    }
   ],
   "source": [
    "var7=np.array([[1,2,3],[4,5,8]])\n",
    "\n",
    "#w= np.insert(var6,2,[22,23,24],axis=0)\n",
    "q=np.append(var7,[[23,24,27]],axis=0)\n",
    "\n",
    "print(q)"
   ]
  },
  {
   "cell_type": "code",
   "execution_count": 11,
   "id": "fe619737-d5aa-4330-8f1e-c89acc4c1deb",
   "metadata": {},
   "outputs": [
    {
     "name": "stdout",
     "output_type": "stream",
     "text": [
      "[[ 1  2  3]\n",
      " [ 1  2  3]\n",
      " [40 90 70]]\n"
     ]
    }
   ],
   "source": [
    "var6=np.array([[1,2,3],[1,2,3]])\n",
    "\n",
    "#w= np.insert(var6,2,[22,23,24],axis=0)\n",
    "c=np.append(var6,[[40,90,70]],axis=0)\n",
    "\n",
    "print(c)"
   ]
  },
  {
   "cell_type": "markdown",
   "id": "16ce56d0-6e1b-4a8e-9e0f-86cdb4c8f3a3",
   "metadata": {},
   "source": [
    "# Search"
   ]
  },
  {
   "cell_type": "code",
   "execution_count": 61,
   "id": "91188016-21d3-4adb-9dcc-d684e652bf9b",
   "metadata": {},
   "outputs": [
    {
     "name": "stdout",
     "output_type": "stream",
     "text": [
      "(array([1]),)\n"
     ]
    }
   ],
   "source": [
    "var=np.array([1,2,3,1,5,6,7,1])\n",
    "x=np.where(var == 2)\n",
    "print(x)"
   ]
  },
  {
   "cell_type": "code",
   "execution_count": 66,
   "id": "7ea23002-b33d-4ef9-865a-a5756a3cc1b6",
   "metadata": {},
   "outputs": [
    {
     "name": "stdout",
     "output_type": "stream",
     "text": [
      "(array([], dtype=int64),)\n"
     ]
    }
   ],
   "source": [
    "var=np.array([4,2,3,1,5,6,7,1])\n",
    "x=np.where((var/2)== 0)# no number equal to 0\n",
    "print(x)"
   ]
  },
  {
   "cell_type": "code",
   "execution_count": 67,
   "id": "09d1b239-30d8-4e38-bf9a-7b7e36f3dda7",
   "metadata": {},
   "outputs": [
    {
     "name": "stdout",
     "output_type": "stream",
     "text": [
      "(array([0, 1, 5]),)\n"
     ]
    }
   ],
   "source": [
    "var=np.array([4,2,3,1,5,6,7,1])\n",
    "x=np.where((var%2)== 0)# no number equal to 0\n",
    "print(x)"
   ]
  },
  {
   "cell_type": "code",
   "execution_count": 72,
   "id": "f3bd2f71-394e-4a9a-b75b-cb7822f045a6",
   "metadata": {},
   "outputs": [
    {
     "name": "stdout",
     "output_type": "stream",
     "text": [
      "4\n"
     ]
    }
   ],
   "source": [
    "var1 =np.array([4,2,3,1,6,7,1])\n",
    "#index          0,1,2,3,4,5,6,7,8\n",
    "x = np.searchsorted(var1,5)\n",
    "print(x)"
   ]
  },
  {
   "cell_type": "code",
   "execution_count": 74,
   "id": "ef185afc-75e2-4980-bf6d-63c0f77e19e5",
   "metadata": {},
   "outputs": [
    {
     "name": "stdout",
     "output_type": "stream",
     "text": [
      "4\n"
     ]
    }
   ],
   "source": [
    "var1 =np.array([4,2,3,1,6,7,1,9,10])\n",
    "#index          0,1,2,3,4,5,6,7,8\n",
    "x = np.searchsorted(var1,5,side=\"right\")\n",
    "print(x)"
   ]
  },
  {
   "cell_type": "code",
   "execution_count": 78,
   "id": "923f253f-c29b-4a5c-b016-53192b9c3add",
   "metadata": {},
   "outputs": [
    {
     "name": "stdout",
     "output_type": "stream",
     "text": [
      "[4 5 6]\n"
     ]
    }
   ],
   "source": [
    "var1 =np.array([1,2,3,4,6,7,8,9,10])\n",
    "#index          0,1,2,3,4,5,6,7,8\n",
    "x = np.searchsorted(var1,[5,6,7],side=\"right\")\n",
    "print(x)"
   ]
  },
  {
   "cell_type": "code",
   "execution_count": 79,
   "id": "ffa5d6b4-dd39-4018-8d99-237dd05d4259",
   "metadata": {},
   "outputs": [
    {
     "name": "stdout",
     "output_type": "stream",
     "text": [
      "[4 4 4]\n"
     ]
    }
   ],
   "source": [
    "var1 =np.array([1,2,3,4,8,9,10])\n",
    "#index          0,1,2,3,4,5,6,7,8\n",
    "x = np.searchsorted(var1,[5,6,7],side=\"right\")\n",
    "print(x)"
   ]
  },
  {
   "cell_type": "markdown",
   "id": "8b91b7fb-433a-4557-8332-11b327bc596a",
   "metadata": {},
   "source": [
    "# Sort"
   ]
  },
  {
   "cell_type": "code",
   "execution_count": 81,
   "id": "afc5402d-9c22-4ee0-b3eb-d3938f39309d",
   "metadata": {},
   "outputs": [
    {
     "name": "stdout",
     "output_type": "stream",
     "text": [
      "[ 1  2  3  4  5  6  7  9 10]\n"
     ]
    }
   ],
   "source": [
    "var_1= np.array([1,4,2,3,5,7,9,6,10])\n",
    "\n",
    "print(np.sort(var_1))"
   ]
  },
  {
   "cell_type": "code",
   "execution_count": 83,
   "id": "019938a6-cf8d-4c06-b993-1e2baefe6c1f",
   "metadata": {},
   "outputs": [
    {
     "name": "stdout",
     "output_type": "stream",
     "text": [
      "['a' 'f' 's' 't']\n"
     ]
    }
   ],
   "source": [
    "var_2= np.array([\"a\",\"f\",\"t\",\"s\"])\n",
    "\n",
    "print(np.sort(var_2))"
   ]
  },
  {
   "cell_type": "code",
   "execution_count": 84,
   "id": "6a48f78f-09eb-4287-ad36-3b6f64faa1c6",
   "metadata": {},
   "outputs": [
    {
     "name": "stdout",
     "output_type": "stream",
     "text": [
      "[[ 1  2  4]\n",
      " [ 3  5  7]\n",
      " [ 6  9 10]]\n"
     ]
    }
   ],
   "source": [
    "var_3= np.array([[1,4,2],[3,5,7],[9,6,10]])\n",
    "\n",
    "print(np.sort(var_3))"
   ]
  },
  {
   "cell_type": "markdown",
   "id": "f76850ec-1f3e-4266-8534-5c32feed72a1",
   "metadata": {},
   "source": [
    "# Filter Array"
   ]
  },
  {
   "cell_type": "code",
   "execution_count": 9,
   "id": "298c84cd-351d-44f2-bd93-50eca7831981",
   "metadata": {},
   "outputs": [
    {
     "name": "stdout",
     "output_type": "stream",
     "text": [
      "['a' 't']\n",
      "<class 'numpy.ndarray'>\n"
     ]
    }
   ],
   "source": [
    "var_4= np.array([\"a\",\"f\",\"t\",\"s\"]) # print only True value\n",
    "\n",
    "f=[True,False,True,False]\n",
    "new_var= var_4[f]\n",
    "\n",
    "print(new_var)\n",
    "print(type(new_var))"
   ]
  },
  {
   "cell_type": "markdown",
   "id": "d09eed46-26a8-46bc-9a74-c51ddc06100a",
   "metadata": {},
   "source": [
    "# Shuffle "
   ]
  },
  {
   "cell_type": "code",
   "execution_count": 14,
   "id": "ba88a474-0f2b-43c8-806f-b3a15712b544",
   "metadata": {},
   "outputs": [
    {
     "name": "stdout",
     "output_type": "stream",
     "text": [
      "[6 1 4 8 7 3 2 5]\n"
     ]
    }
   ],
   "source": [
    "v= np.array([1,2,3,4,5,6,7,8])\n",
    "np.random.shuffle(v)\n",
    "print(v)"
   ]
  },
  {
   "cell_type": "markdown",
   "id": "4d94b6b3-ad34-418f-944c-c8bfa41301df",
   "metadata": {},
   "source": [
    "# Resize"
   ]
  },
  {
   "cell_type": "code",
   "execution_count": 18,
   "id": "d0799515-c75b-4b0b-ab40-d82e51e4ac6c",
   "metadata": {},
   "outputs": [
    {
     "name": "stdout",
     "output_type": "stream",
     "text": [
      "[[1 2 3]\n",
      " [4 5 6]]\n"
     ]
    }
   ],
   "source": [
    "v1= np.array([1,2,3,4,5,6,7,8])\n",
    "x=np.resize(v1,(2,3))\n",
    "print(x)"
   ]
  },
  {
   "cell_type": "code",
   "execution_count": 19,
   "id": "a9f3cd58-6a32-4a5a-8b49-982fec7dcf56",
   "metadata": {},
   "outputs": [
    {
     "name": "stdout",
     "output_type": "stream",
     "text": [
      "[[1 2]\n",
      " [3 4]\n",
      " [5 6]]\n"
     ]
    }
   ],
   "source": [
    "v2= np.array([1,2,3,4,5,6,7,8])\n",
    "x=np.resize(v2,(3,2))\n",
    "print(x)"
   ]
  },
  {
   "cell_type": "markdown",
   "id": "d37ea8b4-b8c1-4a71-8eb5-17546c5af782",
   "metadata": {},
   "source": [
    "# Arthimetic Operations\n"
   ]
  },
  {
   "cell_type": "code",
   "execution_count": 34,
   "id": "feff7755-b9b7-433f-93a8-f3aaa4564aa5",
   "metadata": {},
   "outputs": [
    {
     "name": "stdout",
     "output_type": "stream",
     "text": [
      "[4 5 6 7]\n"
     ]
    }
   ],
   "source": [
    "var=np.array([1,2,3,4])\n",
    "varadd= var +3\n",
    "print(varadd)"
   ]
  },
  {
   "cell_type": "code",
   "execution_count": 35,
   "id": "2b525492-810b-4199-ad56-30fa9230f1f4",
   "metadata": {},
   "outputs": [
    {
     "name": "stdout",
     "output_type": "stream",
     "text": [
      "[-2 -1  0  1]\n"
     ]
    }
   ],
   "source": [
    "var=np.array([1,2,3,4])\n",
    "varadd= var - 3\n",
    "print(varadd)"
   ]
  },
  {
   "cell_type": "code",
   "execution_count": 36,
   "id": "3cdd34e2-57d0-4179-85bb-20403b9efc22",
   "metadata": {},
   "outputs": [
    {
     "name": "stdout",
     "output_type": "stream",
     "text": [
      "[ 6  8 10 13]\n"
     ]
    }
   ],
   "source": [
    "var1=np.array([1,2,3,4])\n",
    "var2=np.array([5,6,7,9])\n",
    "\n",
    "\n",
    "varadd= var1 + var2\n",
    "print(varadd)"
   ]
  },
  {
   "cell_type": "code",
   "execution_count": 38,
   "id": "3dc61c40-b554-4fde-a5d6-9a61e83b9bf6",
   "metadata": {},
   "outputs": [
    {
     "name": "stdout",
     "output_type": "stream",
     "text": [
      "[ 5  6 -4 -5]\n"
     ]
    }
   ],
   "source": [
    "var1=np.array([10,12,3,4])\n",
    "var2=np.array([5,6,7,9])\n",
    "\n",
    "\n",
    "varadd= var1 - var2\n",
    "print(varadd)"
   ]
  },
  {
   "cell_type": "code",
   "execution_count": 39,
   "id": "3f9e8f66-e18b-416d-ab15-4b2eb7383546",
   "metadata": {},
   "outputs": [
    {
     "name": "stdout",
     "output_type": "stream",
     "text": [
      "[2.         2.         0.42857143 0.44444444]\n"
     ]
    }
   ],
   "source": [
    "var1=np.array([10,12,3,4])\n",
    "var2=np.array([5,6,7,9])\n",
    "\n",
    "\n",
    "varadd= var1 - var2\n",
    "print(varadd)"
   ]
  },
  {
   "cell_type": "code",
   "execution_count": 42,
   "id": "f6053882-4d31-4072-9acd-2acb8d57963b",
   "metadata": {},
   "outputs": [
    {
     "name": "stdout",
     "output_type": "stream",
     "text": [
      "[50 72 21 36]\n",
      "\n",
      "[0 0 3 4]\n"
     ]
    }
   ],
   "source": [
    "var1=np.array([10,12,3,4])\n",
    "var2=np.array([5,6,7,9])\n",
    "\n",
    "\n",
    "varadd= var1 * var2\n",
    "print(varadd)\n",
    "print()\n",
    "\n",
    "var1=np.array([10,12,3,4])\n",
    "var2=np.array([5,6,7,9])\n",
    "\n",
    "\n",
    "varadd= var1 % var2\n",
    "print(varadd)\n",
    "\n"
   ]
  },
  {
   "cell_type": "code",
   "execution_count": 43,
   "id": "fe45c74b-713d-4710-9196-2fd1a6a4e410",
   "metadata": {},
   "outputs": [
    {
     "name": "stdout",
     "output_type": "stream",
     "text": [
      "[1 2 0 1]\n"
     ]
    }
   ],
   "source": [
    "var=np.array([1,2,3,4])\n",
    "varadd= var % 3\n",
    "print(varadd)"
   ]
  },
  {
   "cell_type": "markdown",
   "id": "d14770b2-5228-473f-a520-d10720039b3b",
   "metadata": {},
   "source": [
    "![](pic.JPG)"
   ]
  },
  {
   "cell_type": "code",
   "execution_count": 57,
   "id": "3012fef2-9067-44b9-8ae2-e301b2ea8176",
   "metadata": {},
   "outputs": [
    {
     "name": "stdout",
     "output_type": "stream",
     "text": [
      "[15 18 10 13]\n",
      "[13 15  6  7]\n"
     ]
    }
   ],
   "source": [
    "var1=np.array([10,12,3,4])\n",
    "var2=np.array([5,6,7,9])\n",
    "\n",
    "\n",
    "varadd=np.add(var1,var2)\n",
    "print(varadd)\n",
    "\n",
    "var1=np.array([10,12,3,4])\n",
    "\n",
    "\n",
    "\n",
    "var=np.add(var1,3)\n",
    "print(var)\n"
   ]
  },
  {
   "cell_type": "code",
   "execution_count": 48,
   "id": "71790b07-3e24-4b7a-8c1c-426f7e7d69d4",
   "metadata": {},
   "outputs": [
    {
     "name": "stdout",
     "output_type": "stream",
     "text": [
      "[ 5  6 -4 -5]\n"
     ]
    }
   ],
   "source": [
    "var1=np.array([10,12,3,4])\n",
    "var2=np.array([5,6,7,9])\n",
    "\n",
    "\n",
    "varadd=np.subtract(var1,var2)\n",
    "print(varadd)\n"
   ]
  },
  {
   "cell_type": "code",
   "execution_count": 58,
   "id": "cafb1d83-0e1b-4353-bb20-3bf8cff3b550",
   "metadata": {},
   "outputs": [
    {
     "name": "stdout",
     "output_type": "stream",
     "text": [
      "multiply of var1 & var2:  [50 72 21 36]\n",
      "\n",
      "divide of var1 & var2:  [2.         2.         0.42857143 0.44444444]\n",
      "\n",
      "power of var1 & var2 [ 100000 2985984    2187  262144]\n",
      "\n",
      "modulus of var1 & var2 [0 0 3 4]\n",
      "\n",
      "reciprocal of var1 & var2 [0 0 0 0]\n"
     ]
    }
   ],
   "source": [
    "var1=np.array([10,12,3,4])\n",
    "var2=np.array([5,6,7,9])\n",
    "\n",
    "\n",
    "w=np.multiply(var1,var2)\n",
    "print(\"multiply of var1 & var2: \",w)\n",
    "print()\n",
    "\n",
    "z=np.divide(var1,var2)\n",
    "print(\"divide of var1 & var2: \",z)\n",
    "\n",
    "print()\n",
    "x=np.power(var1,var2)\n",
    "print(\"power of var1 & var2\",x)\n",
    "\n",
    "print()\n",
    "m=np.mod(var1,var2)\n",
    "print(\"modulus of var1 & var2\",m)\n",
    "\n",
    "print()\n",
    "v=np.reciprocal(var2)\n",
    "print(\"reciprocal of var1 & var2\",v)#[1 0 0 0]   # Because 1//2 = 0, 1//4 = 0, etc"
   ]
  },
  {
   "cell_type": "markdown",
   "id": "5cb50c1b-bda3-4306-bb70-e2a5c7aa16f7",
   "metadata": {},
   "source": [
    "# 2-D Array"
   ]
  },
  {
   "cell_type": "code",
   "execution_count": 62,
   "id": "6a1caa9d-a55f-4b41-9aa7-9e5427330204",
   "metadata": {},
   "outputs": [
    {
     "name": "stdout",
     "output_type": "stream",
     "text": [
      "[[1 2 3]\n",
      " [4 5 6]]\n",
      "\n",
      "[[1 2 3]\n",
      " [4 5 6]]\n",
      "\n",
      "[[ 2  4  6]\n",
      " [ 8 10 12]]\n"
     ]
    }
   ],
   "source": [
    "var1=np.array([[1,2,3],[4,5,6]])\n",
    "var2=np.array([[1,2,3],[4,5,6]])\n",
    "\n",
    "print(var1)\n",
    "print()\n",
    "\n",
    "print(var2)\n",
    "print()\n",
    "\n",
    "\n",
    "varadd1=np.add(var1,var2)\n",
    "print(varadd1)\n",
    "\n"
   ]
  },
  {
   "cell_type": "code",
   "execution_count": 63,
   "id": "12711910-89b1-4086-89f6-e5259fc6806b",
   "metadata": {},
   "outputs": [
    {
     "name": "stdout",
     "output_type": "stream",
     "text": [
      "[1 0 0 0]\n"
     ]
    }
   ],
   "source": [
    "var1=np.array([1,2,3,4])\n",
    "\n",
    "var=np.reciprocal(var1)\n",
    "print(var)"
   ]
  },
  {
   "cell_type": "markdown",
   "id": "618c5091-29e2-4fc4-b3a1-a2207c0f91b2",
   "metadata": {},
   "source": [
    "![](pic1.JPG)"
   ]
  },
  {
   "cell_type": "code",
   "execution_count": 69,
   "id": "cda8f5e6-1939-4f00-bcbc-855e14593202",
   "metadata": {},
   "outputs": [
    {
     "name": "stdout",
     "output_type": "stream",
     "text": [
      "Min: 1 Position of Min: 2\n",
      "Max: 36 Position of Max: 0\n",
      "square: [6.         1.73205081 1.         2.         2.23606798 2.82842712\n",
      " 2.44948974 2.64575131]\n"
     ]
    }
   ],
   "source": [
    "v1=np.array([36,3,1,4,5,8,6,7])\n",
    "\n",
    "print(\"Min:\",np.min(v1),\"Position of Min:\",np.argmin(v1))\n",
    "print(\"Max:\",np.max(v1),\"Position of Max:\",np.argmax(v1))\n",
    "print(\"square:\",np.sqrt(v1))\n",
    "\n",
    "\n",
    "\n",
    "\n"
   ]
  },
  {
   "cell_type": "code",
   "execution_count": 72,
   "id": "baab1a93-c471-43de-884c-67923f7926ec",
   "metadata": {},
   "outputs": [
    {
     "name": "stdout",
     "output_type": "stream",
     "text": [
      "[5 3 1 4]\n"
     ]
    }
   ],
   "source": [
    "v2=np.array([[36,3,1,4],[5,8,6,7]])\n",
    "\n",
    "print(np.min(v2,axis=0)) #axis=0 is column,axis=1 is row"
   ]
  },
  {
   "cell_type": "code",
   "execution_count": 73,
   "id": "15f9552d-d403-4a14-9be8-13dfa59d32bb",
   "metadata": {},
   "outputs": [
    {
     "name": "stdout",
     "output_type": "stream",
     "text": [
      "[1 5]\n"
     ]
    }
   ],
   "source": [
    "v2=np.array([[36,3,1,4],[5,8,6,7]])\n",
    "\n",
    "print(np.min(v2,axis=1)) #axis=0 is column,axis=1 is row"
   ]
  },
  {
   "cell_type": "code",
   "execution_count": 76,
   "id": "87516a39-11ba-4a14-9086-ae0dcb262db2",
   "metadata": {},
   "outputs": [
    {
     "name": "stdout",
     "output_type": "stream",
     "text": [
      "[-0.95892427  0.98935825 -0.2794155   0.6569866 ]\n",
      "[ 0.28366219 -0.14550003  0.96017029  0.75390225]\n",
      "[ 5 13 19 26]\n"
     ]
    }
   ],
   "source": [
    "v3=np.array([5,8,6,7])\n",
    "\n",
    "print(np.sin(v3))\n",
    "print(np.cos(v3))\n",
    "print(np.cumsum(v3))"
   ]
  },
  {
   "cell_type": "markdown",
   "id": "801d72a6-2cf5-47cc-8cbe-ff3e957c3191",
   "metadata": {},
   "source": [
    "# Broadcasting with NumPy Arrays"
   ]
  },
  {
   "cell_type": "markdown",
   "id": "5ccbba41-6af9-4ca7-86eb-3ea0387ac857",
   "metadata": {},
   "source": [
    "1. Same Diamension\n",
    "2. (1X3) (3X1)--->2nd Element of array is same or one array of 2nd element is 1  only right (3X1) in right element and 3X3 make array\n"
   ]
  },
  {
   "cell_type": "code",
   "execution_count": 77,
   "id": "be714f38-c944-4bc0-87a9-037e422a514f",
   "metadata": {},
   "outputs": [
    {
     "ename": "ValueError",
     "evalue": "operands could not be broadcast together with shapes (4,) (3,) ",
     "output_type": "error",
     "traceback": [
      "\u001b[1;31m---------------------------------------------------------------------------\u001b[0m",
      "\u001b[1;31mValueError\u001b[0m                                Traceback (most recent call last)",
      "Cell \u001b[1;32mIn[77], line 3\u001b[0m\n\u001b[0;32m      1\u001b[0m var1\u001b[38;5;241m=\u001b[39mnp\u001b[38;5;241m.\u001b[39marray([\u001b[38;5;241m1\u001b[39m,\u001b[38;5;241m2\u001b[39m,\u001b[38;5;241m3\u001b[39m,\u001b[38;5;241m4\u001b[39m])\n\u001b[0;32m      2\u001b[0m var2\u001b[38;5;241m=\u001b[39mnp\u001b[38;5;241m.\u001b[39marray([\u001b[38;5;241m1\u001b[39m,\u001b[38;5;241m2\u001b[39m,\u001b[38;5;241m3\u001b[39m])\n\u001b[1;32m----> 3\u001b[0m \u001b[38;5;28mprint\u001b[39m(var1\u001b[38;5;241m+\u001b[39mvar2)\n",
      "\u001b[1;31mValueError\u001b[0m: operands could not be broadcast together with shapes (4,) (3,) "
     ]
    }
   ],
   "source": [
    "var1=np.array([1,2,3,4])\n",
    "var2=np.array([1,2,3])\n",
    "\n",
    "print(var1+var2)"
   ]
  },
  {
   "cell_type": "code",
   "execution_count": 79,
   "id": "f07867ad-0c01-40b9-b18b-0ff808f9c804",
   "metadata": {},
   "outputs": [
    {
     "name": "stdout",
     "output_type": "stream",
     "text": [
      "(3,)\n",
      "\n",
      "[1 2 3]\n",
      "\n",
      "(3, 1)\n",
      "\n",
      "[[1]\n",
      " [2]\n",
      " [3]]\n",
      "\n",
      "[[2 3 4]\n",
      " [3 4 5]\n",
      " [4 5 6]]\n"
     ]
    }
   ],
   "source": [
    "var1=np.array([1,2,3])\n",
    "print(var1.shape)\n",
    "print()\n",
    "\n",
    "print(var1)\n",
    "print()\n",
    "\n",
    "var2=np.array([[1],[2],[3]])\n",
    "print(var2.shape)\n",
    "print()\n",
    "print(var2)\n",
    "print()\n",
    "\n",
    "print(var1+var2)\n"
   ]
  },
  {
   "cell_type": "code",
   "execution_count": 85,
   "id": "a68dfa13-ec17-4259-8b14-77142c25af38",
   "metadata": {},
   "outputs": [
    {
     "name": "stdout",
     "output_type": "stream",
     "text": [
      "(2, 1)\n",
      "(2, 3)\n",
      "\n",
      "[[2 3 4]\n",
      " [6 7 8]]\n"
     ]
    }
   ],
   "source": [
    "x=np.array([[1],[2]])\n",
    "print(x.shape)\n",
    "\n",
    "y=np.array([[1,2,3],[4,5,6]])\n",
    "print(y.shape)\n",
    "print()\n",
    "\n",
    "print(x+y)"
   ]
  },
  {
   "cell_type": "markdown",
   "id": "7ce77560-acd6-4042-8327-62eadda609bd",
   "metadata": {},
   "source": [
    "# NumPy Array Iterating"
   ]
  },
  {
   "cell_type": "code",
   "execution_count": 86,
   "id": "924c0f8b-da72-40b1-85ad-098636d11066",
   "metadata": {},
   "outputs": [
    {
     "name": "stdout",
     "output_type": "stream",
     "text": [
      "[1 2 3 4]\n",
      "\n",
      "1\n",
      "2\n",
      "3\n",
      "4\n"
     ]
    }
   ],
   "source": [
    "var=np.array([1,2,3,4])\n",
    "print(var)\n",
    "print()\n",
    "for i in var:\n",
    "    print(i)\n",
    "\n",
    "\n",
    "    "
   ]
  },
  {
   "cell_type": "code",
   "execution_count": 88,
   "id": "be71dbce-8333-4c55-ad57-5f59b6d6796f",
   "metadata": {},
   "outputs": [
    {
     "name": "stdout",
     "output_type": "stream",
     "text": [
      "[[1 2 3 4]\n",
      " [5 6 7 8]]\n",
      "\n",
      "[1 2 3 4]\n",
      "[5 6 7 8]\n",
      "\n",
      "1\n",
      "2\n",
      "3\n",
      "4\n",
      "5\n",
      "6\n",
      "7\n",
      "8\n"
     ]
    }
   ],
   "source": [
    "var1=np.array([[1,2,3,4],[5,6,7,8]])\n",
    "print(var1)\n",
    "print()\n",
    "\n",
    "for j in var1:\n",
    "    print(j)\n",
    "\n",
    "print()\n",
    "for k in var1:\n",
    "    for l in k:\n",
    "        print(l)"
   ]
  },
  {
   "cell_type": "code",
   "execution_count": 90,
   "id": "4e89e62e-faf3-44b5-b134-c0491ffa30a5",
   "metadata": {},
   "outputs": [
    {
     "name": "stdout",
     "output_type": "stream",
     "text": [
      "[[[ 9  6 12  4]\n",
      "  [ 5  6  7  8]]]\n",
      "\n",
      "9\n",
      "6\n",
      "12\n",
      "4\n",
      "5\n",
      "6\n",
      "7\n",
      "8\n"
     ]
    }
   ],
   "source": [
    "var3=np.array([[[9,6,12,4],[5,6,7,8]]])\n",
    "print(var3)\n",
    "print()\n",
    "\n",
    "for i in var3:\n",
    "    for j in i:\n",
    "        for k in j:\n",
    "            print(k)\n",
    "    \n"
   ]
  },
  {
   "cell_type": "code",
   "execution_count": 92,
   "id": "b8394e50-a9ec-4c11-a93c-5b8ed7e6176c",
   "metadata": {},
   "outputs": [
    {
     "name": "stdout",
     "output_type": "stream",
     "text": [
      "[[[ 9  6 12  4]\n",
      "  [ 5  6  7  8]]]\n",
      "\n",
      "9\n",
      "6\n",
      "12\n",
      "4\n",
      "5\n",
      "6\n",
      "7\n",
      "8\n"
     ]
    }
   ],
   "source": [
    "var3=np.array([[[9,6,12,4],[5,6,7,8]]])\n",
    "print(var3)\n",
    "print()\n",
    "\n",
    "for i in np.nditer(var3):\n",
    "    print(i)"
   ]
  },
  {
   "cell_type": "code",
   "execution_count": 4,
   "id": "aae5f082-8f1b-44d5-80af-6e528d16aca7",
   "metadata": {},
   "outputs": [
    {
     "name": "stdout",
     "output_type": "stream",
     "text": [
      "[[[ 9  6 12  4]\n",
      "  [ 5  6  7  8]]]\n",
      "\n",
      "np.bytes_(b'9')\n",
      "np.bytes_(b'6')\n",
      "np.bytes_(b'12')\n",
      "np.bytes_(b'4')\n",
      "np.bytes_(b'5')\n",
      "np.bytes_(b'6')\n",
      "np.bytes_(b'7')\n",
      "np.bytes_(b'8')\n"
     ]
    }
   ],
   "source": [
    "import numpy as np\n",
    "var3=np.array([[[9,6,12,4],[5,6,7,8]]])\n",
    "print(var3)\n",
    "print()\n",
    "\n",
    "for i in np.nditer(var3,flags=[\"buffered\"],op_dtypes=\"S\"):\n",
    "    print(i)"
   ]
  },
  {
   "cell_type": "code",
   "execution_count": 9,
   "id": "542dbc05-2cdf-49d1-807c-acfe91bed923",
   "metadata": {},
   "outputs": [],
   "source": [
    "import numpy as np"
   ]
  },
  {
   "cell_type": "code",
   "execution_count": 10,
   "id": "5b47a9a3-4321-4256-a423-33786923a45a",
   "metadata": {},
   "outputs": [
    {
     "name": "stdout",
     "output_type": "stream",
     "text": [
      "[[[ 9  6 12  4]\n",
      "  [ 5  6  7  8]]]\n",
      "\n",
      "index: (0, 0, 0) Data: 9\n",
      "index: (0, 0, 1) Data: 6\n",
      "index: (0, 0, 2) Data: 12\n",
      "index: (0, 0, 3) Data: 4\n",
      "index: (0, 1, 0) Data: 5\n",
      "index: (0, 1, 1) Data: 6\n",
      "index: (0, 1, 2) Data: 7\n",
      "index: (0, 1, 3) Data: 8\n"
     ]
    }
   ],
   "source": [
    "\n",
    "var3=np.array([[[9,6,12,4],[5,6,7,8]]])\n",
    "print(var3)\n",
    "print()\n",
    "\n",
    "for i,d in np.ndenumerate(var3):\n",
    "    print(\"index:\",i,\"Data:\",d)"
   ]
  },
  {
   "cell_type": "markdown",
   "id": "19cbb71a-cd0b-4dd4-b7cf-afb5e65daacb",
   "metadata": {},
   "source": [
    "# The Difference Between Copy and View"
   ]
  },
  {
   "cell_type": "markdown",
   "id": "126785df-2715-4cb0-b0bb-a23fdafd49ee",
   "metadata": {},
   "source": [
    "![](Pic2.jpeg)"
   ]
  },
  {
   "cell_type": "code",
   "execution_count": 16,
   "id": "fb82122c-76bd-47b1-a194-6329a44354b5",
   "metadata": {},
   "outputs": [
    {
     "name": "stdout",
     "output_type": "stream",
     "text": [
      "Var: [1 2 3 4]\n",
      "Copy: [1 2 3 4]\n"
     ]
    }
   ],
   "source": [
    "var= np.array([1,2,3,4])\n",
    "print(\"Var:\",var)\n",
    "x=var.copy()\n",
    "print(\"Copy:\",x)"
   ]
  },
  {
   "cell_type": "code",
   "execution_count": 17,
   "id": "65fefd7b-5329-4de8-ba30-000817161d18",
   "metadata": {},
   "outputs": [
    {
     "name": "stdout",
     "output_type": "stream",
     "text": [
      "Var: [1 2 3 4]\n",
      "Veiw: [1 2 3 4]\n"
     ]
    }
   ],
   "source": [
    "var1= np.array([1,2,3,4])\n",
    "print(\"Var:\",var1)\n",
    "x=var1.view()\n",
    "print(\"Veiw:\",x)"
   ]
  },
  {
   "cell_type": "code",
   "execution_count": 19,
   "id": "0841056d-7f4a-4455-a160-bd5ef3f95088",
   "metadata": {},
   "outputs": [
    {
     "name": "stdout",
     "output_type": "stream",
     "text": [
      "Var: [  1 100   3   4]\n",
      "Copy: [1 2 3 4]\n"
     ]
    }
   ],
   "source": [
    "var= np.array([1,2,3,4])\n",
    "\n",
    "x=var.copy()\n",
    "\n",
    "var[1]=100\n",
    "\n",
    "\n",
    "print(\"Var:\",var)\n",
    "print(\"Copy:\",x)"
   ]
  },
  {
   "cell_type": "code",
   "execution_count": 20,
   "id": "583ca08d-7ed4-4369-b923-087754101fdc",
   "metadata": {},
   "outputs": [
    {
     "name": "stdout",
     "output_type": "stream",
     "text": [
      "Var: [ 1 40  3  4]\n",
      "Copy: [ 1 40  3  4]\n"
     ]
    }
   ],
   "source": [
    "var= np.array([1,2,3,4])\n",
    "\n",
    "x=var.view()\n",
    "\n",
    "var[1]=40\n",
    "\n",
    "\n",
    "print(\"Var:\",var)\n",
    "print(\"Copy:\",x)"
   ]
  },
  {
   "cell_type": "markdown",
   "id": "164f2a5b-d236-446b-9163-1d218157f10f",
   "metadata": {},
   "source": [
    "#  Matrix"
   ]
  },
  {
   "cell_type": "code",
   "execution_count": 21,
   "id": "0c8c7f13-7231-431e-92ef-7e6a1ce6f87e",
   "metadata": {},
   "outputs": [
    {
     "name": "stdout",
     "output_type": "stream",
     "text": [
      "[1 2 3 4 5]\n",
      "<class 'numpy.ndarray'>\n"
     ]
    }
   ],
   "source": [
    "var=np.array([1,2,3,4,5])\n",
    "print(var)\n",
    "print(type(var))\n"
   ]
  },
  {
   "cell_type": "code",
   "execution_count": 22,
   "id": "ea76f27b-ca7d-4191-beb8-d83c0a1c9c99",
   "metadata": {},
   "outputs": [
    {
     "name": "stdout",
     "output_type": "stream",
     "text": [
      "[[1 2 3 4 5]]\n",
      "<class 'numpy.matrix'>\n"
     ]
    }
   ],
   "source": [
    "var1=np.matrix([1,2,3,4,5])\n",
    "print(var1)\n",
    "print(type(var1))"
   ]
  },
  {
   "cell_type": "code",
   "execution_count": 24,
   "id": "e34915bd-dcc4-40e6-97da-3dba0e6819df",
   "metadata": {},
   "outputs": [
    {
     "name": "stdout",
     "output_type": "stream",
     "text": [
      "[[1 2]\n",
      " [4 5]]\n",
      "<class 'numpy.matrix'>\n",
      "[[ 2  4]\n",
      " [ 8 10]]\n"
     ]
    }
   ],
   "source": [
    "var1=np.matrix([[1,2],[4,5]])\n",
    "var2=np.matrix([[1,2],[4,5]])\n",
    "\n",
    "print(var1)\n",
    "print(type(var1))\n",
    "print(var1+var2)\n"
   ]
  },
  {
   "cell_type": "code",
   "execution_count": 25,
   "id": "57467339-8720-4c09-a2a0-ef8d21707d0e",
   "metadata": {},
   "outputs": [
    {
     "name": "stdout",
     "output_type": "stream",
     "text": [
      "[[1 2]\n",
      " [4 5]]\n",
      "<class 'numpy.matrix'>\n",
      "[[0 0]\n",
      " [0 0]]\n"
     ]
    }
   ],
   "source": [
    "var1=np.matrix([[1,2],[4,5]])\n",
    "var2=np.matrix([[1,2],[4,5]])\n",
    "\n",
    "print(var1)\n",
    "print(type(var1))\n",
    "print(var1-var2)"
   ]
  },
  {
   "cell_type": "code",
   "execution_count": 29,
   "id": "d0744876-b98e-40d2-942f-a0253e901abe",
   "metadata": {},
   "outputs": [
    {
     "name": "stdout",
     "output_type": "stream",
     "text": [
      "[[1 2]\n",
      " [4 5]]\n",
      "<class 'numpy.matrix'>\n",
      "\n",
      "[[ 9 12]\n",
      " [24 33]]\n",
      "\n",
      "[[ 9 12]\n",
      " [24 33]]\n"
     ]
    }
   ],
   "source": [
    "var1=np.matrix([[1,2],[4,5]])\n",
    "var2=np.matrix([[1,2],[4,5]])\n",
    "\n",
    "print(var1)\n",
    "print(type(var1))\n",
    "print()\n",
    "print(var1*var2) # if multiply matrix is same boardcast(same size)\n",
    "print()\n",
    "print(var1.dot(var2))"
   ]
  },
  {
   "cell_type": "code",
   "execution_count": 32,
   "id": "7aa19cf9-ad61-45a6-8414-a1b5df749c96",
   "metadata": {},
   "outputs": [
    {
     "name": "stdout",
     "output_type": "stream",
     "text": [
      "\n",
      "[[30 36 42]\n",
      " [66 81 96]]\n"
     ]
    }
   ],
   "source": [
    "var1=np.matrix([[1,2,3],[4,5,6]])\n",
    "var2=np.matrix([[1,2,3],[4,5,6],[7,8,9]])\n",
    "\n",
    "\n",
    "# if multiply matrix is same boardcast(same size)\n",
    "# to multiply A.dot(B), the number of columns in A must equal the number of rows in B.\n",
    "print()\n",
    "print(var1.dot(var2))"
   ]
  },
  {
   "cell_type": "markdown",
   "id": "fc1c7e36-ac69-4913-9616-21f17007bccb",
   "metadata": {},
   "source": [
    "# Matrix Function\n"
   ]
  },
  {
   "cell_type": "markdown",
   "id": "3467dd58-fead-4ee0-89d7-d82104cf846e",
   "metadata": {},
   "source": [
    "![](pic3.jpg)"
   ]
  },
  {
   "cell_type": "code",
   "execution_count": 34,
   "id": "cfed06ff-7c1a-46de-a9e4-9c12257f676b",
   "metadata": {},
   "outputs": [
    {
     "name": "stdout",
     "output_type": "stream",
     "text": [
      "[[1 2 3]\n",
      " [4 5 6]]\n",
      "\n",
      "[[1 4]\n",
      " [2 5]\n",
      " [3 6]]\n",
      "\n",
      "[[1 4]\n",
      " [2 5]\n",
      " [3 6]]\n"
     ]
    }
   ],
   "source": [
    "var1=np.matrix([[1,2,3],[4,5,6]])\n",
    "\n",
    "print(var1)\n",
    "print()\n",
    "\n",
    "\n",
    "print(np.transpose(var1))\n",
    "print()\n",
    "\n",
    "print(var1.T)"
   ]
  },
  {
   "cell_type": "code",
   "execution_count": 36,
   "id": "d4eadfdf-f05a-4561-99f0-dc5cccdfd4ae",
   "metadata": {},
   "outputs": [
    {
     "name": "stdout",
     "output_type": "stream",
     "text": [
      "[[1 2 3]\n",
      " [4 5 6]]\n",
      "\n",
      "[[1 4]\n",
      " [2 5]\n",
      " [3 6]]\n",
      "\n"
     ]
    }
   ],
   "source": [
    "var2=np.matrix([[1,2,3],[4,5,6]])\n",
    "\n",
    "print(var2)\n",
    "print()\n",
    "\n",
    "\n",
    "print(np.swapaxes(var2,0,1))\n",
    "print()"
   ]
  },
  {
   "cell_type": "code",
   "execution_count": 38,
   "id": "ee4cd5ba-fa64-4244-bf6e-8a66291c315a",
   "metadata": {},
   "outputs": [
    {
     "name": "stdout",
     "output_type": "stream",
     "text": [
      "[[1 2]\n",
      " [4 5]]\n",
      "\n",
      "[[1 4]\n",
      " [2 5]]\n",
      "\n"
     ]
    }
   ],
   "source": [
    "var3=np.matrix([[1,2],[4,5]])\n",
    "\n",
    "print(var3)\n",
    "print()\n",
    "\n",
    "print(np.swapaxes(var3,0,1))\n",
    "print()\n"
   ]
  },
  {
   "cell_type": "code",
   "execution_count": 40,
   "id": "2c3ce73a-4a06-4162-867d-5df58e6d6bd7",
   "metadata": {},
   "outputs": [
    {
     "name": "stdout",
     "output_type": "stream",
     "text": [
      "[[1 2]\n",
      " [3 4]]\n",
      "\n",
      "[[-2.   1. ]\n",
      " [ 1.5 -0.5]]\n",
      "\n"
     ]
    }
   ],
   "source": [
    "var3=np.matrix([[1,2],[3,4]])\n",
    "\n",
    "print(var3)\n",
    "print()\n",
    "\n",
    "print(np.linalg.inv(var3))\n",
    "print()"
   ]
  },
  {
   "cell_type": "code",
   "execution_count": 41,
   "id": "53b60219-b6e1-4c6b-a061-10eb8503d82d",
   "metadata": {},
   "outputs": [
    {
     "name": "stdout",
     "output_type": "stream",
     "text": [
      "[[1 2]\n",
      " [3 4]]\n",
      "\n",
      "[[ 7 10]\n",
      " [15 22]]\n",
      "\n"
     ]
    }
   ],
   "source": [
    "var4=np.matrix([[1,2],[3,4]])\n",
    "\n",
    "print(var4)\n",
    "print()\n",
    "\n",
    "print(np.linalg.matrix_power(var4,2))\n",
    "print()"
   ]
  },
  {
   "cell_type": "code",
   "execution_count": 42,
   "id": "ab8f8c1e-ab7b-4668-85e5-f9a133770143",
   "metadata": {},
   "outputs": [
    {
     "name": "stdout",
     "output_type": "stream",
     "text": [
      "[[1 2]\n",
      " [3 4]]\n",
      "\n",
      "[[1 0]\n",
      " [0 1]]\n",
      "\n"
     ]
    }
   ],
   "source": [
    "var5=np.matrix([[1,2],[3,4]])\n",
    "\n",
    "print(var5)\n",
    "print()\n",
    "\n",
    "print(np.linalg.matrix_power(var5,0))\n",
    "print()"
   ]
  },
  {
   "cell_type": "code",
   "execution_count": 44,
   "id": "e02ea7a7-7b8d-4b3e-b17f-e0733ba38314",
   "metadata": {},
   "outputs": [
    {
     "name": "stdout",
     "output_type": "stream",
     "text": [
      "[[1 2]\n",
      " [3 4]]\n",
      "\n",
      "[[ 5.5  -2.5 ]\n",
      " [-3.75  1.75]]\n",
      "\n"
     ]
    }
   ],
   "source": [
    "var6=np.matrix([[1,2],[3,4]])\n",
    "\n",
    "print(var6)\n",
    "print()\n",
    "\n",
    "print(np.linalg.matrix_power(var6,-2))\n",
    "print()"
   ]
  },
  {
   "cell_type": "code",
   "execution_count": 46,
   "id": "eea05a25-5f3a-4108-ab4c-6a1207a9c618",
   "metadata": {},
   "outputs": [
    {
     "name": "stdout",
     "output_type": "stream",
     "text": [
      "[[1 2]\n",
      " [3 4]]\n",
      "\n",
      "-2.0000000000000004\n",
      "\n"
     ]
    }
   ],
   "source": [
    "var7=np.matrix([[1,2],[3,4]])\n",
    "\n",
    "print(var7)\n",
    "print()\n",
    "\n",
    "print(np.linalg.det(var7))\n",
    "print()"
   ]
  },
  {
   "cell_type": "code",
   "execution_count": 50,
   "id": "a24fbbab-db23-4ad9-9364-c9f6f5db8af8",
   "metadata": {},
   "outputs": [
    {
     "name": "stdout",
     "output_type": "stream",
     "text": [
      "[[1 2 3]\n",
      " [3 4 6]\n",
      " [1 2 3]]\n",
      "\n",
      "0.0\n",
      "\n"
     ]
    }
   ],
   "source": [
    "var8=np.matrix([[1,2,3],[3,4,6],[1,2,3]])\n",
    "\n",
    "print(var8)\n",
    "print()\n",
    "\n",
    "print(np.linalg.det(var8))# zero beacause 2 rows is same\n",
    "print()"
   ]
  },
  {
   "cell_type": "code",
   "execution_count": null,
   "id": "29d6189d-0383-47a8-b5ec-7ad1534fc22b",
   "metadata": {},
   "outputs": [],
   "source": []
  }
 ],
 "metadata": {
  "kernelspec": {
   "display_name": "Python 3 (ipykernel)",
   "language": "python",
   "name": "python3"
  },
  "language_info": {
   "codemirror_mode": {
    "name": "ipython",
    "version": 3
   },
   "file_extension": ".py",
   "mimetype": "text/x-python",
   "name": "python",
   "nbconvert_exporter": "python",
   "pygments_lexer": "ipython3",
   "version": "3.13.5"
  }
 },
 "nbformat": 4,
 "nbformat_minor": 5
}
